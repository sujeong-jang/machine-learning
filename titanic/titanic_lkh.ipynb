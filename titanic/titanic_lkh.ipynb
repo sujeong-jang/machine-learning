{
 "cells": [
  {
   "cell_type": "markdown",
   "id": "strategic-marketing",
   "metadata": {},
   "source": [
    "\n",
    "# 1. Defining the problem statement\n",
    "Complete the analysis of what sorts of people were likely to survive.\n",
    "In particular, we ask you to apply the tools of machine learning to predict which passengers survived the Titanic tragedy.\n"
   ]
  },
  {
   "cell_type": "code",
   "execution_count": 1,
   "id": "oriented-shannon",
   "metadata": {},
   "outputs": [],
   "source": [
    "\n",
    "import numpy as np\n",
    "import pandas as pd\n",
    "import matplotlib.pyplot as plt\n",
    "import seaborn as sns\n",
    "\n",
    "import warnings\n",
    "warnings.filterwarnings(action='ignore')"
   ]
  },
  {
   "cell_type": "markdown",
   "id": "utility-atmosphere",
   "metadata": {},
   "source": [
    "# 2. Collecting the data"
   ]
  },
  {
   "cell_type": "code",
   "execution_count": 2,
   "id": "worldwide-volume",
   "metadata": {},
   "outputs": [],
   "source": [
    "# 주어진 데이터를 훈련하기 위해 데이터를 download\\\n",
    "train = pd.read_csv('train.csv')\n",
    "test = pd.read_csv('test.csv')\n",
    "sub_df = pd.read_csv('gender_submission.csv')"
   ]
  },
  {
   "cell_type": "markdown",
   "id": "alternate-indonesian",
   "metadata": {},
   "source": [
    "# 3. EDA(Exploratory Data Analysis) & Data Preprocessing\n",
    "## df :데이터 셋 확인\n",
    "* shape(row*col), info():피쳐이름,타입 ,  head():데이터샘플"
   ]
  },
  {
   "cell_type": "code",
   "execution_count": 3,
   "id": "synthetic-appearance",
   "metadata": {},
   "outputs": [
    {
     "name": "stdout",
     "output_type": "stream",
     "text": [
      "<class 'pandas.core.frame.DataFrame'>\n",
      "RangeIndex: 891 entries, 0 to 890\n",
      "Data columns (total 12 columns):\n",
      " #   Column       Non-Null Count  Dtype  \n",
      "---  ------       --------------  -----  \n",
      " 0   PassengerId  891 non-null    int64  \n",
      " 1   Survived     891 non-null    int64  \n",
      " 2   Pclass       891 non-null    int64  \n",
      " 3   Name         891 non-null    object \n",
      " 4   Sex          891 non-null    object \n",
      " 5   Age          714 non-null    float64\n",
      " 6   SibSp        891 non-null    int64  \n",
      " 7   Parch        891 non-null    int64  \n",
      " 8   Ticket       891 non-null    object \n",
      " 9   Fare         891 non-null    float64\n",
      " 10  Cabin        204 non-null    object \n",
      " 11  Embarked     889 non-null    object \n",
      "dtypes: float64(2), int64(5), object(5)\n",
      "memory usage: 83.7+ KB\n"
     ]
    },
    {
     "data": {
      "text/html": [
       "<div>\n",
       "<style scoped>\n",
       "    .dataframe tbody tr th:only-of-type {\n",
       "        vertical-align: middle;\n",
       "    }\n",
       "\n",
       "    .dataframe tbody tr th {\n",
       "        vertical-align: top;\n",
       "    }\n",
       "\n",
       "    .dataframe thead th {\n",
       "        text-align: right;\n",
       "    }\n",
       "</style>\n",
       "<table border=\"1\" class=\"dataframe\">\n",
       "  <thead>\n",
       "    <tr style=\"text-align: right;\">\n",
       "      <th></th>\n",
       "      <th>PassengerId</th>\n",
       "      <th>Survived</th>\n",
       "      <th>Pclass</th>\n",
       "      <th>Name</th>\n",
       "      <th>Sex</th>\n",
       "      <th>Age</th>\n",
       "      <th>SibSp</th>\n",
       "      <th>Parch</th>\n",
       "      <th>Ticket</th>\n",
       "      <th>Fare</th>\n",
       "      <th>Cabin</th>\n",
       "      <th>Embarked</th>\n",
       "    </tr>\n",
       "  </thead>\n",
       "  <tbody>\n",
       "    <tr>\n",
       "      <th>0</th>\n",
       "      <td>1</td>\n",
       "      <td>0</td>\n",
       "      <td>3</td>\n",
       "      <td>Braund, Mr. Owen Harris</td>\n",
       "      <td>male</td>\n",
       "      <td>22.0</td>\n",
       "      <td>1</td>\n",
       "      <td>0</td>\n",
       "      <td>A/5 21171</td>\n",
       "      <td>7.2500</td>\n",
       "      <td>NaN</td>\n",
       "      <td>S</td>\n",
       "    </tr>\n",
       "    <tr>\n",
       "      <th>1</th>\n",
       "      <td>2</td>\n",
       "      <td>1</td>\n",
       "      <td>1</td>\n",
       "      <td>Cumings, Mrs. John Bradley (Florence Briggs Th...</td>\n",
       "      <td>female</td>\n",
       "      <td>38.0</td>\n",
       "      <td>1</td>\n",
       "      <td>0</td>\n",
       "      <td>PC 17599</td>\n",
       "      <td>71.2833</td>\n",
       "      <td>C85</td>\n",
       "      <td>C</td>\n",
       "    </tr>\n",
       "    <tr>\n",
       "      <th>2</th>\n",
       "      <td>3</td>\n",
       "      <td>1</td>\n",
       "      <td>3</td>\n",
       "      <td>Heikkinen, Miss. Laina</td>\n",
       "      <td>female</td>\n",
       "      <td>26.0</td>\n",
       "      <td>0</td>\n",
       "      <td>0</td>\n",
       "      <td>STON/O2. 3101282</td>\n",
       "      <td>7.9250</td>\n",
       "      <td>NaN</td>\n",
       "      <td>S</td>\n",
       "    </tr>\n",
       "    <tr>\n",
       "      <th>3</th>\n",
       "      <td>4</td>\n",
       "      <td>1</td>\n",
       "      <td>1</td>\n",
       "      <td>Futrelle, Mrs. Jacques Heath (Lily May Peel)</td>\n",
       "      <td>female</td>\n",
       "      <td>35.0</td>\n",
       "      <td>1</td>\n",
       "      <td>0</td>\n",
       "      <td>113803</td>\n",
       "      <td>53.1000</td>\n",
       "      <td>C123</td>\n",
       "      <td>S</td>\n",
       "    </tr>\n",
       "    <tr>\n",
       "      <th>4</th>\n",
       "      <td>5</td>\n",
       "      <td>0</td>\n",
       "      <td>3</td>\n",
       "      <td>Allen, Mr. William Henry</td>\n",
       "      <td>male</td>\n",
       "      <td>35.0</td>\n",
       "      <td>0</td>\n",
       "      <td>0</td>\n",
       "      <td>373450</td>\n",
       "      <td>8.0500</td>\n",
       "      <td>NaN</td>\n",
       "      <td>S</td>\n",
       "    </tr>\n",
       "  </tbody>\n",
       "</table>\n",
       "</div>"
      ],
      "text/plain": [
       "   PassengerId  Survived  Pclass  \\\n",
       "0            1         0       3   \n",
       "1            2         1       1   \n",
       "2            3         1       3   \n",
       "3            4         1       1   \n",
       "4            5         0       3   \n",
       "\n",
       "                                                Name     Sex   Age  SibSp  \\\n",
       "0                            Braund, Mr. Owen Harris    male  22.0      1   \n",
       "1  Cumings, Mrs. John Bradley (Florence Briggs Th...  female  38.0      1   \n",
       "2                             Heikkinen, Miss. Laina  female  26.0      0   \n",
       "3       Futrelle, Mrs. Jacques Heath (Lily May Peel)  female  35.0      1   \n",
       "4                           Allen, Mr. William Henry    male  35.0      0   \n",
       "\n",
       "   Parch            Ticket     Fare Cabin Embarked  \n",
       "0      0         A/5 21171   7.2500   NaN        S  \n",
       "1      0          PC 17599  71.2833   C85        C  \n",
       "2      0  STON/O2. 3101282   7.9250   NaN        S  \n",
       "3      0            113803  53.1000  C123        S  \n",
       "4      0            373450   8.0500   NaN        S  "
      ]
     },
     "execution_count": 3,
     "metadata": {},
     "output_type": "execute_result"
    }
   ],
   "source": [
    "train.shape\n",
    "train.info()\n",
    "train.head()"
   ]
  },
  {
   "cell_type": "markdown",
   "id": "hydraulic-commander",
   "metadata": {},
   "source": [
    "## 결측치 처리 (Missing value treatment)\n",
    "### NaN null nan np.nan"
   ]
  },
  {
   "cell_type": "code",
   "execution_count": 4,
   "id": "danish-brazilian",
   "metadata": {},
   "outputs": [
    {
     "name": "stdout",
     "output_type": "stream",
     "text": [
      "           CNT        RATE\n",
      "Cabin     1014  113.804714\n",
      "Survived   418   46.913580\n",
      "Age        263   29.517396\n",
      "Embarked     2    0.224467\n",
      "Fare         1    0.112233\n"
     ]
    }
   ],
   "source": [
    "train_test = train.append(test)\n",
    "nan_dict = {\"CNT\":train_test.isna().sum(),\n",
    "            \"RATE\": train_test.isna().sum()/train.shape[0] *100\n",
    "}\n",
    "nan_df = pd.DataFrame(nan_dict)\n",
    "print(nan_df[nan_df[\"RATE\"]>0].sort_values(\"CNT\", ascending=False))\n"
   ]
  },
  {
   "cell_type": "markdown",
   "id": "fabulous-microphone",
   "metadata": {},
   "source": [
    "### Cabin : U0"
   ]
  },
  {
   "cell_type": "code",
   "execution_count": 5,
   "id": "weird-dayton",
   "metadata": {},
   "outputs": [
    {
     "name": "stdout",
     "output_type": "stream",
     "text": [
      "count             295\n",
      "unique            186\n",
      "top       C23 C25 C27\n",
      "freq                6\n",
      "Name: Cabin, dtype: object\n"
     ]
    }
   ],
   "source": [
    "# print(train[\"Cabin\"].head())\n",
    "print(train_test[\"Cabin\"].describe())   #[nan 'C85' 'C123' 'E46' 'G6']\n",
    "train[\"Cabin\"].fillna(\"U0\", inplace=True)\n",
    "test[\"Cabin\"].fillna(\"U0\", inplace=True)\n",
    "\n",
    "train[\"Cabin_title\"] = train[\"Cabin\"].str[:1]\n",
    "test[\"Cabin_title\"] = test[\"Cabin\"].str[:1]"
   ]
  },
  {
   "cell_type": "code",
   "execution_count": 6,
   "id": "polish-active",
   "metadata": {},
   "outputs": [
    {
     "name": "stdout",
     "output_type": "stream",
     "text": [
      "Survived       0    1\n",
      "Cabin_title          \n",
      "A              8    7\n",
      "B             12   35\n",
      "C             24   35\n",
      "D              8   25\n",
      "E              8   24\n",
      "F              5    8\n",
      "G              2    2\n",
      "T              1    0\n",
      "U            481  206\n"
     ]
    }
   ],
   "source": [
    "cross = pd.crosstab(train[\"Cabin_title\"], train[\"Survived\"])\n",
    "print(cross)"
   ]
  },
  {
   "cell_type": "code",
   "execution_count": 7,
   "id": "french-notebook",
   "metadata": {},
   "outputs": [
    {
     "name": "stdout",
     "output_type": "stream",
     "text": [
      "Pclass        1    2    3\n",
      "Cabin_title              \n",
      "A            15    0    0\n",
      "B            47    0    0\n",
      "C            59    0    0\n",
      "D            29    4    0\n",
      "E            25    4    3\n",
      "F             0    8    5\n",
      "G             0    0    4\n",
      "T             1    0    0\n",
      "U            40  168  479\n"
     ]
    }
   ],
   "source": [
    "cross = pd.crosstab(train[\"Cabin_title\"], train[\"Pclass\"])\n",
    "print(cross)"
   ]
  },
  {
   "cell_type": "markdown",
   "id": "weekly-exclusive",
   "metadata": {},
   "source": [
    "<pre>\n",
    "객실 title은 Pclass=1 이 대부분\n",
    "2~3에 해당 사항없음\n",
    "결측 처리 대상에서 제외 - 해당 피쳐 삭제"
   ]
  },
  {
   "cell_type": "markdown",
   "id": "funky-solomon",
   "metadata": {},
   "source": [
    "### Age : 이름 호칭별 그룹 평균"
   ]
  },
  {
   "cell_type": "markdown",
   "id": "written-printer",
   "metadata": {},
   "source": [
    "* 나이 분포 확인"
   ]
  },
  {
   "cell_type": "code",
   "execution_count": 8,
   "id": "interstate-renewal",
   "metadata": {},
   "outputs": [
    {
     "name": "stdout",
     "output_type": "stream",
     "text": [
      "count    714.000000\n",
      "mean      29.699118\n",
      "std       14.526497\n",
      "min        0.420000\n",
      "25%       20.125000\n",
      "50%       28.000000\n",
      "75%       38.000000\n",
      "max       80.000000\n",
      "Name: Age, dtype: float64\n"
     ]
    }
   ],
   "source": [
    "print(train[\"Age\"].describe())"
   ]
  },
  {
   "cell_type": "code",
   "execution_count": 9,
   "id": "western-identifier",
   "metadata": {},
   "outputs": [
    {
     "data": {
      "image/png": "[encoded data removed]",
      "text/plain": [
       "<Figure size 576x288 with 1 Axes>"
      ]
     },
     "metadata": {
      "needs_background": "light"
     },
     "output_type": "display_data"
    }
   ],
   "source": [
    "plt.figure(figsize=(8,4))\n",
    "sns.scatterplot(x=\"Age\", y=\"Survived\", data=train);"
   ]
  },
  {
   "cell_type": "markdown",
   "id": "discrete-homeless",
   "metadata": {},
   "source": [
    "* 이름의 호칭을 사용해 평균 나이로 결측 처리"
   ]
  },
  {
   "cell_type": "code",
   "execution_count": 10,
   "id": "focused-birth",
   "metadata": {},
   "outputs": [
    {
     "name": "stdout",
     "output_type": "stream",
     "text": [
      "['Mr' 'Mrs' 'Miss' 'Master' 'Ms' 'Col' 'Rev' 'Dr' 'Dona']\n",
      "['Mr' 'Mrs' 'Miss' 'Master' 'Don' 'Rev' 'Dr' 'Mme' 'Ms' 'Major' 'Lady'\n",
      " 'Sir' 'Mlle' 'Col' 'Capt' 'Countess' 'Jonkheer']\n"
     ]
    }
   ],
   "source": [
    "train['Name_title'] = train['Name'].str.extract(' ([A-Za-z]+)\\.')\n",
    "test['Name_title'] = test['Name'].str.extract(' ([A-Za-z]+)\\.')\n",
    "print(test['Name_title'].unique())\n",
    "print(train['Name_title'].unique())\n"
   ]
  },
  {
   "cell_type": "code",
   "execution_count": 11,
   "id": "possible-advancement",
   "metadata": {},
   "outputs": [
    {
     "name": "stdout",
     "output_type": "stream",
     "text": [
      "<class 'pandas.core.series.Series'>\n"
     ]
    },
    {
     "data": {
      "text/plain": [
       "Mr          757\n",
       "Miss        260\n",
       "Mrs         197\n",
       "Master       61\n",
       "Rev           8\n",
       "Dr            8\n",
       "Col           4\n",
       "Ms            2\n",
       "Major         2\n",
       "Mlle          2\n",
       "Jonkheer      1\n",
       "Capt          1\n",
       "Sir           1\n",
       "Dona          1\n",
       "Countess      1\n",
       "Lady          1\n",
       "Mme           1\n",
       "Don           1\n",
       "Name: Name_title, dtype: int64"
      ]
     },
     "execution_count": 11,
     "metadata": {},
     "output_type": "execute_result"
    }
   ],
   "source": [
    "temp_data = pd.concat([train['Name_title'], test['Name_title']])\n",
    "print(type(temp_data))   #<class 'pandas.core.series.Series'>\n",
    "temp_data.value_counts()  #1300 , Mr          757  500\n",
    "# print(temp_data.shape)"
   ]
  },
  {
   "cell_type": "code",
   "execution_count": 12,
   "id": "executive-gilbert",
   "metadata": {},
   "outputs": [
    {
     "name": "stdout",
     "output_type": "stream",
     "text": [
      "0    1\n",
      "1    2\n",
      "2    3\n",
      "3    2\n",
      "4    1\n",
      "Name: Name_title, dtype: int64\n"
     ]
    }
   ],
   "source": [
    "name_title_dict = {\n",
    "'Mr':1,\n",
    "'Mrs':2, 'Mme':2,\n",
    "'Miss':3, 'Lady':3, 'Ms' :3,'Mlle':3,\n",
    "'Master':4 ,\n",
    "    'Don':5 , 'Dona':5, 'Rev':6 , 'Dr':7 , 'Major':8 ,\n",
    " 'Sir':9, 'Col':10, 'Capt':11, 'Countess':12, 'Jonkheer':13\n",
    "}\n",
    "train['Name_title'] = train['Name_title'].map(name_title_dict)\n",
    "test['Name_title'] = test['Name_title'].map(name_title_dict)\n",
    "print(train['Name_title'].head())\n"
   ]
  },
  {
   "cell_type": "code",
   "execution_count": 13,
   "id": "expensive-finding",
   "metadata": {},
   "outputs": [
    {
     "name": "stdout",
     "output_type": "stream",
     "text": [
      "[22.         38.         26.         35.         32.36809045 54.\n",
      "  2.         27.         14.          4.         58.         20.\n",
      " 39.         55.         31.         35.78899083 34.         15.\n",
      " 28.          8.         19.         22.02       40.         66.\n",
      " 42.         21.         18.          3.          7.         49.\n",
      " 29.         65.         28.5         5.         11.         45.\n",
      "  4.57416667 17.         32.         16.         25.          0.83\n",
      " 30.         33.         23.         24.         46.         59.\n",
      " 71.         37.         47.         14.5        70.5        32.5\n",
      " 12.          9.         36.5        51.         55.5        40.5\n",
      " 44.          1.         61.         56.         50.         36.\n",
      " 45.5        20.5        62.         41.         52.         63.\n",
      " 23.5         0.92       43.         60.         10.         64.\n",
      " 13.         48.          0.75       53.         57.         80.\n",
      " 70.         24.5         6.          0.67       30.5         0.42\n",
      " 34.5        74.        ]\n"
     ]
    }
   ],
   "source": [
    "train[\"Age\"].fillna(train.groupby(\"Name_title\")[\"Age\"].transform(\"mean\"), inplace=True)\n",
    "test[\"Age\"].fillna(test.groupby(\"Name_title\")[\"Age\"].transform(\"mean\"), inplace=True)\n",
    "print(train[\"Age\"].unique())"
   ]
  },
  {
   "cell_type": "markdown",
   "id": "separate-reader",
   "metadata": {},
   "source": [
    "* 파생변수 : 이름의 호칭 카테고리화"
   ]
  },
  {
   "cell_type": "code",
   "execution_count": 14,
   "id": "ranging-juvenile",
   "metadata": {},
   "outputs": [
    {
     "data": {
      "text/plain": [
       "0    0\n",
       "1    0\n",
       "2    0\n",
       "3    0\n",
       "4    0\n",
       "Name: T_MR, dtype: int64"
      ]
     },
     "execution_count": 14,
     "metadata": {},
     "output_type": "execute_result"
    }
   ],
   "source": [
    "# train['T_MR'] = train['Name_title']==Mr 1  0\n",
    "train[\"T_MR\"] = train[\"Name_title\"].apply(lambda x:  1 if x == \"Mr\" else 0)\n",
    "test[\"T_MR\"] = test[\"Name_title\"].apply(lambda x:  1 if x == \"Mr\" else 0)\n",
    "test[\"T_MR\"][:5]"
   ]
  },
  {
   "cell_type": "markdown",
   "id": "spoken-collins",
   "metadata": {},
   "source": [
    "### Embarked      : 최빈도"
   ]
  },
  {
   "cell_type": "code",
   "execution_count": 15,
   "id": "chubby-forward",
   "metadata": {},
   "outputs": [
    {
     "data": {
      "text/plain": [
       "count     1307\n",
       "unique       3\n",
       "top          S\n",
       "freq       914\n",
       "Name: Embarked, dtype: object"
      ]
     },
     "execution_count": 15,
     "metadata": {},
     "output_type": "execute_result"
    }
   ],
   "source": [
    "temp_data = pd.concat([train['Embarked'], test['Embarked']])\n",
    "temp_data.describe()"
   ]
  },
  {
   "cell_type": "code",
   "execution_count": 16,
   "id": "reverse-madrid",
   "metadata": {},
   "outputs": [
    {
     "name": "stdout",
     "output_type": "stream",
     "text": [
      "['S' 'C' 'Q' nan]\n"
     ]
    }
   ],
   "source": [
    "print(train[\"Embarked\"].unique())"
   ]
  },
  {
   "cell_type": "code",
   "execution_count": 17,
   "id": "separated-lafayette",
   "metadata": {},
   "outputs": [
    {
     "name": "stdout",
     "output_type": "stream",
     "text": [
      "0    S\n",
      "dtype: object <class 'pandas.core.series.Series'>\n"
     ]
    }
   ],
   "source": [
    "mode_value = train[\"Embarked\"].mode()\n",
    "print(mode_value, type(mode_value))\n",
    "# train[\"Embarked\"] = train[\"Embarked\"].fillna(mode_value) # , inplace=True)\n",
    "# test[\"Embarked\"] = test[\"Embarked\"].fillna(mode_value) #  , inplace=True)"
   ]
  },
  {
   "cell_type": "code",
   "execution_count": 18,
   "id": "vocational-rates",
   "metadata": {},
   "outputs": [],
   "source": [
    "mode_value = 'S'\n",
    "train[\"Embarked\"].fillna(mode_value, inplace=True)\n",
    "test[\"Embarked\"].fillna(mode_value, inplace=True)\n",
    "# train[\"Embarked\"] = train[\"Embarked\"].replace(np.nan, 'S')\n",
    "# test[\"Embarked\"] = test[\"Embarked\"].replace(np.nan, 'S')"
   ]
  },
  {
   "cell_type": "code",
   "execution_count": 19,
   "id": "furnished-baseline",
   "metadata": {},
   "outputs": [
    {
     "name": "stdout",
     "output_type": "stream",
     "text": [
      "['S' 'C' 'Q']\n"
     ]
    }
   ],
   "source": [
    "print(train[\"Embarked\"].unique())"
   ]
  },
  {
   "cell_type": "markdown",
   "id": "separate-missile",
   "metadata": {},
   "source": [
    "### Fare : 0"
   ]
  },
  {
   "cell_type": "code",
   "execution_count": 20,
   "id": "tropical-poultry",
   "metadata": {},
   "outputs": [],
   "source": [
    "fare_mean = train[\"Fare\"].mean()"
   ]
  },
  {
   "cell_type": "code",
   "execution_count": 21,
   "id": "expensive-acceptance",
   "metadata": {},
   "outputs": [],
   "source": [
    "train[\"Fare\"].fillna(fare_mean, inplace=True)\n",
    "test[\"Fare\"].fillna(fare_mean, inplace=True)"
   ]
  },
  {
   "cell_type": "code",
   "execution_count": null,
   "id": "norwegian-permission",
   "metadata": {},
   "outputs": [],
   "source": []
  },
  {
   "cell_type": "markdown",
   "id": "educated-torture",
   "metadata": {},
   "source": [
    "## -- family name, Ticket,   T_family = (SibSp+Parch)+1  > 2\n",
    "   - Survived 생존률 rate 가중치 부여"
   ]
  },
  {
   "cell_type": "code",
   "execution_count": 22,
   "id": "funded-standing",
   "metadata": {},
   "outputs": [
    {
     "name": "stdout",
     "output_type": "stream",
     "text": [
      "PassengerId    0\n",
      "Survived       0\n",
      "Pclass         0\n",
      "Name           0\n",
      "Sex            0\n",
      "Age            0\n",
      "SibSp          0\n",
      "Parch          0\n",
      "Ticket         0\n",
      "Fare           0\n",
      "Cabin          0\n",
      "Embarked       0\n",
      "Cabin_title    0\n",
      "Name_title     0\n",
      "T_MR           0\n",
      "dtype: int64\n"
     ]
    }
   ],
   "source": [
    "print(train.isna().sum())"
   ]
  },
  {
   "cell_type": "code",
   "execution_count": 23,
   "id": "employed-automation",
   "metadata": {},
   "outputs": [
    {
     "name": "stdout",
     "output_type": "stream",
     "text": [
      "PassengerId    0\n",
      "Pclass         0\n",
      "Name           0\n",
      "Sex            0\n",
      "Age            0\n",
      "SibSp          0\n",
      "Parch          0\n",
      "Ticket         0\n",
      "Fare           0\n",
      "Cabin          0\n",
      "Embarked       0\n",
      "Cabin_title    0\n",
      "Name_title     0\n",
      "T_MR           0\n",
      "dtype: int64\n"
     ]
    }
   ],
   "source": [
    "print(test.isna().sum())"
   ]
  },
  {
   "cell_type": "markdown",
   "id": "incident-graph",
   "metadata": {},
   "source": [
    "# 4. Feature Converting  -- T......Engineering"
   ]
  },
  {
   "cell_type": "code",
   "execution_count": 24,
   "id": "twelve-arrest",
   "metadata": {},
   "outputs": [
    {
     "name": "stdout",
     "output_type": "stream",
     "text": [
      "<class 'pandas.core.frame.DataFrame'>\n",
      "RangeIndex: 891 entries, 0 to 890\n",
      "Data columns (total 15 columns):\n",
      " #   Column       Non-Null Count  Dtype  \n",
      "---  ------       --------------  -----  \n",
      " 0   PassengerId  891 non-null    int64  \n",
      " 1   Survived     891 non-null    int64  \n",
      " 2   Pclass       891 non-null    int64  \n",
      " 3   Name         891 non-null    object \n",
      " 4   Sex          891 non-null    object \n",
      " 5   Age          891 non-null    float64\n",
      " 6   SibSp        891 non-null    int64  \n",
      " 7   Parch        891 non-null    int64  \n",
      " 8   Ticket       891 non-null    object \n",
      " 9   Fare         891 non-null    float64\n",
      " 10  Cabin        891 non-null    object \n",
      " 11  Embarked     891 non-null    object \n",
      " 12  Cabin_title  891 non-null    object \n",
      " 13  Name_title   891 non-null    int64  \n",
      " 14  T_MR         891 non-null    int64  \n",
      "dtypes: float64(2), int64(7), object(6)\n",
      "memory usage: 104.5+ KB\n"
     ]
    }
   ],
   "source": [
    "train.info()"
   ]
  },
  {
   "cell_type": "markdown",
   "id": "hollow-worker",
   "metadata": {},
   "source": [
    "<pre>\n",
    "--------------------------------------------- \n",
    "5   Age          714 non-null    float64 -- Name_title평균나이, T_MR:0,1\n",
    "10  Cabin        204 non-null    object -- 삭제\n",
    "11  Embarked     889 non-null    object -- 'S' 최빈값\n",
    "---------------------------------------------\n",
    "3   Name         891 non-null    object -- 삭제\n",
    "4   Sex          891 non-null    object -- m:1 f:0\n",
    "8   Ticket       891 non-null    object -- 삭제\n",
    "10  Cabin        204 non-null    object -- 삭제\n",
    "*   Cabin_title  204 non-null    object -- 삭제\n",
    "11  Embarked     889 non-null    object -- S:1~2\n",
    "----------------------------------------------\n",
    "T_family = (SibSp+Parch)+1"
   ]
  },
  {
   "cell_type": "markdown",
   "id": "impossible-bristol",
   "metadata": {},
   "source": [
    "### Object 타입 numeric화"
   ]
  },
  {
   "cell_type": "code",
   "execution_count": 25,
   "id": "specific-volume",
   "metadata": {},
   "outputs": [],
   "source": [
    "# train.select_dtypes(include='object')"
   ]
  },
  {
   "cell_type": "code",
   "execution_count": 26,
   "id": "infectious-transmission",
   "metadata": {},
   "outputs": [
    {
     "data": {
      "text/html": [
       "<div>\n",
       "<style scoped>\n",
       "    .dataframe tbody tr th:only-of-type {\n",
       "        vertical-align: middle;\n",
       "    }\n",
       "\n",
       "    .dataframe tbody tr th {\n",
       "        vertical-align: top;\n",
       "    }\n",
       "\n",
       "    .dataframe thead th {\n",
       "        text-align: right;\n",
       "    }\n",
       "</style>\n",
       "<table border=\"1\" class=\"dataframe\">\n",
       "  <thead>\n",
       "    <tr style=\"text-align: right;\">\n",
       "      <th></th>\n",
       "      <th>Embarked</th>\n",
       "      <th>Sex</th>\n",
       "    </tr>\n",
       "  </thead>\n",
       "  <tbody>\n",
       "    <tr>\n",
       "      <th>count</th>\n",
       "      <td>891</td>\n",
       "      <td>891</td>\n",
       "    </tr>\n",
       "    <tr>\n",
       "      <th>unique</th>\n",
       "      <td>3</td>\n",
       "      <td>2</td>\n",
       "    </tr>\n",
       "    <tr>\n",
       "      <th>top</th>\n",
       "      <td>S</td>\n",
       "      <td>male</td>\n",
       "    </tr>\n",
       "    <tr>\n",
       "      <th>freq</th>\n",
       "      <td>646</td>\n",
       "      <td>577</td>\n",
       "    </tr>\n",
       "  </tbody>\n",
       "</table>\n",
       "</div>"
      ],
      "text/plain": [
       "       Embarked   Sex\n",
       "count       891   891\n",
       "unique        3     2\n",
       "top           S  male\n",
       "freq        646   577"
      ]
     },
     "execution_count": 26,
     "metadata": {},
     "output_type": "execute_result"
    }
   ],
   "source": [
    "train[[\"Embarked\",\"Sex\"]].describe()"
   ]
  },
  {
   "cell_type": "code",
   "execution_count": 27,
   "id": "critical-england",
   "metadata": {},
   "outputs": [],
   "source": [
    "# temp = pd.concat([train, test])\n",
    "train_test = [train, test]\n",
    "for df in train_test:\n",
    "#   1. map\n",
    "    sex_dict = {'male':1,'female':0}\n",
    "    df['T_sex'] = df['Sex'].map(sex_dict)\n",
    "    \n",
    "    emb_dict = {'Q':0 , 'S':1 , 'C':2}\n",
    "    df['T_embarked'] = df['Embarked'].map(emb_dict)\n",
    "\n",
    "    df[\"T_family\"] = (df[\"SibSp\"] + df[\"Parch\"]) + 1\n",
    "#     print(train['T_sex'].head())\n",
    "    \n",
    "#     2. lambda\n",
    "#     train[\"T_sex2\"] = train[\"Sex\"].apply(lambda x:  1 if x == \"male\" else 0)\n",
    "#     print(train['T_sex'].head())\n",
    "    \n",
    "#     3. replace\n",
    "#     train[\"T_sex3\"] = train[\"Sex\"].replace('male', 1)\n",
    "#     train[\"T_sex3\"] = train[\"T_sex3\"].replace('female', 0)\n",
    "#     print(train['T_sex3'].head())"
   ]
  },
  {
   "cell_type": "code",
   "execution_count": 28,
   "id": "prospective-contest",
   "metadata": {},
   "outputs": [
    {
     "data": {
      "text/html": [
       "<div>\n",
       "<style scoped>\n",
       "    .dataframe tbody tr th:only-of-type {\n",
       "        vertical-align: middle;\n",
       "    }\n",
       "\n",
       "    .dataframe tbody tr th {\n",
       "        vertical-align: top;\n",
       "    }\n",
       "\n",
       "    .dataframe thead th {\n",
       "        text-align: right;\n",
       "    }\n",
       "</style>\n",
       "<table border=\"1\" class=\"dataframe\">\n",
       "  <thead>\n",
       "    <tr style=\"text-align: right;\">\n",
       "      <th></th>\n",
       "      <th>T_embarked</th>\n",
       "      <th>Embarked</th>\n",
       "    </tr>\n",
       "  </thead>\n",
       "  <tbody>\n",
       "    <tr>\n",
       "      <th>0</th>\n",
       "      <td>1</td>\n",
       "      <td>S</td>\n",
       "    </tr>\n",
       "    <tr>\n",
       "      <th>1</th>\n",
       "      <td>2</td>\n",
       "      <td>C</td>\n",
       "    </tr>\n",
       "    <tr>\n",
       "      <th>2</th>\n",
       "      <td>1</td>\n",
       "      <td>S</td>\n",
       "    </tr>\n",
       "    <tr>\n",
       "      <th>3</th>\n",
       "      <td>1</td>\n",
       "      <td>S</td>\n",
       "    </tr>\n",
       "    <tr>\n",
       "      <th>4</th>\n",
       "      <td>1</td>\n",
       "      <td>S</td>\n",
       "    </tr>\n",
       "  </tbody>\n",
       "</table>\n",
       "</div>"
      ],
      "text/plain": [
       "   T_embarked Embarked\n",
       "0           1        S\n",
       "1           2        C\n",
       "2           1        S\n",
       "3           1        S\n",
       "4           1        S"
      ]
     },
     "execution_count": 28,
     "metadata": {},
     "output_type": "execute_result"
    }
   ],
   "source": [
    "train[['T_embarked','Embarked']].head()"
   ]
  },
  {
   "cell_type": "code",
   "execution_count": 29,
   "id": "frequent-hardwood",
   "metadata": {},
   "outputs": [],
   "source": [
    "#--------------------------------------------------------------------\n",
    "# 4. get_dummy() : DataFrame  ,  retrun DataFrame --> DataFrame\n",
    "#--------------------------------------------------------------------\n",
    "# dummy_df = pd.get_dummies(train[\"Sex\"])\n",
    "# # train = pd.concat(train,dummy_df)\n",
    "# train = train.join(dummy_df)\n",
    "# print(train.info())"
   ]
  },
  {
   "cell_type": "code",
   "execution_count": 30,
   "id": "accepting-ticket",
   "metadata": {},
   "outputs": [],
   "source": [
    "# train[[\"Sex\",\"female\",\"male\"]].head()"
   ]
  },
  {
   "cell_type": "code",
   "execution_count": 31,
   "id": "developed-march",
   "metadata": {},
   "outputs": [],
   "source": [
    "#--------------------------------------------------------------------\n",
    "# Encoder : like array  ,  retrun like array --> DataFrame\n",
    "#--------------------------------------------------------------------\n",
    "# from sklearn.preprocessing import LabelEncoder, OneHotEncoder\n",
    "# from scipy.sparse import csr_matrix\n",
    "\n",
    "# le_encoder = LabelEncoder()\n",
    "# #train[[\"Sex\",\"Embarker\"]] = encoder.fit_transform(train[[\"Sex\",\"Embarker\"]])   XXXXXX\n",
    "# cols = [\"Sex\",]\n",
    "# for col in cols:   \n",
    "#     train[\"LE_\"+col] = le_encoder.fit_transform(train[col])\n",
    "#     print(train[[\"Sex\", \"LE_Sex\"]].head())\n",
    "# #     print(np.array(train[\"LE_\"+col]).reshape(-1, 1))\n",
    "#     oh_encoder = OneHotEncoder()    \n",
    "#     res = oh_encoder.fit_transform(np.array(train[\"LE_\"+col]).reshape(-1, 1))   #[[],[],[]]\n",
    "#     print(type(res), res.shape)\n",
    "    \n",
    "#     csr_df = pd.DataFrame.sparse.from_spmatrix(res, columns=['OH_M', 'OH_F'])  \n",
    "    \n",
    "# train = train.append(csr_df)\n",
    "# # dtype = pd.SparseDtype(np.float64, fill_value=0)\n",
    "# # train['OH_M'].astype(dtype)\n",
    "# train.info()"
   ]
  },
  {
   "cell_type": "code",
   "execution_count": 32,
   "id": "young-riverside",
   "metadata": {},
   "outputs": [],
   "source": [
    "#--------------------------------------------------------------------\n",
    "# Encoder : like array  ,  retrun like array --> like array\n",
    "#--------------------------------------------------------------------\n",
    "# from sklearn.preprocessing import LabelEncoder, OneHotEncoder\n",
    "# item = [\"b\",\"a\",\"c\",\"d\",\"e\",\"f\",\"g\"]\n",
    "# encoder = LabelEncoder()  #글자-->숫자\n",
    "# # encoder.fit(item)\n",
    "# # res = encoder.transform(item)\n",
    "# res = encoder.fit_transform(item)\n",
    "# print(encoder.classes_)\n",
    "# print(res)   #[1 0 2 3 4 5 6]\n",
    "# print(encoder.inverse_transform(res))\n",
    "\n",
    "# oh_encoder = OneHotEncoder()\n",
    "# re_res = res.reshape(-1,1)  #------------------[[],[],[],[]]\n",
    "# res = oh_encoder.fit_transform(re_res)\n",
    "# print(res.shape)\n",
    "# print(res)\n",
    "\n",
    "#-------------------- [LabelEncoder, OneHotEncoder] + 결측처리**\n",
    "# import pandas as pd\n",
    "# df = pd.DataFrame({\"key\" : [\"b\",\"a\",\"c\",\"d\",\"e\",\"f\",\"g\"]})\n",
    "# print(df.head())\n",
    "# df = pd.get_dummies(df[\"key\"])\n",
    "# print(df.head())"
   ]
  },
  {
   "cell_type": "markdown",
   "id": "immune-samba",
   "metadata": {},
   "source": [
    "### Float 타입 numeric화"
   ]
  },
  {
   "cell_type": "code",
   "execution_count": 33,
   "id": "duplicate-access",
   "metadata": {},
   "outputs": [],
   "source": [
    "# dataset[\"Age\"] = train_df[\"Age\"].astype(int)"
   ]
  },
  {
   "cell_type": "code",
   "execution_count": 34,
   "id": "removed-consent",
   "metadata": {},
   "outputs": [
    {
     "name": "stdout",
     "output_type": "stream",
     "text": [
      "['Age' 'Fare']\n"
     ]
    }
   ],
   "source": [
    "float_features_list = train.dtypes[train.dtypes == 'float64'].index.values\n",
    "print(float_features_list)\n",
    "train[float_features_list] = train[float_features_list].astype(np.int32)\n",
    "test[float_features_list] = test[float_features_list].astype(np.int32)"
   ]
  },
  {
   "cell_type": "code",
   "execution_count": null,
   "id": "medical-sunday",
   "metadata": {},
   "outputs": [],
   "source": []
  },
  {
   "cell_type": "markdown",
   "id": "final-andorra",
   "metadata": {},
   "source": [
    "### 불필요한 피쳐 삭제"
   ]
  },
  {
   "cell_type": "code",
   "execution_count": 35,
   "id": "brutal-tension",
   "metadata": {},
   "outputs": [
    {
     "name": "stdout",
     "output_type": "stream",
     "text": [
      "['Name' 'Sex' 'Ticket' 'Cabin' 'Embarked' 'Cabin_title']\n"
     ]
    }
   ],
   "source": [
    "object_features_list = train.dtypes[train.dtypes == 'object'].index.values\n",
    "print(object_features_list)"
   ]
  },
  {
   "cell_type": "code",
   "execution_count": 36,
   "id": "rocky-engineering",
   "metadata": {},
   "outputs": [],
   "source": [
    "train.drop(object_features_list, axis=1, inplace=True)\n",
    "test.drop(object_features_list, axis=1, inplace=True)"
   ]
  },
  {
   "cell_type": "code",
   "execution_count": 37,
   "id": "alleged-johnston",
   "metadata": {
    "tags": []
   },
   "outputs": [
    {
     "name": "stdout",
     "output_type": "stream",
     "text": [
      "<class 'pandas.core.frame.DataFrame'>\n",
      "RangeIndex: 891 entries, 0 to 890\n",
      "Data columns (total 12 columns):\n",
      " #   Column       Non-Null Count  Dtype\n",
      "---  ------       --------------  -----\n",
      " 0   PassengerId  891 non-null    int64\n",
      " 1   Survived     891 non-null    int64\n",
      " 2   Pclass       891 non-null    int64\n",
      " 3   Age          891 non-null    int32\n",
      " 4   SibSp        891 non-null    int64\n",
      " 5   Parch        891 non-null    int64\n",
      " 6   Fare         891 non-null    int32\n",
      " 7   Name_title   891 non-null    int64\n",
      " 8   T_MR         891 non-null    int64\n",
      " 9   T_sex        891 non-null    int64\n",
      " 10  T_embarked   891 non-null    int64\n",
      " 11  T_family     891 non-null    int64\n",
      "dtypes: int32(2), int64(10)\n",
      "memory usage: 76.7 KB\n",
      "None\n",
      "<class 'pandas.core.frame.DataFrame'>\n",
      "RangeIndex: 418 entries, 0 to 417\n",
      "Data columns (total 11 columns):\n",
      " #   Column       Non-Null Count  Dtype\n",
      "---  ------       --------------  -----\n",
      " 0   PassengerId  418 non-null    int64\n",
      " 1   Pclass       418 non-null    int64\n",
      " 2   Age          418 non-null    int32\n",
      " 3   SibSp        418 non-null    int64\n",
      " 4   Parch        418 non-null    int64\n",
      " 5   Fare         418 non-null    int32\n",
      " 6   Name_title   418 non-null    int64\n",
      " 7   T_MR         418 non-null    int64\n",
      " 8   T_sex        418 non-null    int64\n",
      " 9   T_embarked   418 non-null    int64\n",
      " 10  T_family     418 non-null    int64\n",
      "dtypes: int32(2), int64(9)\n",
      "memory usage: 32.8 KB\n",
      "None\n"
     ]
    }
   ],
   "source": [
    "print(train.info())\n",
    "print(test.info())"
   ]
  },
  {
   "cell_type": "code",
   "execution_count": 38,
   "id": "under-cause",
   "metadata": {},
   "outputs": [],
   "source": [
    "\n",
    "train.drop('PassengerId', axis=1, inplace=True)\n",
    "test.drop('PassengerId', axis=1, inplace=True)"
   ]
  },
  {
   "cell_type": "markdown",
   "id": "oriented-teaching",
   "metadata": {},
   "source": [
    "# 모델 선정 및 학습 : 우선 점수부터 보고 이후 작업 더 진행"
   ]
  },
  {
   "cell_type": "markdown",
   "id": "acoustic-trash",
   "metadata": {},
   "source": [
    "<pre>\n",
    "모델 분석에 필요한 데이터 종류 : train[train set : validation set] , test set\n",
    "                                    train_test_split\n",
    "* classification(분류) 모델선정 : 문제집 선택\n",
    "* 학습     : fit(문제train8, 정답train_Survived8)\n",
    "* 모의고사 : predict(모의시험지train2=validation) ----- 예측답안\n",
    "* 모의채점 : _score(예측답안, 모의고사정답지train2=validation)\n",
    "*---------------------------------------------------------------------    \n",
    "* 본시험   : predict(본시험지test)   ----- 예측답안\n",
    "* 본채점   : _score(예측답안submission, 본시험정답지kaggle-leaderboard)"
   ]
  },
  {
   "cell_type": "code",
   "execution_count": 39,
   "id": "printable-slovenia",
   "metadata": {},
   "outputs": [],
   "source": [
    "# ! pip install lightgbm\n",
    "# ! pip install xgboost"
   ]
  },
  {
   "cell_type": "code",
   "execution_count": 40,
   "id": "monthly-introduction",
   "metadata": {},
   "outputs": [],
   "source": [
    "from sklearn.tree import DecisionTreeClassifier\n",
    "from sklearn.ensemble import RandomForestClassifier\n",
    "from sklearn.linear_model import LogisticRegression\n",
    "from sklearn.neighbors import KNeighborsClassifier\n",
    "\n",
    "# XGBoost python wrapper class\n",
    "# ref : https://injo.tistory.com/44\n",
    "# ref : https://velog.io/@dbj2000/ML\n",
    "import xgboost as xgb ## XGBoost 불러오기\n",
    "\n",
    "#LightGBM\n",
    "# ref : https://lightgbm.readthedocs.io/en/latest/pythonapi/lightgbm.LGBMClassifier.html\n",
    "import lightgbm as lgb\n",
    "from sklearn.model_selection import train_test_split\n",
    "from sklearn.metrics import accuracy_score,confusion_matrix,precision_score, recall_score, f1_score, roc_auc_score"
   ]
  },
  {
   "cell_type": "markdown",
   "id": "economic-lafayette",
   "metadata": {},
   "source": [
    "* 정확도(Accuracy)\n",
    "Accuracy = (TP + TN)/(TP + TN + FP + FN)"
   ]
  },
  {
   "cell_type": "markdown",
   "id": "junior-proposition",
   "metadata": {},
   "source": [
    "#### 1. 학습.답안 데이터 셋 분리"
   ]
  },
  {
   "cell_type": "code",
   "execution_count": 41,
   "id": "duplicate-muslim",
   "metadata": {},
   "outputs": [
    {
     "name": "stdout",
     "output_type": "stream",
     "text": [
      "(891,) (891, 10)\n"
     ]
    }
   ],
   "source": [
    "train_y = train[\"Survived\"]\n",
    "train_X = train.drop(\"Survived\", axis=1)\n",
    "print(train_y.shape, train_X.shape)"
   ]
  },
  {
   "cell_type": "markdown",
   "id": "obvious-massachusetts",
   "metadata": {
    "tags": []
   },
   "source": [
    "#### 2..학습'답안/검증'답안 데이터 셋 분리"
   ]
  },
  {
   "cell_type": "code",
   "execution_count": 42,
   "id": "friendly-rally",
   "metadata": {
    "tags": []
   },
   "outputs": [
    {
     "name": "stdout",
     "output_type": "stream",
     "text": [
      "(712, 10) (179, 10) (712,) (179,)\n"
     ]
    }
   ],
   "source": [
    "문제_학습8, 문제_검증2, 답안_학습8, 답안_검증2 = train_test_split(train_X, train_y, test_size=0.2, random_state=36,  shuffle=False)\n",
    "print(문제_학습8.shape, 문제_검증2.shape, 답안_학습8.shape, 답안_검증2.shape)"
   ]
  },
  {
   "cell_type": "code",
   "execution_count": 43,
   "id": "neutral-swiss",
   "metadata": {},
   "outputs": [],
   "source": [
    "dt = DecisionTreeClassifier()\n",
    "rf = RandomForestClassifier()\n",
    "lr = LogisticRegression()\n",
    "knn = KNeighborsClassifier()"
   ]
  },
  {
   "cell_type": "code",
   "execution_count": 44,
   "id": "accompanied-milton",
   "metadata": {},
   "outputs": [
    {
     "name": "stdout",
     "output_type": "stream",
     "text": [
      "0.7541899441340782\n"
     ]
    }
   ],
   "source": [
    "dt.fit(문제_학습8, 답안_학습8)\n",
    "내가낸답안2 = dt.predict(문제_검증2)\n",
    "df_score = accuracy_score(내가낸답안2 ,  답안_검증2)\n",
    "print(df_score)     # 0.7541899441340782  float \n",
    "                    # 0.7653631284916201  int"
   ]
  },
  {
   "cell_type": "code",
   "execution_count": 45,
   "id": "answering-professional",
   "metadata": {},
   "outputs": [
    {
     "name": "stdout",
     "output_type": "stream",
     "text": [
      "<class 'pandas.core.frame.DataFrame'>\n",
      "RangeIndex: 891 entries, 0 to 890\n",
      "Data columns (total 10 columns):\n",
      " #   Column      Non-Null Count  Dtype\n",
      "---  ------      --------------  -----\n",
      " 0   Pclass      891 non-null    int64\n",
      " 1   Age         891 non-null    int32\n",
      " 2   SibSp       891 non-null    int64\n",
      " 3   Parch       891 non-null    int64\n",
      " 4   Fare        891 non-null    int32\n",
      " 5   Name_title  891 non-null    int64\n",
      " 6   T_MR        891 non-null    int64\n",
      " 7   T_sex       891 non-null    int64\n",
      " 8   T_embarked  891 non-null    int64\n",
      " 9   T_family    891 non-null    int64\n",
      "dtypes: int32(2), int64(8)\n",
      "memory usage: 62.8 KB\n"
     ]
    }
   ],
   "source": [
    "train_X.info()"
   ]
  },
  {
   "cell_type": "markdown",
   "id": "comparable-measure",
   "metadata": {},
   "source": [
    "# 기초 통계를 활용한 피쳐 분석"
   ]
  },
  {
   "cell_type": "markdown",
   "id": "hourly-consumption",
   "metadata": {},
   "source": [
    "### Featue Importance"
   ]
  },
  {
   "cell_type": "code",
   "execution_count": 46,
   "id": "olympic-conference",
   "metadata": {},
   "outputs": [],
   "source": [
    "# dt.feature_importances_"
   ]
  },
  {
   "cell_type": "code",
   "execution_count": 47,
   "id": "genuine-energy",
   "metadata": {},
   "outputs": [
    {
     "data": {
      "text/html": [
       "<div>\n",
       "<style scoped>\n",
       "    .dataframe tbody tr th:only-of-type {\n",
       "        vertical-align: middle;\n",
       "    }\n",
       "\n",
       "    .dataframe tbody tr th {\n",
       "        vertical-align: top;\n",
       "    }\n",
       "\n",
       "    .dataframe thead th {\n",
       "        text-align: right;\n",
       "    }\n",
       "</style>\n",
       "<table border=\"1\" class=\"dataframe\">\n",
       "  <thead>\n",
       "    <tr style=\"text-align: right;\">\n",
       "      <th></th>\n",
       "      <th>5</th>\n",
       "      <th>1</th>\n",
       "      <th>4</th>\n",
       "      <th>0</th>\n",
       "      <th>9</th>\n",
       "      <th>8</th>\n",
       "      <th>3</th>\n",
       "      <th>2</th>\n",
       "      <th>7</th>\n",
       "      <th>6</th>\n",
       "    </tr>\n",
       "  </thead>\n",
       "  <tbody>\n",
       "    <tr>\n",
       "      <th>featuer</th>\n",
       "      <td>Name_title</td>\n",
       "      <td>Age</td>\n",
       "      <td>Fare</td>\n",
       "      <td>Pclass</td>\n",
       "      <td>T_family</td>\n",
       "      <td>T_embarked</td>\n",
       "      <td>Parch</td>\n",
       "      <td>SibSp</td>\n",
       "      <td>T_sex</td>\n",
       "      <td>T_MR</td>\n",
       "    </tr>\n",
       "    <tr>\n",
       "      <th>importance</th>\n",
       "      <td>0.361177</td>\n",
       "      <td>0.242966</td>\n",
       "      <td>0.178431</td>\n",
       "      <td>0.10097</td>\n",
       "      <td>0.057603</td>\n",
       "      <td>0.033981</td>\n",
       "      <td>0.014333</td>\n",
       "      <td>0.006218</td>\n",
       "      <td>0.004322</td>\n",
       "      <td>0.0</td>\n",
       "    </tr>\n",
       "  </tbody>\n",
       "</table>\n",
       "</div>"
      ],
      "text/plain": [
       "                     5         1         4        0         9           8  \\\n",
       "featuer     Name_title       Age      Fare   Pclass  T_family  T_embarked   \n",
       "importance    0.361177  0.242966  0.178431  0.10097  0.057603    0.033981   \n",
       "\n",
       "                   3         2         7     6  \n",
       "featuer        Parch     SibSp     T_sex  T_MR  \n",
       "importance  0.014333  0.006218  0.004322   0.0  "
      ]
     },
     "execution_count": 47,
     "metadata": {},
     "output_type": "execute_result"
    }
   ],
   "source": [
    "imp_df = pd.DataFrame({\"featuer\" : train_X.columns, \"importance\" : dt.feature_importances_})\n",
    "imp_df.sort_values('importance', ascending=False).T\n"
   ]
  },
  {
   "cell_type": "code",
   "execution_count": null,
   "id": "quantitative-drill",
   "metadata": {},
   "outputs": [],
   "source": []
  },
  {
   "cell_type": "code",
   "execution_count": 48,
   "id": "annoying-objective",
   "metadata": {},
   "outputs": [
    {
     "data": {
      "image/png": "[encoded data removed]",
      "text/plain": [
       "<Figure size 576x216 with 1 Axes>"
      ]
     },
     "metadata": {},
     "output_type": "display_data"
    },
    {
     "data": {
      "image/png": "[encoded data removed]",
      "text/plain": [
       "<Figure size 576x216 with 1 Axes>"
      ]
     },
     "metadata": {},
     "output_type": "display_data"
    }
   ],
   "source": [
    "train_X[\"Fare\"] = train[\"Fare\"]\n",
    "train_X[\"Family_fare\"] = train_X[\"Fare\"]/ train_X[\"T_family\"]\n",
    "test[\"Family_fare\"] = test[\"Fare\"]/ test[\"T_family\"]\n",
    "\n",
    "# temp_data = pd.concat([train['Embarked'], test['Embarked']])\n",
    "\n",
    "sns.set()\n",
    "fig, axes = plt.subplots(ncols=1, figsize=(8, 3))\n",
    "ax = sns.histplot(train, x=\"Fare\",hue=\"Survived\", element=\"step\", ax=axes)\n",
    "ax.set_title(\"Fare\")\n",
    "plt.show()\n",
    "\n",
    "sns.set()\n",
    "fig, axes = plt.subplots(ncols=1, figsize=(8,3))\n",
    "ax = sns.histplot(train_X, x=\"Family_fare\", element=\"step\", ax=axes)\n",
    "ax.set_title(\"Family_fare\")\n",
    "plt.show()\n",
    "\n"
   ]
  },
  {
   "cell_type": "code",
   "execution_count": null,
   "id": "unexpected-movement",
   "metadata": {},
   "outputs": [],
   "source": []
  },
  {
   "cell_type": "code",
   "execution_count": null,
   "id": "mexican-thanks",
   "metadata": {},
   "outputs": [],
   "source": []
  },
  {
   "cell_type": "code",
   "execution_count": 49,
   "id": "quick-tamil",
   "metadata": {},
   "outputs": [],
   "source": [
    "# imp_df.plot.bar()"
   ]
  },
  {
   "cell_type": "code",
   "execution_count": 50,
   "id": "packed-sterling",
   "metadata": {},
   "outputs": [],
   "source": [
    "# train_X.loc[ train_X['Age'] <= 16, 'Age'] = 0\n",
    "# train_X.loc[(train_X['Age'] > 16) & (train_X['Age'] <= 26), 'Age'] = 1\n",
    "# train_X.loc[(train_X['Age'] > 26) & (train_X['Age'] <= 36), 'Age'] = 2\n",
    "# train_X.loc[(train_X['Age'] > 36) & (train_X['Age'] <= 62), 'Age'] = 3\n",
    "# train_X.loc[train_X['Age'] > 62, 'Age'] = 4"
   ]
  },
  {
   "cell_type": "markdown",
   "id": "architectural-ontario",
   "metadata": {},
   "source": [
    "### Fare : 최소 요금 약 7달러로 구간화"
   ]
  },
  {
   "cell_type": "code",
   "execution_count": 51,
   "id": "expensive-charge",
   "metadata": {},
   "outputs": [
    {
     "name": "stdout",
     "output_type": "stream",
     "text": [
      "   T_Fare  Fare\n",
      "0       0     7\n",
      "1       5    71\n",
      "2       0     7\n",
      "3       3    53\n",
      "4       0     8\n",
      "5       0     8\n",
      "6       3    51\n",
      "7       1    21\n",
      "<class 'pandas.core.frame.DataFrame'>\n",
      "RangeIndex: 891 entries, 0 to 890\n",
      "Data columns (total 12 columns):\n",
      " #   Column       Non-Null Count  Dtype  \n",
      "---  ------       --------------  -----  \n",
      " 0   Pclass       891 non-null    int64  \n",
      " 1   Age          891 non-null    int32  \n",
      " 2   SibSp        891 non-null    int64  \n",
      " 3   Parch        891 non-null    int64  \n",
      " 4   Fare         891 non-null    int32  \n",
      " 5   Name_title   891 non-null    int64  \n",
      " 6   T_MR         891 non-null    int64  \n",
      " 7   T_sex        891 non-null    int64  \n",
      " 8   T_embarked   891 non-null    int64  \n",
      " 9   T_family     891 non-null    int64  \n",
      " 10  Family_fare  891 non-null    float64\n",
      " 11  T_Fare       891 non-null    int32  \n",
      "dtypes: float64(1), int32(3), int64(8)\n",
      "memory usage: 73.2 KB\n",
      "None\n"
     ]
    }
   ],
   "source": [
    "# def fare_bining(x) :  #df[\"Fear\"]\n",
    "#     T_fare = 0\n",
    "#     if x <= 7:\n",
    "#         T_fare = 1\n",
    "#     elif  x <= 14:\n",
    "#         T_fare = 2\n",
    "#     elif  x <= 21:\n",
    "#         T_fare = 3\n",
    "#     else:\n",
    "#         T_fare = 4\n",
    "#     return  T_fare   \n",
    "# train_X[\"T_Fare\"] = train_X[\"Fare\"].apply(lambda x : fare_bining(x))\n",
    "#--------------------------------------------------------------------------------------------\n",
    "train_X[\"T_Fare\"] = train_X[\"Fare\"].apply(lambda x : x//14)\n",
    "train_X[\"T_Fare\"] = train_X[\"T_Fare\"].astype(int)\n",
    "test[\"T_Fare\"] = test[\"Fare\"].apply(lambda x : x//14)\n",
    "test[\"T_Fare\"] = test[\"T_Fare\"].astype(int)\n",
    "\n",
    "print(train_X[[\"T_Fare\",\"Fare\"]].head(8))\n",
    "print(train_X.info())"
   ]
  },
  {
   "cell_type": "code",
   "execution_count": 52,
   "id": "industrial-philip",
   "metadata": {},
   "outputs": [],
   "source": [
    "def myfit(X, y, model, imp=0, tsize=0.2):\n",
    "    X_train, X_test, y_train, y_test = train_test_split(X, y, test_size=tsize, random_state=36,  shuffle=False)\n",
    "    #print(X_train.shape, X_test.shape, y_train.shape, y_test.shape)\n",
    "    model.fit(X_train, y_train)\n",
    "    pred = model.predict(X_test)\n",
    "    df_score = accuracy_score(pred ,  y_test)\n",
    "    print(\"Accuracy : {:.6f}\".format(df_score))     \n",
    "    if imp==1:         \n",
    "        imp_df = pd.DataFrame({\"featuer\" : train_X.columns, \"importance\" : model.feature_importances_})\n",
    "        imp_df = imp_df.sort_values('importance', ascending=False).T\n",
    "        print(imp_df)"
   ]
  },
  {
   "cell_type": "code",
   "execution_count": 53,
   "id": "productive-homeless",
   "metadata": {},
   "outputs": [
    {
     "name": "stdout",
     "output_type": "stream",
     "text": [
      "Accuracy : 0.770950\n"
     ]
    }
   ],
   "source": [
    "myfit(train_X, train_y, dt)  #0.7597765363128491"
   ]
  },
  {
   "cell_type": "code",
   "execution_count": 54,
   "id": "intense-launch",
   "metadata": {},
   "outputs": [],
   "source": [
    "train_X.drop([\"Fare\"], inplace=True, axis=1)\n",
    "test.drop([\"Fare\"], inplace=True, axis=1)"
   ]
  },
  {
   "cell_type": "code",
   "execution_count": 55,
   "id": "distinguished-lodge",
   "metadata": {},
   "outputs": [
    {
     "name": "stdout",
     "output_type": "stream",
     "text": [
      "Accuracy : 0.770950\n",
      "                    4         1            9         0         8         10  \\\n",
      "featuer     Name_title       Age  Family_fare    Pclass  T_family    T_Fare   \n",
      "importance     0.36475  0.247935     0.134761  0.091823  0.059211  0.047509   \n",
      "\n",
      "                    7         2         3         6     5   \n",
      "featuer     T_embarked     SibSp     Parch     T_sex  T_MR  \n",
      "importance     0.03448  0.010022  0.005187  0.004322   0.0  \n"
     ]
    }
   ],
   "source": [
    "myfit(train_X, train_y, dt, 1)  #0.798883"
   ]
  },
  {
   "cell_type": "markdown",
   "id": "skilled-complement",
   "metadata": {},
   "source": [
    "### Age : 구간화"
   ]
  },
  {
   "cell_type": "code",
   "execution_count": 56,
   "id": "excessive-invitation",
   "metadata": {},
   "outputs": [
    {
     "data": {
      "text/html": [
       "<div>\n",
       "<style scoped>\n",
       "    .dataframe tbody tr th:only-of-type {\n",
       "        vertical-align: middle;\n",
       "    }\n",
       "\n",
       "    .dataframe tbody tr th {\n",
       "        vertical-align: top;\n",
       "    }\n",
       "\n",
       "    .dataframe thead th {\n",
       "        text-align: right;\n",
       "    }\n",
       "</style>\n",
       "<table border=\"1\" class=\"dataframe\">\n",
       "  <thead>\n",
       "    <tr style=\"text-align: right;\">\n",
       "      <th></th>\n",
       "      <th>Pclass</th>\n",
       "      <th>Age</th>\n",
       "      <th>SibSp</th>\n",
       "      <th>Parch</th>\n",
       "      <th>Name_title</th>\n",
       "      <th>T_MR</th>\n",
       "      <th>T_sex</th>\n",
       "      <th>T_embarked</th>\n",
       "      <th>T_family</th>\n",
       "      <th>Family_fare</th>\n",
       "      <th>T_Fare</th>\n",
       "      <th>Survived</th>\n",
       "    </tr>\n",
       "  </thead>\n",
       "  <tbody>\n",
       "    <tr>\n",
       "      <th>0</th>\n",
       "      <td>3</td>\n",
       "      <td>22</td>\n",
       "      <td>1</td>\n",
       "      <td>0</td>\n",
       "      <td>1</td>\n",
       "      <td>0</td>\n",
       "      <td>1</td>\n",
       "      <td>1</td>\n",
       "      <td>2</td>\n",
       "      <td>3.5</td>\n",
       "      <td>0</td>\n",
       "      <td>0</td>\n",
       "    </tr>\n",
       "    <tr>\n",
       "      <th>1</th>\n",
       "      <td>1</td>\n",
       "      <td>38</td>\n",
       "      <td>1</td>\n",
       "      <td>0</td>\n",
       "      <td>2</td>\n",
       "      <td>0</td>\n",
       "      <td>0</td>\n",
       "      <td>2</td>\n",
       "      <td>2</td>\n",
       "      <td>35.5</td>\n",
       "      <td>5</td>\n",
       "      <td>1</td>\n",
       "    </tr>\n",
       "    <tr>\n",
       "      <th>2</th>\n",
       "      <td>3</td>\n",
       "      <td>26</td>\n",
       "      <td>0</td>\n",
       "      <td>0</td>\n",
       "      <td>3</td>\n",
       "      <td>0</td>\n",
       "      <td>0</td>\n",
       "      <td>1</td>\n",
       "      <td>1</td>\n",
       "      <td>7.0</td>\n",
       "      <td>0</td>\n",
       "      <td>1</td>\n",
       "    </tr>\n",
       "    <tr>\n",
       "      <th>3</th>\n",
       "      <td>1</td>\n",
       "      <td>35</td>\n",
       "      <td>1</td>\n",
       "      <td>0</td>\n",
       "      <td>2</td>\n",
       "      <td>0</td>\n",
       "      <td>0</td>\n",
       "      <td>1</td>\n",
       "      <td>2</td>\n",
       "      <td>26.5</td>\n",
       "      <td>3</td>\n",
       "      <td>1</td>\n",
       "    </tr>\n",
       "    <tr>\n",
       "      <th>4</th>\n",
       "      <td>3</td>\n",
       "      <td>35</td>\n",
       "      <td>0</td>\n",
       "      <td>0</td>\n",
       "      <td>1</td>\n",
       "      <td>0</td>\n",
       "      <td>1</td>\n",
       "      <td>1</td>\n",
       "      <td>1</td>\n",
       "      <td>8.0</td>\n",
       "      <td>0</td>\n",
       "      <td>0</td>\n",
       "    </tr>\n",
       "  </tbody>\n",
       "</table>\n",
       "</div>"
      ],
      "text/plain": [
       "   Pclass  Age  SibSp  Parch  Name_title  T_MR  T_sex  T_embarked  T_family  \\\n",
       "0       3   22      1      0           1     0      1           1         2   \n",
       "1       1   38      1      0           2     0      0           2         2   \n",
       "2       3   26      0      0           3     0      0           1         1   \n",
       "3       1   35      1      0           2     0      0           1         2   \n",
       "4       3   35      0      0           1     0      1           1         1   \n",
       "\n",
       "   Family_fare  T_Fare  Survived  \n",
       "0          3.5       0         0  \n",
       "1         35.5       5         1  \n",
       "2          7.0       0         1  \n",
       "3         26.5       3         1  \n",
       "4          8.0       0         0  "
      ]
     },
     "execution_count": 56,
     "metadata": {},
     "output_type": "execute_result"
    }
   ],
   "source": [
    "temp = train_X.copy()\n",
    "temp = temp.join(train_y)\n",
    "temp.head()"
   ]
  },
  {
   "cell_type": "code",
   "execution_count": 57,
   "id": "olive-reggae",
   "metadata": {},
   "outputs": [
    {
     "data": {
      "image/png": "[encoded data removed]",
      "text/plain": [
       "<Figure size 576x216 with 2 Axes>"
      ]
     },
     "metadata": {},
     "output_type": "display_data"
    }
   ],
   "source": [
    "sns.set()\n",
    "fig, axes = plt.subplots(ncols=2, figsize=(8, 3))\n",
    "ax = sns.histplot(temp[temp[\"T_sex\"]==1], x=\"Age\", hue=\"Survived\", element=\"step\", ax=axes[0])\n",
    "ax.set_title(\"male\")\n",
    "ax = sns.histplot(temp[temp[\"T_sex\"]==0], x=\"Age\", hue=\"Survived\", element=\"step\", ax=axes[1])\n",
    "ax.set_title(\"female\")\n",
    "plt.show()"
   ]
  },
  {
   "cell_type": "code",
   "execution_count": 58,
   "id": "skilled-census",
   "metadata": {},
   "outputs": [],
   "source": [
    "# 0~17\n",
    "# 18~38\n",
    "# 39~60\n",
    "# 60~\n",
    "def age_bining(x) :  #df[\"Age\"]\n",
    "    T_Age = 0\n",
    "    if x>0 & x <= 17:\n",
    "        T_Age = 1\n",
    "    elif x>17 & x <= 38:\n",
    "        T_Age = 2\n",
    "    elif  x>38 & x <= 60:\n",
    "        T_Age = 3\n",
    "    else:\n",
    "        T_Age = 4\n",
    "    return  T_Age   \n",
    "train_X[\"T_Age\"] = train_X[\"Age\"].apply(lambda x : age_bining(x))\n",
    "test[\"T_Age\"] = test[\"Age\"].apply(lambda x : age_bining(x))"
   ]
  },
  {
   "cell_type": "code",
   "execution_count": 59,
   "id": "possible-butter",
   "metadata": {},
   "outputs": [
    {
     "name": "stdout",
     "output_type": "stream",
     "text": [
      "Accuracy : 0.754190\n"
     ]
    }
   ],
   "source": [
    "myfit(train_X, train_y, dt)  #0.787709 --> 0.782123"
   ]
  },
  {
   "cell_type": "code",
   "execution_count": 60,
   "id": "explicit-dominican",
   "metadata": {},
   "outputs": [
    {
     "name": "stdout",
     "output_type": "stream",
     "text": [
      "   T_Age  Age\n",
      "0      4   22\n",
      "1      7   38\n",
      "2      5   26\n",
      "3      7   35\n",
      "4      7   35\n",
      "5      6   32\n",
      "6     10   54\n",
      "7      0    2\n"
     ]
    }
   ],
   "source": [
    "train_X[\"T_Age\"] = train_X[\"Age\"].apply(lambda x : x//5)\n",
    "train_X[\"T_Age\"] = train_X[\"T_Age\"].astype(int)\n",
    "print(train_X[[\"T_Age\",\"Age\"]].head(8))"
   ]
  },
  {
   "cell_type": "code",
   "execution_count": 61,
   "id": "mediterranean-benefit",
   "metadata": {},
   "outputs": [
    {
     "name": "stdout",
     "output_type": "stream",
     "text": [
      "Accuracy : 0.765363\n"
     ]
    }
   ],
   "source": [
    "myfit(train_X, train_y, dt)  #0.793296"
   ]
  },
  {
   "cell_type": "code",
   "execution_count": 62,
   "id": "polyphonic-breeding",
   "metadata": {},
   "outputs": [],
   "source": [
    "# train_X.drop([\"Age\"], inplace=True, axis=1)"
   ]
  },
  {
   "cell_type": "code",
   "execution_count": 63,
   "id": "assured-phrase",
   "metadata": {},
   "outputs": [
    {
     "name": "stdout",
     "output_type": "stream",
     "text": [
      "Accuracy : 0.776536\n",
      "                    4         1            9         0         11        8   \\\n",
      "featuer     Name_title       Age  Family_fare    Pclass     T_Age  T_family   \n",
      "importance    0.359888  0.195043     0.128694  0.092364  0.064493  0.055366   \n",
      "\n",
      "                  10          7         2         3         6     5   \n",
      "featuer       T_Fare  T_embarked     SibSp     Parch     T_sex  T_MR  \n",
      "importance  0.048258    0.032421  0.014288  0.004863  0.004322   0.0  \n"
     ]
    }
   ],
   "source": [
    "myfit(train_X, train_y, dt, 1)  #0.810056  //  0.815642"
   ]
  },
  {
   "cell_type": "code",
   "execution_count": 64,
   "id": "equal-software",
   "metadata": {},
   "outputs": [
    {
     "name": "stdout",
     "output_type": "stream",
     "text": [
      "<class 'sklearn.tree._classes.DecisionTreeClassifier'>\n",
      "Accuracy : 0.782123\n",
      "                    4        1            9        11        0         8   \\\n",
      "featuer     Name_title      Age  Family_fare    T_Age    Pclass  T_family   \n",
      "importance    0.369073  0.15643     0.141501  0.09901  0.098847  0.058608   \n",
      "\n",
      "                  10          7         2      3     5      6   \n",
      "featuer       T_Fare  T_embarked     SibSp  Parch  T_MR  T_sex  \n",
      "importance  0.032251    0.028045  0.016235    0.0   0.0    0.0  \n",
      "<class 'sklearn.ensemble._forest.RandomForestClassifier'>\n",
      "Accuracy : 0.815642\n",
      "                  6         1            9           4         11       0   \\\n",
      "featuer        T_sex       Age  Family_fare  Name_title     T_Age   Pclass   \n",
      "importance  0.167826  0.166868      0.16541    0.151063  0.086872  0.06742   \n",
      "\n",
      "                  10        8           7         2         3     5   \n",
      "featuer       T_Fare  T_family  T_embarked     SibSp     Parch  T_MR  \n",
      "importance  0.061812  0.049498    0.035545  0.030644  0.017042   0.0  \n"
     ]
    }
   ],
   "source": [
    "models = [dt,rf] #,lr,knn ]\n",
    "for model in models:\n",
    "    print(model.__class__)\n",
    "    myfit(train_X, train_y, model, 1)  #0.810056  //  0.815642"
   ]
  },
  {
   "cell_type": "code",
   "execution_count": 65,
   "id": "fitted-tomorrow",
   "metadata": {},
   "outputs": [],
   "source": [
    "train_X[\"T_fare_per_one\"] = train_X[\"T_Fare\"] / train_X[\"T_family\"]\n",
    "test[\"T_fare_per_one\"] = test[\"T_Fare\"] / test[\"T_family\"]"
   ]
  },
  {
   "cell_type": "code",
   "execution_count": 66,
   "id": "compatible-middle",
   "metadata": {},
   "outputs": [
    {
     "name": "stdout",
     "output_type": "stream",
     "text": [
      "Accuracy : 0.826816\n",
      "                    4        1            9         6         11        0   \\\n",
      "featuer     Name_title      Age  Family_fare     T_sex     T_Age    Pclass   \n",
      "importance    0.177231  0.16413     0.144839  0.140543  0.085686  0.064636   \n",
      "\n",
      "                        12        10        8           7         2        3   \\\n",
      "featuer     T_fare_per_one    T_Fare  T_family  T_embarked     SibSp    Parch   \n",
      "importance        0.054364  0.047025  0.044621    0.035997  0.026579  0.01435   \n",
      "\n",
      "              5   \n",
      "featuer     T_MR  \n",
      "importance   0.0  \n"
     ]
    }
   ],
   "source": [
    "myfit(train_X, train_y, model, 1)  #0.849162"
   ]
  },
  {
   "cell_type": "code",
   "execution_count": 67,
   "id": "variable-supervisor",
   "metadata": {},
   "outputs": [
    {
     "data": {
      "text/plain": [
       "36"
      ]
     },
     "execution_count": 67,
     "metadata": {},
     "output_type": "execute_result"
    }
   ],
   "source": [
    "train_X[\"T_fare_per_one\"].nunique()"
   ]
  },
  {
   "cell_type": "code",
   "execution_count": 68,
   "id": "recreational-storage",
   "metadata": {},
   "outputs": [],
   "source": [
    "train_X[\"T_fare_per_one\"] = (train_X[\"T_Fare\"] / train_X[\"T_family\"]).astype(int)\n",
    "test[\"T_fare_per_one\"]    = (test[\"T_Fare\"] / test[\"T_family\"]).astype(int)"
   ]
  },
  {
   "cell_type": "code",
   "execution_count": 69,
   "id": "regular-story",
   "metadata": {},
   "outputs": [
    {
     "data": {
      "text/plain": [
       "15"
      ]
     },
     "execution_count": 69,
     "metadata": {},
     "output_type": "execute_result"
    }
   ],
   "source": [
    "train_X[\"T_fare_per_one\"].nunique()"
   ]
  },
  {
   "cell_type": "code",
   "execution_count": 70,
   "id": "modern-bargain",
   "metadata": {},
   "outputs": [
    {
     "name": "stdout",
     "output_type": "stream",
     "text": [
      "<class 'pandas.core.frame.DataFrame'>\n",
      "RangeIndex: 891 entries, 0 to 890\n",
      "Data columns (total 13 columns):\n",
      " #   Column          Non-Null Count  Dtype  \n",
      "---  ------          --------------  -----  \n",
      " 0   Pclass          891 non-null    int64  \n",
      " 1   Age             891 non-null    int32  \n",
      " 2   SibSp           891 non-null    int64  \n",
      " 3   Parch           891 non-null    int64  \n",
      " 4   Name_title      891 non-null    int64  \n",
      " 5   T_MR            891 non-null    int64  \n",
      " 6   T_sex           891 non-null    int64  \n",
      " 7   T_embarked      891 non-null    int64  \n",
      " 8   T_family        891 non-null    int64  \n",
      " 9   Family_fare     891 non-null    float64\n",
      " 10  T_Fare          891 non-null    int32  \n",
      " 11  T_Age           891 non-null    int32  \n",
      " 12  T_fare_per_one  891 non-null    int32  \n",
      "dtypes: float64(1), int32(4), int64(8)\n",
      "memory usage: 76.7 KB\n"
     ]
    }
   ],
   "source": [
    "train_X.info()"
   ]
  },
  {
   "cell_type": "code",
   "execution_count": 71,
   "id": "buried-garden",
   "metadata": {},
   "outputs": [
    {
     "data": {
      "text/plain": [
       "<AxesSubplot:xlabel='feature'>"
      ]
     },
     "execution_count": 71,
     "metadata": {},
     "output_type": "execute_result"
    },
    {
     "data": {
      "image/png": "[encoded data removed]",
      "text/plain": [
       "<Figure size 432x288 with 1 Axes>"
      ]
     },
     "metadata": {},
     "output_type": "display_data"
    }
   ],
   "source": [
    "importances = pd.DataFrame({'feature':train_X.columns,'importance':np.round(rf.feature_importances_,3)})\n",
    "importances = importances.sort_values('importance',ascending=False).set_index('feature')\n",
    "importances.head(15).T\n",
    "importances.plot.bar()\n",
    "\n"
   ]
  },
  {
   "cell_type": "code",
   "execution_count": 72,
   "id": "curious-arrow",
   "metadata": {},
   "outputs": [],
   "source": [
    "train_X.drop(['T_MR'], axis=1, inplace=True)\n",
    "test.drop(['T_MR'], axis=1, inplace=True)"
   ]
  },
  {
   "cell_type": "code",
   "execution_count": 73,
   "id": "established-portugal",
   "metadata": {},
   "outputs": [
    {
     "name": "stdout",
     "output_type": "stream",
     "text": [
      "Accuracy : 0.821229\n",
      "                    4         1            8         5         10        0   \\\n",
      "featuer     Name_title       Age  Family_fare     T_sex     T_Age    Pclass   \n",
      "importance    0.201356  0.160836     0.151118  0.121077  0.086278  0.056247   \n",
      "\n",
      "                  9         7               11          6         2         3   \n",
      "featuer       T_Fare  T_family  T_fare_per_one  T_embarked     SibSp     Parch  \n",
      "importance  0.052475  0.051069        0.036958    0.034295  0.032864  0.015427  \n"
     ]
    }
   ],
   "source": [
    "myfit(train_X, train_y, rf, 1)  #0.815642"
   ]
  },
  {
   "cell_type": "markdown",
   "id": "vertical-association",
   "metadata": {},
   "source": [
    "## Ensemble Model"
   ]
  },
  {
   "cell_type": "markdown",
   "id": "attached-engine",
   "metadata": {},
   "source": [
    "### 보팅 : VottingClassifier"
   ]
  },
  {
   "cell_type": "code",
   "execution_count": 74,
   "id": "virgin-patient",
   "metadata": {},
   "outputs": [
    {
     "name": "stdout",
     "output_type": "stream",
     "text": [
      "Accuracy : 0.826816\n"
     ]
    }
   ],
   "source": [
    "from sklearn.ensemble import VotingClassifier\n",
    "\n",
    "models = [('DT',dt), ('LR',lr), ('KNN',knn)]\n",
    "vot = VotingClassifier(models, voting='hard' )   # weights=None\n",
    "myfit(train_X, train_y, vot)   # 0.826816"
   ]
  },
  {
   "cell_type": "code",
   "execution_count": 75,
   "id": "historical-colony",
   "metadata": {},
   "outputs": [
    {
     "name": "stdout",
     "output_type": "stream",
     "text": [
      "DT\n",
      "Accuracy : 0.776536\n",
      "LR\n",
      "Accuracy : 0.821229\n",
      "KNN\n",
      "Accuracy : 0.782123\n"
     ]
    }
   ],
   "source": [
    "models = [('DT',dt), ('LR',lr), ('KNN',knn)]\n",
    "for model in models:\n",
    "    print(model[0])\n",
    "    myfit(train_X, train_y, model[1])   "
   ]
  },
  {
   "cell_type": "markdown",
   "id": "expressed-death",
   "metadata": {},
   "source": [
    "### 배깅 : Vagging\n",
    "* 하이퍼파라미터 : 학습 후 예측결과에 영향을 끼치는 파라미터\n",
    "* 하이퍼파라미터 튜닝 : 파라미터 수치를 고치는 행위"
   ]
  },
  {
   "cell_type": "code",
   "execution_count": 76,
   "id": "ideal-doubt",
   "metadata": {},
   "outputs": [
    {
     "name": "stdout",
     "output_type": "stream",
     "text": [
      "Accuracy : 0.798883\n"
     ]
    }
   ],
   "source": [
    "my_param = {\"n_estimators\":[100,300,500],\n",
    "            \"max_depth\":[1,2,3,4,5],\n",
    "            \"min_samples_split\":[1,2,3]\n",
    "            }\n",
    "bagg100 = RandomForestClassifier(n_estimators=100,max_depth=1)  #0.804469\n",
    "myfit(train_X, train_y, bagg100)"
   ]
  },
  {
   "cell_type": "code",
   "execution_count": 77,
   "id": "thirty-laugh",
   "metadata": {},
   "outputs": [
    {
     "name": "stdout",
     "output_type": "stream",
     "text": [
      "Accuracy : 0.854749\n"
     ]
    }
   ],
   "source": [
    "bagg = RandomForestClassifier(n_estimators=100,max_depth=10)  # 0.865922\n",
    "myfit(train_X, train_y, bagg)"
   ]
  },
  {
   "cell_type": "code",
   "execution_count": 78,
   "id": "certain-creator",
   "metadata": {},
   "outputs": [],
   "source": [
    "# 0.854749  0.849162 0.849162 0.854749  0.849162 0.849162 0.854749  0.849162 0.849162"
   ]
  },
  {
   "cell_type": "code",
   "execution_count": null,
   "id": "selective-chester",
   "metadata": {},
   "outputs": [],
   "source": []
  },
  {
   "cell_type": "code",
   "execution_count": null,
   "id": "naughty-visiting",
   "metadata": {},
   "outputs": [],
   "source": []
  },
  {
   "cell_type": "code",
   "execution_count": null,
   "id": "clear-landing",
   "metadata": {},
   "outputs": [],
   "source": []
  },
  {
   "cell_type": "markdown",
   "id": "affecting-movement",
   "metadata": {},
   "source": [
    "# 검증"
   ]
  },
  {
   "cell_type": "markdown",
   "id": "composite-transportation",
   "metadata": {},
   "source": [
    "### KFold"
   ]
  },
  {
   "cell_type": "code",
   "execution_count": 79,
   "id": "electrical-kuwait",
   "metadata": {},
   "outputs": [
    {
     "name": "stdout",
     "output_type": "stream",
     "text": [
      "TRAIN: 712 TEST: 179\n",
      "Accuracy : 0.826816\n",
      "TRAIN: 713 TEST: 178\n",
      "Accuracy : 0.814607\n",
      "TRAIN: 713 TEST: 178\n",
      "Accuracy : 0.842697\n",
      "TRAIN: 713 TEST: 178\n",
      "Accuracy : 0.814607\n",
      "TRAIN: 713 TEST: 178\n",
      "Accuracy : 0.842697\n",
      "5회 평균 Accuracy:0.8283\n"
     ]
    }
   ],
   "source": [
    "from sklearn.model_selection import KFold\n",
    "from sklearn.model_selection import StratifiedKFold\n",
    "\n",
    "N_SPLIT = 5\n",
    "# kfold = KFold(n_splits=5, shuffle=True, random_state=131)\n",
    "kfold = KFold(n_splits=N_SPLIT, shuffle=False)\n",
    "scores = []\n",
    "for train_index, test_index in kfold.split(train_X):  #-----------StratifiedKFold\n",
    "    print(\"TRAIN:\", len(train_index) , \"TEST:\", len(test_index))\n",
    "    X_train, X_test = train_X.iloc[train_index], train_X.iloc[test_index]\n",
    "    y_train, y_test = train_y.iloc[train_index], train_y.iloc[test_index]\n",
    "    bagg.fit(X_train, y_train)\n",
    "    pred = bagg.predict(X_test)\n",
    "    df_score = accuracy_score(pred, y_test)\n",
    "    scores.append(df_score)\n",
    "    print(\"Accuracy : {:.6f}\".format(df_score))\n",
    "print(\"{:d}회 평균 Accuracy:{:.4f}\".format(N_SPLIT, np.array(scores).mean()))   #0.8539"
   ]
  },
  {
   "cell_type": "markdown",
   "id": "alone-contrast",
   "metadata": {},
   "source": [
    "### StratifiedKFold"
   ]
  },
  {
   "cell_type": "code",
   "execution_count": 80,
   "id": "ongoing-estimate",
   "metadata": {},
   "outputs": [
    {
     "name": "stdout",
     "output_type": "stream",
     "text": [
      "TRAIN: 712 TEST: 179\n",
      "Accuracy : 0.815642\n",
      "TRAIN: 713 TEST: 178\n",
      "Accuracy : 0.797753\n",
      "TRAIN: 713 TEST: 178\n",
      "Accuracy : 0.859551\n",
      "TRAIN: 713 TEST: 178\n",
      "Accuracy : 0.820225\n",
      "TRAIN: 713 TEST: 178\n",
      "Accuracy : 0.859551\n",
      "5회 평균 Accuracy:0.8305\n"
     ]
    }
   ],
   "source": [
    "from sklearn.model_selection import StratifiedKFold\n",
    "skfold = StratifiedKFold(n_splits=5, shuffle=False)\n",
    "scores = []\n",
    "for train_index, test_index in skfold.split(train_X, train_y):\n",
    "    print(\"TRAIN:\", len(train_index) , \"TEST:\", len(test_index))\n",
    "    X_train, X_test = train_X.iloc[train_index], train_X.iloc[test_index]\n",
    "    y_train, y_test = train_y.iloc[train_index], train_y.iloc[test_index]\n",
    "    bagg.fit(X_train, y_train)\n",
    "    pred = bagg.predict(X_test)\n",
    "    df_score = accuracy_score(pred, y_test)\n",
    "    scores.append(df_score)\n",
    "    print(\"Accuracy : {:.6f}\".format(df_score))\n",
    "print(\"{:d}회 평균 Accuracy:{:.4f}\".format(N_SPLIT,  np.array(scores).mean()))   #0.8483"
   ]
  },
  {
   "cell_type": "code",
   "execution_count": 81,
   "id": "varied-illness",
   "metadata": {},
   "outputs": [],
   "source": [
    "# train_X.to_csv(\"train_pre_data.csv\", index=False)"
   ]
  },
  {
   "cell_type": "markdown",
   "id": "damaged-breakfast",
   "metadata": {},
   "source": [
    "## cross_val_score"
   ]
  },
  {
   "cell_type": "code",
   "execution_count": 82,
   "id": "grave-limitation",
   "metadata": {},
   "outputs": [],
   "source": [
    "from sklearn.model_selection import cross_val_score"
   ]
  },
  {
   "cell_type": "code",
   "execution_count": 83,
   "id": "bridal-hungary",
   "metadata": {},
   "outputs": [],
   "source": [
    "scores_list = cross_val_score(rf, train_X, train_y, cv=5, scoring=\"accuracy\")"
   ]
  },
  {
   "cell_type": "code",
   "execution_count": 84,
   "id": "regulated-mediterranean",
   "metadata": {},
   "outputs": [
    {
     "name": "stdout",
     "output_type": "stream",
     "text": [
      "[0.81005587 0.79213483 0.85393258 0.79775281 0.8258427 ]\n",
      "0.8159437574540205\n"
     ]
    }
   ],
   "source": [
    "print(scores_list)\n",
    "print(scores_list.mean())"
   ]
  },
  {
   "cell_type": "markdown",
   "id": "cathedral-civilization",
   "metadata": {},
   "source": [
    "## GridSearchCV : 하이퍼파라미터 튜닝"
   ]
  },
  {
   "cell_type": "code",
   "execution_count": 85,
   "id": "unusual-wedding",
   "metadata": {},
   "outputs": [],
   "source": [
    "from sklearn.model_selection import GridSearchCV"
   ]
  },
  {
   "cell_type": "code",
   "execution_count": 86,
   "id": "roman-rotation",
   "metadata": {},
   "outputs": [],
   "source": [
    "my_param = {\"n_estimators\":[100,300,500],\n",
    "            \"max_depth\":[1,2,3,4,5],\n",
    "            \"min_samples_split\":[1,2,3]\n",
    "            }\n",
    "gcv = GridSearchCV(rf , param_grid=my_param, scoring='accuracy', refit=True, cv=5)\n",
    "#     rf = RandomForest(\"n_estimators\":100,  \"max_depth\"=4, \"min_samples_split\"=3)"
   ]
  },
  {
   "cell_type": "code",
   "execution_count": 87,
   "id": "operating-revision",
   "metadata": {},
   "outputs": [
    {
     "data": {
      "text/plain": [
       "GridSearchCV(cv=5, estimator=RandomForestClassifier(),\n",
       "             param_grid={'max_depth': [1, 2, 3, 4, 5],\n",
       "                         'min_samples_split': [1, 2, 3],\n",
       "                         'n_estimators': [100, 300, 500]},\n",
       "             scoring='accuracy')"
      ]
     },
     "execution_count": 87,
     "metadata": {},
     "output_type": "execute_result"
    }
   ],
   "source": [
    "gcv.fit(train_X, train_y)"
   ]
  },
  {
   "cell_type": "code",
   "execution_count": 88,
   "id": "transparent-complex",
   "metadata": {},
   "outputs": [
    {
     "name": "stdout",
     "output_type": "stream",
     "text": [
      "dict_keys(['mean_fit_time', 'std_fit_time', 'mean_score_time', 'std_score_time', 'param_max_depth', 'param_min_samples_split', 'param_n_estimators', 'params', 'split0_test_score', 'split1_test_score', 'split2_test_score', 'split3_test_score', 'split4_test_score', 'mean_test_score', 'std_test_score', 'rank_test_score'])\n"
     ]
    }
   ],
   "source": [
    "print(gcv.cv_results_.keys())"
   ]
  },
  {
   "cell_type": "code",
   "execution_count": 89,
   "id": "adjacent-stand",
   "metadata": {},
   "outputs": [
    {
     "name": "stdout",
     "output_type": "stream",
     "text": [
      "[       nan        nan        nan 0.78118762 0.76995794 0.77669952\n",
      " 0.77556337 0.78008286 0.77332873        nan        nan        nan\n",
      " 0.80811625 0.80362815 0.8215429  0.80475174 0.80362815 0.80362815\n",
      "        nan        nan        nan 0.82491997 0.82377754 0.82378382\n",
      " 0.82490114 0.82153663 0.82378382        nan        nan        nan\n",
      " 0.83164271 0.82939552 0.82603729 0.83051284 0.83051911 0.8271546\n",
      "        nan        nan        nan 0.82603101 0.82491997 0.82603101\n",
      " 0.82939552 0.82827192 0.82490741]\n"
     ]
    }
   ],
   "source": [
    "print(gcv.cv_results_[\"mean_test_score\"])"
   ]
  },
  {
   "cell_type": "code",
   "execution_count": 90,
   "id": "handmade-kernel",
   "metadata": {},
   "outputs": [
    {
     "name": "stdout",
     "output_type": "stream",
     "text": [
      "0.8316427091833531\n"
     ]
    }
   ],
   "source": [
    "print(gcv.best_score_)"
   ]
  },
  {
   "cell_type": "code",
   "execution_count": 91,
   "id": "veterinary-shaft",
   "metadata": {},
   "outputs": [
    {
     "name": "stdout",
     "output_type": "stream",
     "text": [
      "{'max_depth': 4, 'min_samples_split': 2, 'n_estimators': 100}\n"
     ]
    }
   ],
   "source": [
    "print(gcv.best_params_)"
   ]
  },
  {
   "cell_type": "code",
   "execution_count": 100,
   "id": "intermediate-macedonia",
   "metadata": {},
   "outputs": [],
   "source": [
    "pred_for_submit = gcv.predict(test)"
   ]
  },
  {
   "cell_type": "code",
   "execution_count": 101,
   "id": "tight-technical",
   "metadata": {},
   "outputs": [
    {
     "name": "stdout",
     "output_type": "stream",
     "text": [
      "[0 0 0 0 1 0 1 0 1 0 0 0 1 0 1 1 0 0 1 1 0 1 1 0 1 0 1 0 0 0 0 0 1 0 0 0 1\n",
      " 1 0 0 0 0 0 1 1 0 0 0 1 1 0 0 1 1 0 0 0 0 0 1 0 0 0 1 1 1 1 0 0 1 1 0 1 0\n",
      " 1 0 0 1 0 1 1 0 0 0 0 0 1 1 1 1 1 0 1 0 0 0 1 0 1 0 1 0 0 0 1 0 0 0 0 0 0\n",
      " 1 1 1 1 0 0 1 0 1 1 0 1 0 0 1 0 1 0 0 0 1 0 0 0 0 0 0 1 0 0 1 0 0 0 0 0 0\n",
      " 0 1 1 0 0 1 0 0 1 1 0 1 1 1 1 0 0 1 0 0 1 1 0 0 0 0 0 1 1 0 1 1 0 0 1 0 1\n",
      " 0 1 0 0 0 0 0 0 0 1 0 1 1 0 1 1 1 1 1 0 0 1 0 1 0 0 0 0 1 0 0 1 0 1 0 1 0\n",
      " 1 0 1 1 0 1 0 0 0 1 0 0 0 0 0 0 1 1 1 1 0 0 1 0 1 0 1 1 1 0 0 0 0 0 0 0 1\n",
      " 0 0 0 1 1 0 0 0 0 1 0 0 0 1 1 0 1 0 0 0 0 1 1 1 1 1 0 0 0 0 0 0 1 0 1 0 0\n",
      " 1 0 0 0 0 0 0 0 1 1 0 1 0 0 0 0 0 1 1 1 0 0 0 0 0 0 0 0 1 0 1 0 0 0 1 0 0\n",
      " 1 0 0 0 0 0 1 0 0 0 1 1 1 0 1 0 1 1 0 0 0 1 0 1 0 0 1 0 1 1 0 1 0 0 1 1 0\n",
      " 0 1 0 0 1 1 1 0 0 0 0 0 1 1 0 1 0 0 0 0 0 1 0 0 0 1 0 1 0 0 1 0 1 0 0 0 0\n",
      " 0 1 1 1 1 1 0 1 0 0 1]\n"
     ]
    }
   ],
   "source": [
    "print(pred_for_submit)"
   ]
  },
  {
   "cell_type": "code",
   "execution_count": 102,
   "id": "productive-objective",
   "metadata": {},
   "outputs": [
    {
     "data": {
      "text/html": [
       "<div>\n",
       "<style scoped>\n",
       "    .dataframe tbody tr th:only-of-type {\n",
       "        vertical-align: middle;\n",
       "    }\n",
       "\n",
       "    .dataframe tbody tr th {\n",
       "        vertical-align: top;\n",
       "    }\n",
       "\n",
       "    .dataframe thead th {\n",
       "        text-align: right;\n",
       "    }\n",
       "</style>\n",
       "<table border=\"1\" class=\"dataframe\">\n",
       "  <thead>\n",
       "    <tr style=\"text-align: right;\">\n",
       "      <th></th>\n",
       "      <th>PassengerId</th>\n",
       "      <th>Survived</th>\n",
       "    </tr>\n",
       "  </thead>\n",
       "  <tbody>\n",
       "    <tr>\n",
       "      <th>0</th>\n",
       "      <td>892</td>\n",
       "      <td>0</td>\n",
       "    </tr>\n",
       "    <tr>\n",
       "      <th>1</th>\n",
       "      <td>893</td>\n",
       "      <td>1</td>\n",
       "    </tr>\n",
       "    <tr>\n",
       "      <th>2</th>\n",
       "      <td>894</td>\n",
       "      <td>0</td>\n",
       "    </tr>\n",
       "    <tr>\n",
       "      <th>3</th>\n",
       "      <td>895</td>\n",
       "      <td>0</td>\n",
       "    </tr>\n",
       "    <tr>\n",
       "      <th>4</th>\n",
       "      <td>896</td>\n",
       "      <td>1</td>\n",
       "    </tr>\n",
       "  </tbody>\n",
       "</table>\n",
       "</div>"
      ],
      "text/plain": [
       "   PassengerId  Survived\n",
       "0          892         0\n",
       "1          893         1\n",
       "2          894         0\n",
       "3          895         0\n",
       "4          896         1"
      ]
     },
     "execution_count": 102,
     "metadata": {},
     "output_type": "execute_result"
    }
   ],
   "source": [
    "sub_df.head()"
   ]
  },
  {
   "cell_type": "markdown",
   "id": "compatible-breeding",
   "metadata": {},
   "source": [
    "### 밥벙1 : gender_submission.csv"
   ]
  },
  {
   "cell_type": "code",
   "execution_count": 107,
   "id": "similar-opposition",
   "metadata": {},
   "outputs": [
    {
     "name": "stdout",
     "output_type": "stream",
     "text": [
      "(418, 2) 418\n",
      "   PassengerId  Survived\n",
      "0          892         0\n",
      "1          893         0\n",
      "2          894         0\n",
      "3          895         0\n",
      "4          896         1\n"
     ]
    }
   ],
   "source": [
    "print(sub_df.shape,  len(pred_for_submit))\n",
    "sub_df[\"Survived\"] = np.array(pred_for_submit).reshape(-1,1)\n",
    "print(sub_df.head())"
   ]
  },
  {
   "cell_type": "markdown",
   "id": "solved-pizza",
   "metadata": {},
   "source": [
    "### 밥벙2 : lkh_submission.csv"
   ]
  },
  {
   "cell_type": "code",
   "execution_count": 108,
   "id": "initial-miniature",
   "metadata": {},
   "outputs": [
    {
     "data": {
      "text/html": [
       "<div>\n",
       "<style scoped>\n",
       "    .dataframe tbody tr th:only-of-type {\n",
       "        vertical-align: middle;\n",
       "    }\n",
       "\n",
       "    .dataframe tbody tr th {\n",
       "        vertical-align: top;\n",
       "    }\n",
       "\n",
       "    .dataframe thead th {\n",
       "        text-align: right;\n",
       "    }\n",
       "</style>\n",
       "<table border=\"1\" class=\"dataframe\">\n",
       "  <thead>\n",
       "    <tr style=\"text-align: right;\">\n",
       "      <th></th>\n",
       "      <th>PassengerId</th>\n",
       "      <th>Survived</th>\n",
       "    </tr>\n",
       "  </thead>\n",
       "  <tbody>\n",
       "    <tr>\n",
       "      <th>0</th>\n",
       "      <td>892</td>\n",
       "      <td>0</td>\n",
       "    </tr>\n",
       "    <tr>\n",
       "      <th>1</th>\n",
       "      <td>893</td>\n",
       "      <td>0</td>\n",
       "    </tr>\n",
       "    <tr>\n",
       "      <th>2</th>\n",
       "      <td>894</td>\n",
       "      <td>0</td>\n",
       "    </tr>\n",
       "    <tr>\n",
       "      <th>3</th>\n",
       "      <td>895</td>\n",
       "      <td>0</td>\n",
       "    </tr>\n",
       "    <tr>\n",
       "      <th>4</th>\n",
       "      <td>896</td>\n",
       "      <td>1</td>\n",
       "    </tr>\n",
       "  </tbody>\n",
       "</table>\n",
       "</div>"
      ],
      "text/plain": [
       "   PassengerId  Survived\n",
       "0          892         0\n",
       "1          893         0\n",
       "2          894         0\n",
       "3          895         0\n",
       "4          896         1"
      ]
     },
     "execution_count": 108,
     "metadata": {},
     "output_type": "execute_result"
    }
   ],
   "source": [
    "mydic = {\"PassengerId\" : sub_df[\"PassengerId\"].values,\n",
    " \"Survived\" : pred_for_submit }\n",
    "\n",
    "final_df = pd.DataFrame(mydic)\n",
    "final_df.head()"
   ]
  },
  {
   "cell_type": "code",
   "execution_count": 109,
   "id": "several-threshold",
   "metadata": {},
   "outputs": [],
   "source": [
    "final_df.to_csv(\"lkh_submission.csv\", index=False)"
   ]
  },
  {
   "cell_type": "code",
   "execution_count": 113,
   "id": "matched-collar",
   "metadata": {},
   "outputs": [],
   "source": [
    "# 892 ~ 1309"
   ]
  },
  {
   "cell_type": "code",
   "execution_count": 112,
   "id": "geological-invitation",
   "metadata": {},
   "outputs": [
    {
     "name": "stdout",
     "output_type": "stream",
     "text": [
      "   PassengerId  Survived\n",
      "0          892         0\n",
      "1          893         0\n",
      "2          894         0\n",
      "3          895         0\n",
      "4          896         0\n",
      "   PassengerId  Survived\n",
      "0          892         1\n",
      "1          893         1\n",
      "2          894         1\n",
      "3          895         1\n",
      "4          896         1\n"
     ]
    }
   ],
   "source": [
    "mypredict = np.zeros(sub_df.shape[0]).astype(int)\n",
    "sub_df[\"Survived\"] = np.array(mypredict).reshape(-1,1)\n",
    "print(sub_df.head())\n",
    "sub_df.to_csv(\"zeros_submission.csv\", index=False)\n",
    "\n",
    "mypredict = np.ones(sub_df.shape[0]).astype(int)\n",
    "sub_df[\"Survived\"] = np.array(mypredict).reshape(-1,1)\n",
    "print(sub_df.head())\n",
    "sub_df.to_csv(\"ones_submission.csv\", index=False)"
   ]
  },
  {
   "cell_type": "code",
   "execution_count": null,
   "id": "classified-newfoundland",
   "metadata": {},
   "outputs": [],
   "source": []
  },
  {
   "cell_type": "code",
   "execution_count": null,
   "id": "alone-agency",
   "metadata": {},
   "outputs": [],
   "source": []
  },
  {
   "cell_type": "code",
   "execution_count": 94,
   "id": "informational-stationery",
   "metadata": {},
   "outputs": [],
   "source": [
    "# install-url : https://gitlab.com/graphviz/graphviz/-/package_files/8184046/download\n",
    "# system path : ~/bin/dot.exe\n",
    "# from sklearn.tree import export_graphviz\n",
    "# import graphviz\n",
    "# export_graphviz(dt, out_file=\"tree.dot\", class_names=\"Survived\", feature_names = train_X.columns)\n",
    "# with open(\"tree.dot\") as f:\n",
    "#     dot_graph = f.read()\n",
    "# graphviz.Source(dot_graph)"
   ]
  },
  {
   "cell_type": "code",
   "execution_count": null,
   "id": "adjacent-installation",
   "metadata": {},
   "outputs": [],
   "source": []
  },
  {
   "cell_type": "code",
   "execution_count": null,
   "id": "adverse-change",
   "metadata": {},
   "outputs": [],
   "source": []
  },
  {
   "cell_type": "code",
   "execution_count": null,
   "id": "comprehensive-breeding",
   "metadata": {},
   "outputs": [],
   "source": []
  },
  {
   "cell_type": "code",
   "execution_count": null,
   "id": "premier-mobile",
   "metadata": {},
   "outputs": [],
   "source": []
  },
  {
   "cell_type": "code",
   "execution_count": null,
   "id": "cardiovascular-halifax",
   "metadata": {},
   "outputs": [],
   "source": []
  },
  {
   "cell_type": "code",
   "execution_count": null,
   "id": "civil-balance",
   "metadata": {},
   "outputs": [],
   "source": []
  },
  {
   "cell_type": "code",
   "execution_count": null,
   "id": "described-reach",
   "metadata": {},
   "outputs": [],
   "source": []
  },
  {
   "cell_type": "code",
   "execution_count": null,
   "id": "reported-saturday",
   "metadata": {},
   "outputs": [],
   "source": []
  },
  {
   "cell_type": "code",
   "execution_count": null,
   "id": "talented-positive",
   "metadata": {},
   "outputs": [],
   "source": []
  },
  {
   "cell_type": "code",
   "execution_count": null,
   "id": "stone-disposition",
   "metadata": {},
   "outputs": [],
   "source": []
  },
  {
   "cell_type": "code",
   "execution_count": null,
   "id": "figured-exchange",
   "metadata": {},
   "outputs": [],
   "source": []
  },
  {
   "cell_type": "code",
   "execution_count": 95,
   "id": "figured-blink",
   "metadata": {},
   "outputs": [],
   "source": [
    "# train_X['Age_Class']= train_X['Age']* train_X['Pclass']"
   ]
  },
  {
   "cell_type": "code",
   "execution_count": 96,
   "id": "spiritual-reception",
   "metadata": {},
   "outputs": [],
   "source": [
    "# rf = RandomForestClassifier(n_estimators=100)\n",
    "# myfit(train_X, train_y, rf, 1)  #0.843575"
   ]
  },
  {
   "cell_type": "code",
   "execution_count": 97,
   "id": "wicked-clinton",
   "metadata": {},
   "outputs": [],
   "source": [
    "# importances = pd.DataFrame({'feature':train_X.columns,'importance':np.round(rf.feature_importances_,3)})\n",
    "# importances = importances.sort_values('importance',ascending=False).set_index('feature')\n",
    "# importances.head(15).T\n",
    "# importances.plot.bar()"
   ]
  },
  {
   "cell_type": "code",
   "execution_count": 98,
   "id": "indoor-validity",
   "metadata": {},
   "outputs": [],
   "source": [
    "# train_X.head()"
   ]
  },
  {
   "cell_type": "code",
   "execution_count": 99,
   "id": "alternative-reviewer",
   "metadata": {},
   "outputs": [],
   "source": [
    "# param_grid = { \"criterion\" : [\"gini\", \"entropy\"], \"min_samples_leaf\" : [1, 5, 10, 25, 50, 70], \"min_samples_split\" : [2, 4, 10, 12, 16, 18, 25, 35], \"n_estimators\": [100, 400, 700, 1000, 1500]}\n",
    "# from sklearn.model_selection import GridSearchCV, cross_val_score\n",
    "# rf = RandomForestClassifier(n_estimators=100, max_features='auto', oob_score=True, random_state=1, n_jobs=-1)\n",
    "# clf = GridSearchCV(estimator=rf, param_grid=param_grid, n_jobs=-1)\n",
    "# clf.fit(train_X, train_y)\n",
    "# clf.best_score_"
   ]
  }
 ],
 "metadata": {
  "kernelspec": {
   "display_name": "Python 3",
   "language": "python",
   "name": "python3"
  },
  "language_info": {
   "codemirror_mode": {
    "name": "ipython",
    "version": 3
   },
   "file_extension": ".py",
   "mimetype": "text/x-python",
   "name": "python",
   "nbconvert_exporter": "python",
   "pygments_lexer": "ipython3",
   "version": "3.8.0"
  }
 },
 "nbformat": 4,
 "nbformat_minor": 5
}
