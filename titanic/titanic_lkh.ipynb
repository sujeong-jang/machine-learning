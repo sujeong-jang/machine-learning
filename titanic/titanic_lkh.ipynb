{
 "cells": [
  {
   "cell_type": "markdown",
   "id": "0d52884b",
   "metadata": {},
   "source": [
    "\n",
    "# 1. Defining the problem statement\n",
    "Complete the analysis of what sorts of people were likely to survive.\n",
    "In particular, we ask you to apply the tools of machine learning to predict which passengers survived the Titanic tragedy.\n"
   ]
  },
  {
   "cell_type": "code",
   "execution_count": 390,
   "id": "33625afe",
   "metadata": {},
   "outputs": [],
   "source": [
    "\n",
    "import numpy as np\n",
    "import pandas as pd\n",
    "import matplotlib.pyplot as plt\n",
    "import seaborn as sns\n"
   ]
  },
  {
   "cell_type": "markdown",
   "id": "436b5437",
   "metadata": {},
   "source": [
    "# 2. Collecting the data"
   ]
  },
  {
   "cell_type": "code",
   "execution_count": 391,
   "id": "2e9734b4",
   "metadata": {},
   "outputs": [],
   "source": [
    "# 주어진 데이터를 훈련하기 위해 데이터를 download\\\n",
    "train = pd.read_csv('train.csv')\n",
    "test = pd.read_csv('test.csv')\n",
    "sub_df = pd.read_csv('gender_submission.csv')"
   ]
  },
  {
   "cell_type": "markdown",
   "id": "3023c4d9",
   "metadata": {},
   "source": [
    "# 3. EDA(Exploratory Data Analysis) & Data Preprocessing\n",
    "## df :데이터 셋 확인\n",
    "* shape(row*col), info():피쳐이름,타입 ,  head():데이터샘플"
   ]
  },
  {
   "cell_type": "code",
   "execution_count": 392,
   "id": "9e3d6950",
   "metadata": {},
   "outputs": [
    {
     "name": "stdout",
     "output_type": "stream",
     "text": [
      "<class 'pandas.core.frame.DataFrame'>\n",
      "RangeIndex: 891 entries, 0 to 890\n",
      "Data columns (total 12 columns):\n",
      " #   Column       Non-Null Count  Dtype  \n",
      "---  ------       --------------  -----  \n",
      " 0   PassengerId  891 non-null    int64  \n",
      " 1   Survived     891 non-null    int64  \n",
      " 2   Pclass       891 non-null    int64  \n",
      " 3   Name         891 non-null    object \n",
      " 4   Sex          891 non-null    object \n",
      " 5   Age          714 non-null    float64\n",
      " 6   SibSp        891 non-null    int64  \n",
      " 7   Parch        891 non-null    int64  \n",
      " 8   Ticket       891 non-null    object \n",
      " 9   Fare         891 non-null    float64\n",
      " 10  Cabin        204 non-null    object \n",
      " 11  Embarked     889 non-null    object \n",
      "dtypes: float64(2), int64(5), object(5)\n",
      "memory usage: 83.7+ KB\n"
     ]
    },
    {
     "data": {
      "text/html": [
       "<div>\n",
       "<style scoped>\n",
       "    .dataframe tbody tr th:only-of-type {\n",
       "        vertical-align: middle;\n",
       "    }\n",
       "\n",
       "    .dataframe tbody tr th {\n",
       "        vertical-align: top;\n",
       "    }\n",
       "\n",
       "    .dataframe thead th {\n",
       "        text-align: right;\n",
       "    }\n",
       "</style>\n",
       "<table border=\"1\" class=\"dataframe\">\n",
       "  <thead>\n",
       "    <tr style=\"text-align: right;\">\n",
       "      <th></th>\n",
       "      <th>PassengerId</th>\n",
       "      <th>Survived</th>\n",
       "      <th>Pclass</th>\n",
       "      <th>Name</th>\n",
       "      <th>Sex</th>\n",
       "      <th>Age</th>\n",
       "      <th>SibSp</th>\n",
       "      <th>Parch</th>\n",
       "      <th>Ticket</th>\n",
       "      <th>Fare</th>\n",
       "      <th>Cabin</th>\n",
       "      <th>Embarked</th>\n",
       "    </tr>\n",
       "  </thead>\n",
       "  <tbody>\n",
       "    <tr>\n",
       "      <th>0</th>\n",
       "      <td>1</td>\n",
       "      <td>0</td>\n",
       "      <td>3</td>\n",
       "      <td>Braund, Mr. Owen Harris</td>\n",
       "      <td>male</td>\n",
       "      <td>22.0</td>\n",
       "      <td>1</td>\n",
       "      <td>0</td>\n",
       "      <td>A/5 21171</td>\n",
       "      <td>7.2500</td>\n",
       "      <td>NaN</td>\n",
       "      <td>S</td>\n",
       "    </tr>\n",
       "    <tr>\n",
       "      <th>1</th>\n",
       "      <td>2</td>\n",
       "      <td>1</td>\n",
       "      <td>1</td>\n",
       "      <td>Cumings, Mrs. John Bradley (Florence Briggs Th...</td>\n",
       "      <td>female</td>\n",
       "      <td>38.0</td>\n",
       "      <td>1</td>\n",
       "      <td>0</td>\n",
       "      <td>PC 17599</td>\n",
       "      <td>71.2833</td>\n",
       "      <td>C85</td>\n",
       "      <td>C</td>\n",
       "    </tr>\n",
       "    <tr>\n",
       "      <th>2</th>\n",
       "      <td>3</td>\n",
       "      <td>1</td>\n",
       "      <td>3</td>\n",
       "      <td>Heikkinen, Miss. Laina</td>\n",
       "      <td>female</td>\n",
       "      <td>26.0</td>\n",
       "      <td>0</td>\n",
       "      <td>0</td>\n",
       "      <td>STON/O2. 3101282</td>\n",
       "      <td>7.9250</td>\n",
       "      <td>NaN</td>\n",
       "      <td>S</td>\n",
       "    </tr>\n",
       "    <tr>\n",
       "      <th>3</th>\n",
       "      <td>4</td>\n",
       "      <td>1</td>\n",
       "      <td>1</td>\n",
       "      <td>Futrelle, Mrs. Jacques Heath (Lily May Peel)</td>\n",
       "      <td>female</td>\n",
       "      <td>35.0</td>\n",
       "      <td>1</td>\n",
       "      <td>0</td>\n",
       "      <td>113803</td>\n",
       "      <td>53.1000</td>\n",
       "      <td>C123</td>\n",
       "      <td>S</td>\n",
       "    </tr>\n",
       "    <tr>\n",
       "      <th>4</th>\n",
       "      <td>5</td>\n",
       "      <td>0</td>\n",
       "      <td>3</td>\n",
       "      <td>Allen, Mr. William Henry</td>\n",
       "      <td>male</td>\n",
       "      <td>35.0</td>\n",
       "      <td>0</td>\n",
       "      <td>0</td>\n",
       "      <td>373450</td>\n",
       "      <td>8.0500</td>\n",
       "      <td>NaN</td>\n",
       "      <td>S</td>\n",
       "    </tr>\n",
       "  </tbody>\n",
       "</table>\n",
       "</div>"
      ],
      "text/plain": [
       "   PassengerId  Survived  Pclass  \\\n",
       "0            1         0       3   \n",
       "1            2         1       1   \n",
       "2            3         1       3   \n",
       "3            4         1       1   \n",
       "4            5         0       3   \n",
       "\n",
       "                                                Name     Sex   Age  SibSp  \\\n",
       "0                            Braund, Mr. Owen Harris    male  22.0      1   \n",
       "1  Cumings, Mrs. John Bradley (Florence Briggs Th...  female  38.0      1   \n",
       "2                             Heikkinen, Miss. Laina  female  26.0      0   \n",
       "3       Futrelle, Mrs. Jacques Heath (Lily May Peel)  female  35.0      1   \n",
       "4                           Allen, Mr. William Henry    male  35.0      0   \n",
       "\n",
       "   Parch            Ticket     Fare Cabin Embarked  \n",
       "0      0         A/5 21171   7.2500   NaN        S  \n",
       "1      0          PC 17599  71.2833   C85        C  \n",
       "2      0  STON/O2. 3101282   7.9250   NaN        S  \n",
       "3      0            113803  53.1000  C123        S  \n",
       "4      0            373450   8.0500   NaN        S  "
      ]
     },
     "execution_count": 392,
     "metadata": {},
     "output_type": "execute_result"
    }
   ],
   "source": [
    "train.shape\n",
    "train.info()\n",
    "train.head()"
   ]
  },
  {
   "cell_type": "markdown",
   "id": "ad1e1f1c",
   "metadata": {},
   "source": [
    "## 결측치 처리 (Missing value treatment)\n",
    "### NaN null nan np.nan"
   ]
  },
  {
   "cell_type": "code",
   "execution_count": 393,
   "id": "9432c3ef",
   "metadata": {},
   "outputs": [
    {
     "name": "stdout",
     "output_type": "stream",
     "text": [
      "           CNT        RATE\n",
      "Cabin     1014  113.804714\n",
      "Survived   418   46.913580\n",
      "Age        263   29.517396\n",
      "Embarked     2    0.224467\n",
      "Fare         1    0.112233\n"
     ]
    }
   ],
   "source": [
    "train_test = train.append(test)\n",
    "nan_dict = {\"CNT\":train_test.isna().sum(),\n",
    "            \"RATE\": train_test.isna().sum()/train.shape[0] *100\n",
    "}\n",
    "nan_df = pd.DataFrame(nan_dict)\n",
    "print(nan_df[nan_df[\"RATE\"]>0].sort_values(\"CNT\", ascending=False))\n"
   ]
  },
  {
   "cell_type": "markdown",
   "id": "4a6dd9a1",
   "metadata": {},
   "source": [
    "### Cabin : U0"
   ]
  },
  {
   "cell_type": "code",
   "execution_count": 394,
   "id": "94976e9a",
   "metadata": {},
   "outputs": [
    {
     "name": "stdout",
     "output_type": "stream",
     "text": [
      "count             295\n",
      "unique            186\n",
      "top       C23 C25 C27\n",
      "freq                6\n",
      "Name: Cabin, dtype: object\n"
     ]
    }
   ],
   "source": [
    "# print(train[\"Cabin\"].head())\n",
    "print(train_test[\"Cabin\"].describe())   #[nan 'C85' 'C123' 'E46' 'G6']\n",
    "train[\"Cabin\"].fillna(\"\", inplace=True)\n",
    "test[\"Cabin\"].fillna(\"\", inplace=True)\n",
    "\n",
    "train[\"Cabin_title\"] = train[\"Cabin\"].str[:1]\n",
    "test[\"Cabin_title\"] = test[\"Cabin\"].str[:1]"
   ]
  },
  {
   "cell_type": "code",
   "execution_count": 395,
   "id": "1a6a0a86",
   "metadata": {},
   "outputs": [
    {
     "name": "stdout",
     "output_type": "stream",
     "text": [
      "Survived       0    1\n",
      "Cabin_title          \n",
      "             481  206\n",
      "A              8    7\n",
      "B             12   35\n",
      "C             24   35\n",
      "D              8   25\n",
      "E              8   24\n",
      "F              5    8\n",
      "G              2    2\n",
      "T              1    0\n"
     ]
    }
   ],
   "source": [
    "cross = pd.crosstab(train[\"Cabin_title\"], train[\"Survived\"])\n",
    "print(cross)"
   ]
  },
  {
   "cell_type": "code",
   "execution_count": 396,
   "id": "ec31f626",
   "metadata": {},
   "outputs": [
    {
     "name": "stdout",
     "output_type": "stream",
     "text": [
      "Pclass        1    2    3\n",
      "Cabin_title              \n",
      "             40  168  479\n",
      "A            15    0    0\n",
      "B            47    0    0\n",
      "C            59    0    0\n",
      "D            29    4    0\n",
      "E            25    4    3\n",
      "F             0    8    5\n",
      "G             0    0    4\n",
      "T             1    0    0\n"
     ]
    }
   ],
   "source": [
    "cross = pd.crosstab(train[\"Cabin_title\"], train[\"Pclass\"])\n",
    "print(cross)"
   ]
  },
  {
   "cell_type": "markdown",
   "id": "76aee90f",
   "metadata": {},
   "source": [
    "<pre>\n",
    "객실 title은 Pclass=1 이 대부분\n",
    "2~3에 해당 사항없음\n",
    "결측 처리 대상에서 제외 - 해당 피쳐 삭제"
   ]
  },
  {
   "cell_type": "markdown",
   "id": "621e52b2",
   "metadata": {},
   "source": [
    "### Age : 이름 호칭별 그룹 평균"
   ]
  },
  {
   "cell_type": "markdown",
   "id": "4e7ccca9",
   "metadata": {},
   "source": [
    "* 나이 분포 확인"
   ]
  },
  {
   "cell_type": "code",
   "execution_count": 397,
   "id": "9718b3b0",
   "metadata": {},
   "outputs": [
    {
     "name": "stdout",
     "output_type": "stream",
     "text": [
      "count    714.000000\n",
      "mean      29.699118\n",
      "std       14.526497\n",
      "min        0.420000\n",
      "25%       20.125000\n",
      "50%       28.000000\n",
      "75%       38.000000\n",
      "max       80.000000\n",
      "Name: Age, dtype: float64\n"
     ]
    }
   ],
   "source": [
    "print(train[\"Age\"].describe())"
   ]
  },
  {
   "cell_type": "code",
   "execution_count": 398,
   "id": "58561353",
   "metadata": {},
   "outputs": [
    {
     "data": {
      "image/png": "[encoded data removed]",
      "text/plain": [
       "<Figure size 576x288 with 1 Axes>"
      ]
     },
     "metadata": {
      "needs_background": "light"
     },
     "output_type": "display_data"
    }
   ],
   "source": [
    "plt.figure(figsize=(8,4))\n",
    "sns.scatterplot(x=\"Age\", y=\"Survived\", data=train);"
   ]
  },
  {
   "cell_type": "markdown",
   "id": "d32e0527",
   "metadata": {},
   "source": [
    "* 이름의 호칭을 사용해 평균 나이로 결측 처리"
   ]
  },
  {
   "cell_type": "code",
   "execution_count": 399,
   "id": "84b4452c",
   "metadata": {},
   "outputs": [
    {
     "name": "stdout",
     "output_type": "stream",
     "text": [
      "['Mr' 'Mrs' 'Miss' 'Master' 'Ms' 'Col' 'Rev' 'Dr' 'Dona']\n",
      "['Mr' 'Mrs' 'Miss' 'Master' 'Don' 'Rev' 'Dr' 'Mme' 'Ms' 'Major' 'Lady'\n",
      " 'Sir' 'Mlle' 'Col' 'Capt' 'Countess' 'Jonkheer']\n"
     ]
    }
   ],
   "source": [
    "train['Name_title'] = train['Name'].str.extract(' ([A-Za-z]+)\\.')\n",
    "test['Name_title'] = test['Name'].str.extract(' ([A-Za-z]+)\\.')\n",
    "print(test['Name_title'].unique())\n",
    "print(train['Name_title'].unique())\n"
   ]
  },
  {
   "cell_type": "code",
   "execution_count": 400,
   "id": "7523ba7d",
   "metadata": {},
   "outputs": [
    {
     "name": "stdout",
     "output_type": "stream",
     "text": [
      "<class 'pandas.core.series.Series'>\n"
     ]
    },
    {
     "data": {
      "text/plain": [
       "Mr          757\n",
       "Miss        260\n",
       "Mrs         197\n",
       "Master       61\n",
       "Dr            8\n",
       "Rev           8\n",
       "Col           4\n",
       "Mlle          2\n",
       "Major         2\n",
       "Ms            2\n",
       "Jonkheer      1\n",
       "Dona          1\n",
       "Sir           1\n",
       "Lady          1\n",
       "Countess      1\n",
       "Mme           1\n",
       "Capt          1\n",
       "Don           1\n",
       "Name: Name_title, dtype: int64"
      ]
     },
     "execution_count": 400,
     "metadata": {},
     "output_type": "execute_result"
    }
   ],
   "source": [
    "temp_data = pd.concat([train['Name_title'], test['Name_title']])\n",
    "print(type(temp_data))   #<class 'pandas.core.series.Series'>\n",
    "temp_data.value_counts()  #1300 , Mr          757  500\n",
    "# print(temp_data.shape)"
   ]
  },
  {
   "cell_type": "code",
   "execution_count": 401,
   "id": "9a76fc1d",
   "metadata": {},
   "outputs": [
    {
     "name": "stdout",
     "output_type": "stream",
     "text": [
      "0    1\n",
      "1    2\n",
      "2    3\n",
      "3    2\n",
      "4    1\n",
      "Name: Name_title, dtype: int64\n"
     ]
    }
   ],
   "source": [
    "name_title_dict = {\n",
    "'Mr':1,\n",
    "'Mrs':2, 'Mme':2,\n",
    "'Miss':3, 'Lady':3, 'Ms' :3,'Mlle':3,\n",
    "'Master':4 ,\n",
    "    'Don':5 , 'Dona':5, 'Rev':6 , 'Dr':7 , 'Major':8 ,\n",
    " 'Sir':9, 'Col':10, 'Capt':11, 'Countess':12, 'Jonkheer':13\n",
    "}\n",
    "train['Name_title'] = train['Name_title'].map(name_title_dict)\n",
    "test['Name_title'] = test['Name_title'].map(name_title_dict)\n",
    "print(train['Name_title'].head())\n"
   ]
  },
  {
   "cell_type": "code",
   "execution_count": 402,
   "id": "e9406463",
   "metadata": {},
   "outputs": [
    {
     "name": "stdout",
     "output_type": "stream",
     "text": [
      "[22.         38.         26.         35.         32.36809045 54.\n",
      "  2.         27.         14.          4.         58.         20.\n",
      " 39.         55.         31.         35.78899083 34.         15.\n",
      " 28.          8.         19.         22.02       40.         66.\n",
      " 42.         21.         18.          3.          7.         49.\n",
      " 29.         65.         28.5         5.         11.         45.\n",
      "  4.57416667 17.         32.         16.         25.          0.83\n",
      " 30.         33.         23.         24.         46.         59.\n",
      " 71.         37.         47.         14.5        70.5        32.5\n",
      " 12.          9.         36.5        51.         55.5        40.5\n",
      " 44.          1.         61.         56.         50.         36.\n",
      " 45.5        20.5        62.         41.         52.         63.\n",
      " 23.5         0.92       43.         60.         10.         64.\n",
      " 13.         48.          0.75       53.         57.         80.\n",
      " 70.         24.5         6.          0.67       30.5         0.42\n",
      " 34.5        74.        ]\n"
     ]
    }
   ],
   "source": [
    "train[\"Age\"].fillna(train.groupby(\"Name_title\")[\"Age\"].transform(\"mean\"), inplace=True)\n",
    "test[\"Age\"].fillna(test.groupby(\"Name_title\")[\"Age\"].transform(\"mean\"), inplace=True)\n",
    "print(train[\"Age\"].unique())"
   ]
  },
  {
   "cell_type": "markdown",
   "id": "495b7321",
   "metadata": {},
   "source": [
    "* 파생변수 : 이름의 호칭 카테고리화"
   ]
  },
  {
   "cell_type": "code",
   "execution_count": 403,
   "id": "eed57b95",
   "metadata": {},
   "outputs": [
    {
     "data": {
      "text/plain": [
       "0    0\n",
       "1    0\n",
       "2    0\n",
       "3    0\n",
       "4    0\n",
       "Name: T_MR, dtype: int64"
      ]
     },
     "execution_count": 403,
     "metadata": {},
     "output_type": "execute_result"
    }
   ],
   "source": [
    "# train['T_MR'] = train['Name_title']==Mr 1  0\n",
    "train[\"T_MR\"] = train[\"Name_title\"].apply(lambda x:  1 if x == \"Mr\" else 0)\n",
    "test[\"T_MR\"] = test[\"Name_title\"].apply(lambda x:  1 if x == \"Mr\" else 0)\n",
    "test[\"T_MR\"][:5]"
   ]
  },
  {
   "cell_type": "markdown",
   "id": "abdeef78",
   "metadata": {},
   "source": [
    "### Embarked      : 최빈도"
   ]
  },
  {
   "cell_type": "code",
   "execution_count": 404,
   "id": "7b134dc2",
   "metadata": {},
   "outputs": [
    {
     "data": {
      "text/plain": [
       "count     1307\n",
       "unique       3\n",
       "top          S\n",
       "freq       914\n",
       "Name: Embarked, dtype: object"
      ]
     },
     "execution_count": 404,
     "metadata": {},
     "output_type": "execute_result"
    }
   ],
   "source": [
    "temp_data = pd.concat([train['Embarked'], test['Embarked']])\n",
    "temp_data.describe()"
   ]
  },
  {
   "cell_type": "code",
   "execution_count": 405,
   "id": "43cb7e0f",
   "metadata": {},
   "outputs": [
    {
     "name": "stdout",
     "output_type": "stream",
     "text": [
      "['S' 'C' 'Q' nan]\n"
     ]
    }
   ],
   "source": [
    "print(train[\"Embarked\"].unique())"
   ]
  },
  {
   "cell_type": "code",
   "execution_count": 406,
   "id": "ca534248",
   "metadata": {},
   "outputs": [
    {
     "name": "stdout",
     "output_type": "stream",
     "text": [
      "0    S\n",
      "dtype: object <class 'pandas.core.series.Series'>\n"
     ]
    }
   ],
   "source": [
    "mode_value = train[\"Embarked\"].mode()\n",
    "print(mode_value, type(mode_value))\n",
    "# train[\"Embarked\"] = train[\"Embarked\"].fillna(mode_value) # , inplace=True)\n",
    "# test[\"Embarked\"] = test[\"Embarked\"].fillna(mode_value) #  , inplace=True)"
   ]
  },
  {
   "cell_type": "code",
   "execution_count": 407,
   "id": "01aebd48",
   "metadata": {},
   "outputs": [],
   "source": [
    "mode_value = 'S'\n",
    "train[\"Embarked\"].fillna(mode_value, inplace=True)\n",
    "test[\"Embarked\"].fillna(mode_value, inplace=True)\n",
    "# train[\"Embarked\"] = train[\"Embarked\"].replace(np.nan, 'S')\n",
    "# test[\"Embarked\"] = test[\"Embarked\"].replace(np.nan, 'S')"
   ]
  },
  {
   "cell_type": "code",
   "execution_count": 408,
   "id": "702e995f",
   "metadata": {},
   "outputs": [
    {
     "name": "stdout",
     "output_type": "stream",
     "text": [
      "['S' 'C' 'Q']\n"
     ]
    }
   ],
   "source": [
    "print(train[\"Embarked\"].unique())"
   ]
  },
  {
   "cell_type": "markdown",
   "id": "726e8c80",
   "metadata": {},
   "source": [
    "### Fare : 0"
   ]
  },
  {
   "cell_type": "code",
   "execution_count": 409,
   "id": "496e5293",
   "metadata": {},
   "outputs": [],
   "source": [
    "train[\"Fare\"].fillna(0, inplace=True)\n",
    "test[\"Fare\"].fillna(0, inplace=True)"
   ]
  },
  {
   "cell_type": "markdown",
   "id": "a491928c",
   "metadata": {},
   "source": [
    "## -- family name, Ticket,   T_family = (SibSp+Parch)+1  > 2\n",
    "   - Survived 생존률 rate 가중치 부여"
   ]
  },
  {
   "cell_type": "code",
   "execution_count": 410,
   "id": "ac92f3b5",
   "metadata": {},
   "outputs": [
    {
     "name": "stdout",
     "output_type": "stream",
     "text": [
      "PassengerId    0\n",
      "Survived       0\n",
      "Pclass         0\n",
      "Name           0\n",
      "Sex            0\n",
      "Age            0\n",
      "SibSp          0\n",
      "Parch          0\n",
      "Ticket         0\n",
      "Fare           0\n",
      "Cabin          0\n",
      "Embarked       0\n",
      "Cabin_title    0\n",
      "Name_title     0\n",
      "T_MR           0\n",
      "dtype: int64\n"
     ]
    }
   ],
   "source": [
    "print(train.isna().sum())"
   ]
  },
  {
   "cell_type": "code",
   "execution_count": 411,
   "id": "f608d936",
   "metadata": {},
   "outputs": [
    {
     "name": "stdout",
     "output_type": "stream",
     "text": [
      "PassengerId    0\n",
      "Pclass         0\n",
      "Name           0\n",
      "Sex            0\n",
      "Age            0\n",
      "SibSp          0\n",
      "Parch          0\n",
      "Ticket         0\n",
      "Fare           0\n",
      "Cabin          0\n",
      "Embarked       0\n",
      "Cabin_title    0\n",
      "Name_title     0\n",
      "T_MR           0\n",
      "dtype: int64\n"
     ]
    }
   ],
   "source": [
    "print(test.isna().sum())"
   ]
  },
  {
   "cell_type": "markdown",
   "id": "2c40dd01",
   "metadata": {},
   "source": [
    "# 4. Feature Converting  -- T......Engineering"
   ]
  },
  {
   "cell_type": "code",
   "execution_count": 412,
   "id": "367254a0",
   "metadata": {},
   "outputs": [
    {
     "name": "stdout",
     "output_type": "stream",
     "text": [
      "<class 'pandas.core.frame.DataFrame'>\n",
      "RangeIndex: 891 entries, 0 to 890\n",
      "Data columns (total 15 columns):\n",
      " #   Column       Non-Null Count  Dtype  \n",
      "---  ------       --------------  -----  \n",
      " 0   PassengerId  891 non-null    int64  \n",
      " 1   Survived     891 non-null    int64  \n",
      " 2   Pclass       891 non-null    int64  \n",
      " 3   Name         891 non-null    object \n",
      " 4   Sex          891 non-null    object \n",
      " 5   Age          891 non-null    float64\n",
      " 6   SibSp        891 non-null    int64  \n",
      " 7   Parch        891 non-null    int64  \n",
      " 8   Ticket       891 non-null    object \n",
      " 9   Fare         891 non-null    float64\n",
      " 10  Cabin        891 non-null    object \n",
      " 11  Embarked     891 non-null    object \n",
      " 12  Cabin_title  891 non-null    object \n",
      " 13  Name_title   891 non-null    int64  \n",
      " 14  T_MR         891 non-null    int64  \n",
      "dtypes: float64(2), int64(7), object(6)\n",
      "memory usage: 104.5+ KB\n"
     ]
    }
   ],
   "source": [
    "train.info()"
   ]
  },
  {
   "cell_type": "markdown",
   "id": "fe9db430",
   "metadata": {},
   "source": [
    "<pre>\n",
    "--------------------------------------------- \n",
    "5   Age          714 non-null    float64 -- Name_title평균나이, T_MR:0,1\n",
    "10  Cabin        204 non-null    object -- 삭제\n",
    "11  Embarked     889 non-null    object -- 'S' 최빈값\n",
    "---------------------------------------------\n",
    "3   Name         891 non-null    object -- 삭제\n",
    "4   Sex          891 non-null    object -- m:1 f:0\n",
    "8   Ticket       891 non-null    object -- 삭제\n",
    "10  Cabin        204 non-null    object -- 삭제\n",
    "*   Cabin_title  204 non-null    object -- 삭제\n",
    "11  Embarked     889 non-null    object -- S:1~2\n",
    "----------------------------------------------\n",
    "T_family = (SibSp+Parch)+1"
   ]
  },
  {
   "cell_type": "markdown",
   "id": "134e5776",
   "metadata": {},
   "source": [
    "### Object 타입 numeric화"
   ]
  },
  {
   "cell_type": "code",
   "execution_count": 413,
   "id": "8af09c9b",
   "metadata": {},
   "outputs": [],
   "source": [
    "# train.select_dtypes(include='object')"
   ]
  },
  {
   "cell_type": "code",
   "execution_count": 414,
   "id": "c148f48d",
   "metadata": {},
   "outputs": [
    {
     "data": {
      "text/html": [
       "<div>\n",
       "<style scoped>\n",
       "    .dataframe tbody tr th:only-of-type {\n",
       "        vertical-align: middle;\n",
       "    }\n",
       "\n",
       "    .dataframe tbody tr th {\n",
       "        vertical-align: top;\n",
       "    }\n",
       "\n",
       "    .dataframe thead th {\n",
       "        text-align: right;\n",
       "    }\n",
       "</style>\n",
       "<table border=\"1\" class=\"dataframe\">\n",
       "  <thead>\n",
       "    <tr style=\"text-align: right;\">\n",
       "      <th></th>\n",
       "      <th>Embarked</th>\n",
       "      <th>Sex</th>\n",
       "    </tr>\n",
       "  </thead>\n",
       "  <tbody>\n",
       "    <tr>\n",
       "      <th>count</th>\n",
       "      <td>891</td>\n",
       "      <td>891</td>\n",
       "    </tr>\n",
       "    <tr>\n",
       "      <th>unique</th>\n",
       "      <td>3</td>\n",
       "      <td>2</td>\n",
       "    </tr>\n",
       "    <tr>\n",
       "      <th>top</th>\n",
       "      <td>S</td>\n",
       "      <td>male</td>\n",
       "    </tr>\n",
       "    <tr>\n",
       "      <th>freq</th>\n",
       "      <td>646</td>\n",
       "      <td>577</td>\n",
       "    </tr>\n",
       "  </tbody>\n",
       "</table>\n",
       "</div>"
      ],
      "text/plain": [
       "       Embarked   Sex\n",
       "count       891   891\n",
       "unique        3     2\n",
       "top           S  male\n",
       "freq        646   577"
      ]
     },
     "execution_count": 414,
     "metadata": {},
     "output_type": "execute_result"
    }
   ],
   "source": [
    "train[[\"Embarked\",\"Sex\"]].describe()"
   ]
  },
  {
   "cell_type": "code",
   "execution_count": 415,
   "id": "1e1b1fee",
   "metadata": {},
   "outputs": [],
   "source": [
    "# temp = pd.concat([train, test])\n",
    "train_test = [train, test]\n",
    "for df in train_test:\n",
    "#   1. map\n",
    "    sex_dict = {'male':1,'female':0}\n",
    "    df['T_sex'] = df['Sex'].map(sex_dict)\n",
    "    \n",
    "    emb_dict = {'Q':0 , 'S':1 , 'C':2}\n",
    "    df['T_embarked'] = df['Embarked'].map(emb_dict)\n",
    "\n",
    "    df[\"T_family\"] = (df[\"SibSp\"] + df[\"Parch\"]) + 1\n",
    "#     print(train['T_sex'].head())\n",
    "    \n",
    "#     2. lambda\n",
    "#     train[\"T_sex2\"] = train[\"Sex\"].apply(lambda x:  1 if x == \"male\" else 0)\n",
    "#     print(train['T_sex'].head())\n",
    "    \n",
    "#     3. replace\n",
    "#     train[\"T_sex3\"] = train[\"Sex\"].replace('male', 1)\n",
    "#     train[\"T_sex3\"] = train[\"T_sex3\"].replace('female', 0)\n",
    "#     print(train['T_sex3'].head())"
   ]
  },
  {
   "cell_type": "code",
   "execution_count": 416,
   "id": "eb7a8145",
   "metadata": {},
   "outputs": [
    {
     "data": {
      "text/html": [
       "<div>\n",
       "<style scoped>\n",
       "    .dataframe tbody tr th:only-of-type {\n",
       "        vertical-align: middle;\n",
       "    }\n",
       "\n",
       "    .dataframe tbody tr th {\n",
       "        vertical-align: top;\n",
       "    }\n",
       "\n",
       "    .dataframe thead th {\n",
       "        text-align: right;\n",
       "    }\n",
       "</style>\n",
       "<table border=\"1\" class=\"dataframe\">\n",
       "  <thead>\n",
       "    <tr style=\"text-align: right;\">\n",
       "      <th></th>\n",
       "      <th>T_embarked</th>\n",
       "      <th>Embarked</th>\n",
       "    </tr>\n",
       "  </thead>\n",
       "  <tbody>\n",
       "    <tr>\n",
       "      <th>0</th>\n",
       "      <td>1</td>\n",
       "      <td>S</td>\n",
       "    </tr>\n",
       "    <tr>\n",
       "      <th>1</th>\n",
       "      <td>2</td>\n",
       "      <td>C</td>\n",
       "    </tr>\n",
       "    <tr>\n",
       "      <th>2</th>\n",
       "      <td>1</td>\n",
       "      <td>S</td>\n",
       "    </tr>\n",
       "    <tr>\n",
       "      <th>3</th>\n",
       "      <td>1</td>\n",
       "      <td>S</td>\n",
       "    </tr>\n",
       "    <tr>\n",
       "      <th>4</th>\n",
       "      <td>1</td>\n",
       "      <td>S</td>\n",
       "    </tr>\n",
       "  </tbody>\n",
       "</table>\n",
       "</div>"
      ],
      "text/plain": [
       "   T_embarked Embarked\n",
       "0           1        S\n",
       "1           2        C\n",
       "2           1        S\n",
       "3           1        S\n",
       "4           1        S"
      ]
     },
     "execution_count": 416,
     "metadata": {},
     "output_type": "execute_result"
    }
   ],
   "source": [
    "train[['T_embarked','Embarked']].head()"
   ]
  },
  {
   "cell_type": "code",
   "execution_count": 417,
   "id": "af8ba668",
   "metadata": {},
   "outputs": [],
   "source": [
    "#--------------------------------------------------------------------\n",
    "# 4. get_dummy() : DataFrame  ,  retrun DataFrame --> DataFrame\n",
    "#--------------------------------------------------------------------\n",
    "# dummy_df = pd.get_dummies(train[\"Sex\"])\n",
    "# # train = pd.concat(train,dummy_df)\n",
    "# train = train.join(dummy_df)\n",
    "# print(train.info())"
   ]
  },
  {
   "cell_type": "code",
   "execution_count": 418,
   "id": "31b431ea",
   "metadata": {},
   "outputs": [],
   "source": [
    "# train[[\"Sex\",\"female\",\"male\"]].head()"
   ]
  },
  {
   "cell_type": "code",
   "execution_count": 419,
   "id": "72e4aa23",
   "metadata": {},
   "outputs": [],
   "source": [
    "#--------------------------------------------------------------------\n",
    "# Encoder : like array  ,  retrun like array --> DataFrame\n",
    "#--------------------------------------------------------------------\n",
    "# from sklearn.preprocessing import LabelEncoder, OneHotEncoder\n",
    "# from scipy.sparse import csr_matrix\n",
    "\n",
    "# le_encoder = LabelEncoder()\n",
    "# #train[[\"Sex\",\"Embarker\"]] = encoder.fit_transform(train[[\"Sex\",\"Embarker\"]])   XXXXXX\n",
    "# cols = [\"Sex\",]\n",
    "# for col in cols:   \n",
    "#     train[\"LE_\"+col] = le_encoder.fit_transform(train[col])\n",
    "#     print(train[[\"Sex\", \"LE_Sex\"]].head())\n",
    "# #     print(np.array(train[\"LE_\"+col]).reshape(-1, 1))\n",
    "#     oh_encoder = OneHotEncoder()    \n",
    "#     res = oh_encoder.fit_transform(np.array(train[\"LE_\"+col]).reshape(-1, 1))   #[[],[],[]]\n",
    "#     print(type(res), res.shape)\n",
    "    \n",
    "#     csr_df = pd.DataFrame.sparse.from_spmatrix(res, columns=['OH_M', 'OH_F'])  \n",
    "    \n",
    "# train = train.append(csr_df)\n",
    "# # dtype = pd.SparseDtype(np.float64, fill_value=0)\n",
    "# # train['OH_M'].astype(dtype)\n",
    "# train.info()"
   ]
  },
  {
   "cell_type": "code",
   "execution_count": 420,
   "id": "84a8f25f",
   "metadata": {},
   "outputs": [],
   "source": [
    "#--------------------------------------------------------------------\n",
    "# Encoder : like array  ,  retrun like array --> like array\n",
    "#--------------------------------------------------------------------\n",
    "# from sklearn.preprocessing import LabelEncoder, OneHotEncoder\n",
    "# item = [\"b\",\"a\",\"c\",\"d\",\"e\",\"f\",\"g\"]\n",
    "# encoder = LabelEncoder()  #글자-->숫자\n",
    "# # encoder.fit(item)\n",
    "# # res = encoder.transform(item)\n",
    "# res = encoder.fit_transform(item)\n",
    "# print(encoder.classes_)\n",
    "# print(res)   #[1 0 2 3 4 5 6]\n",
    "# print(encoder.inverse_transform(res))\n",
    "\n",
    "# oh_encoder = OneHotEncoder()\n",
    "# re_res = res.reshape(-1,1)  #------------------[[],[],[],[]]\n",
    "# res = oh_encoder.fit_transform(re_res)\n",
    "# print(res.shape)\n",
    "# print(res)\n",
    "\n",
    "#-------------------- [LabelEncoder, OneHotEncoder] + 결측처리**\n",
    "# import pandas as pd\n",
    "# df = pd.DataFrame({\"key\" : [\"b\",\"a\",\"c\",\"d\",\"e\",\"f\",\"g\"]})\n",
    "# print(df.head())\n",
    "# df = pd.get_dummies(df[\"key\"])\n",
    "# print(df.head())"
   ]
  },
  {
   "cell_type": "markdown",
   "id": "6944e1ee",
   "metadata": {},
   "source": [
    "### Float 타입 numeric화"
   ]
  },
  {
   "cell_type": "code",
   "execution_count": 421,
   "id": "7ede2a15",
   "metadata": {},
   "outputs": [],
   "source": [
    "# dataset[\"Age\"] = train_df[\"Age\"].astype(int)"
   ]
  },
  {
   "cell_type": "code",
   "execution_count": 422,
   "id": "2e2b85fa",
   "metadata": {},
   "outputs": [
    {
     "name": "stdout",
     "output_type": "stream",
     "text": [
      "['Age' 'Fare']\n"
     ]
    }
   ],
   "source": [
    "float_features_list = train.dtypes[train.dtypes == 'float64'].index.values\n",
    "print(float_features_list)\n",
    "train[float_features_list] = train[float_features_list].astype(np.int32)\n",
    "test[float_features_list] = test[float_features_list].astype(np.int32)"
   ]
  },
  {
   "cell_type": "code",
   "execution_count": null,
   "id": "f08a3abe",
   "metadata": {},
   "outputs": [],
   "source": []
  },
  {
   "cell_type": "markdown",
   "id": "089dada3",
   "metadata": {},
   "source": [
    "### 불필요한 피쳐 삭제"
   ]
  },
  {
   "cell_type": "code",
   "execution_count": 423,
   "id": "71d3883d",
   "metadata": {},
   "outputs": [
    {
     "name": "stdout",
     "output_type": "stream",
     "text": [
      "['Name' 'Sex' 'Ticket' 'Cabin' 'Embarked' 'Cabin_title']\n"
     ]
    }
   ],
   "source": [
    "object_features_list = train.dtypes[train.dtypes == 'object'].index.values\n",
    "print(object_features_list)"
   ]
  },
  {
   "cell_type": "code",
   "execution_count": 424,
   "id": "8d516ddd",
   "metadata": {},
   "outputs": [],
   "source": [
    "train.drop(object_features_list, axis=1, inplace=True)\n",
    "test.drop(object_features_list, axis=1, inplace=True)"
   ]
  },
  {
   "cell_type": "code",
   "execution_count": 425,
   "id": "bb1be38f",
   "metadata": {
    "tags": []
   },
   "outputs": [
    {
     "name": "stdout",
     "output_type": "stream",
     "text": [
      "<class 'pandas.core.frame.DataFrame'>\n",
      "RangeIndex: 891 entries, 0 to 890\n",
      "Data columns (total 12 columns):\n",
      " #   Column       Non-Null Count  Dtype\n",
      "---  ------       --------------  -----\n",
      " 0   PassengerId  891 non-null    int64\n",
      " 1   Survived     891 non-null    int64\n",
      " 2   Pclass       891 non-null    int64\n",
      " 3   Age          891 non-null    int32\n",
      " 4   SibSp        891 non-null    int64\n",
      " 5   Parch        891 non-null    int64\n",
      " 6   Fare         891 non-null    int32\n",
      " 7   Name_title   891 non-null    int64\n",
      " 8   T_MR         891 non-null    int64\n",
      " 9   T_sex        891 non-null    int64\n",
      " 10  T_embarked   891 non-null    int64\n",
      " 11  T_family     891 non-null    int64\n",
      "dtypes: int32(2), int64(10)\n",
      "memory usage: 76.7 KB\n",
      "None\n",
      "<class 'pandas.core.frame.DataFrame'>\n",
      "RangeIndex: 418 entries, 0 to 417\n",
      "Data columns (total 11 columns):\n",
      " #   Column       Non-Null Count  Dtype\n",
      "---  ------       --------------  -----\n",
      " 0   PassengerId  418 non-null    int64\n",
      " 1   Pclass       418 non-null    int64\n",
      " 2   Age          418 non-null    int32\n",
      " 3   SibSp        418 non-null    int64\n",
      " 4   Parch        418 non-null    int64\n",
      " 5   Fare         418 non-null    int32\n",
      " 6   Name_title   418 non-null    int64\n",
      " 7   T_MR         418 non-null    int64\n",
      " 8   T_sex        418 non-null    int64\n",
      " 9   T_embarked   418 non-null    int64\n",
      " 10  T_family     418 non-null    int64\n",
      "dtypes: int32(2), int64(9)\n",
      "memory usage: 32.8 KB\n",
      "None\n"
     ]
    }
   ],
   "source": [
    "print(train.info())\n",
    "print(test.info())"
   ]
  },
  {
   "cell_type": "code",
   "execution_count": 426,
   "id": "c42fe1c7",
   "metadata": {},
   "outputs": [],
   "source": [
    "train.drop('PassengerId', axis=1, inplace=True)\n",
    "test.drop('PassengerId', axis=1, inplace=True)"
   ]
  },
  {
   "cell_type": "markdown",
   "id": "7bc18e93",
   "metadata": {},
   "source": [
    "# 모델 선정 및 학습 : 우선 점수부터 확인하고 작업 더 진행"
   ]
  },
  {
   "cell_type": "markdown",
   "id": "0679c5a6",
   "metadata": {},
   "source": [
    "<pre>\n",
    "모델 분석에 필요한 데이터 종류 : train[train set : validation set] , test set\n",
    "                                    train_test_split\n",
    "* classification(분류) 모델선정 : 문제집 선택\n",
    "* 학습     : fit(문제train8, 정답train_Survived8)\n",
    "* 모의고사 : predict(모의시험지train2=validation) ----- 예측답안\n",
    "* 모의채점 : _score(예측답안, 모의고사정답지train2=validation)\n",
    "*---------------------------------------------------------------------    \n",
    "* 본시험   : predict(본시험지test)   ----- 예측답안\n",
    "* 본채점   : _score(예측답안submission, 본시험정답지kaggle-leaderboard)"
   ]
  },
  {
   "cell_type": "code",
   "execution_count": 427,
   "id": "3a22004f",
   "metadata": {},
   "outputs": [],
   "source": [
    "# ! pip install lightgbm\n",
    "# ! pip install xgboost"
   ]
  },
  {
   "cell_type": "code",
   "execution_count": 428,
   "id": "d92f6768",
   "metadata": {},
   "outputs": [],
   "source": [
    "from sklearn.tree import DecisionTreeClassifier\n",
    "from sklearn.ensemble import RandomForestClassifier\n",
    "from sklearn.linear_model import LogisticRegression\n",
    "from sklearn.neighbors import KNeighborsClassifier\n",
    "\n",
    "# XGBoost python wrapper class\n",
    "# ref : https://injo.tistory.com/44\n",
    "# ref : https://velog.io/@dbj2000/ML\n",
    "import xgboost as xgb ## XGBoost 불러오기\n",
    "\n",
    "#LightGBM\n",
    "# ref : https://lightgbm.readthedocs.io/en/latest/pythonapi/lightgbm.LGBMClassifier.html\n",
    "import lightgbm as lgb\n",
    "from sklearn.model_selection import train_test_split\n",
    "from sklearn.metrics import accuracy_score,confusion_matrix,precision_score, recall_score, f1_score, roc_auc_score"
   ]
  },
  {
   "cell_type": "markdown",
   "id": "21acaead",
   "metadata": {},
   "source": [
    "* 정확도(Accuracy)\n",
    "Accuracy = (TP + TN)/(TP + TN + FP + FN)"
   ]
  },
  {
   "cell_type": "markdown",
   "id": "f5dd4059",
   "metadata": {},
   "source": [
    "#### 1. 학습.답안 데이터 셋 분리"
   ]
  },
  {
   "cell_type": "code",
   "execution_count": 429,
   "id": "c94e6330",
   "metadata": {},
   "outputs": [
    {
     "name": "stdout",
     "output_type": "stream",
     "text": [
      "(891,) (891, 10)\n"
     ]
    }
   ],
   "source": [
    "train_y = train[\"Survived\"]\n",
    "train_X = train.drop(\"Survived\", axis=1)\n",
    "print(train_y.shape, train_X.shape)"
   ]
  },
  {
   "cell_type": "markdown",
   "id": "5069194d",
   "metadata": {
    "tags": []
   },
   "source": [
    "#### 2..학습'답안/검증'답안 데이터 셋 분리"
   ]
  },
  {
   "cell_type": "code",
   "execution_count": 430,
   "id": "a3684943",
   "metadata": {
    "tags": []
   },
   "outputs": [
    {
     "name": "stdout",
     "output_type": "stream",
     "text": [
      "(712, 10) (179, 10) (712,) (179,)\n"
     ]
    }
   ],
   "source": [
    "문제_학습8, 문제_검증2, 답안_학습8, 답안_검증2 = train_test_split(train_X, train_y, test_size=0.2, random_state=121,  shuffle=False)\n",
    "print(문제_학습8.shape, 문제_검증2.shape, 답안_학습8.shape, 답안_검증2.shape)"
   ]
  },
  {
   "cell_type": "code",
   "execution_count": 431,
   "id": "912be64d",
   "metadata": {},
   "outputs": [],
   "source": [
    "dt = DecisionTreeClassifier()\n",
    "rf = RandomForestClassifier()\n",
    "lr = LogisticRegression()\n",
    "knn = KNeighborsClassifier()"
   ]
  },
  {
   "cell_type": "code",
   "execution_count": 432,
   "id": "a6dc12ad",
   "metadata": {},
   "outputs": [
    {
     "name": "stdout",
     "output_type": "stream",
     "text": [
      "0.7597765363128491\n"
     ]
    }
   ],
   "source": [
    "dt.fit(문제_학습8, 답안_학습8)\n",
    "내가낸답안2 = dt.predict(문제_검증2)\n",
    "df_score = accuracy_score(내가낸답안2 ,  답안_검증2)\n",
    "print(df_score)     # 0.7541899441340782  float \n",
    "                    # 0.7653631284916201  int"
   ]
  },
  {
   "cell_type": "code",
   "execution_count": 433,
   "id": "69e9ece5",
   "metadata": {},
   "outputs": [
    {
     "name": "stdout",
     "output_type": "stream",
     "text": [
      "[]\n"
     ]
    }
   ],
   "source": [
    "float_features_list = train.dtypes[train.dtypes == 'float64'].index.values\n",
    "print(float_features_list)\n",
    "train[float_features_list] = train[float_features_list].astype(np.int32)\n",
    "test[float_features_list] = test[float_features_list].astype(np.int32)"
   ]
  },
  {
   "cell_type": "markdown",
   "id": "193981e7",
   "metadata": {},
   "source": [
    "# 기초 통계를 활용한 feature 분석"
   ]
  },
  {
   "cell_type": "markdown",
   "id": "c8bfc718",
   "metadata": {},
   "source": [
    "## Feature Inportance"
   ]
  },
  {
   "cell_type": "code",
   "execution_count": 434,
   "id": "e5729a3a",
   "metadata": {},
   "outputs": [
    {
     "data": {
      "text/plain": [
       "array([0.10745289, 0.2219288 , 0.00675839, 0.01465737, 0.18404452,\n",
       "       0.36765988, 0.        , 0.        , 0.03788061, 0.05961754])"
      ]
     },
     "execution_count": 434,
     "metadata": {},
     "output_type": "execute_result"
    }
   ],
   "source": [
    "dt.feature_importances_"
   ]
  },
  {
   "cell_type": "code",
   "execution_count": 435,
   "id": "55b7d4e5",
   "metadata": {},
   "outputs": [
    {
     "data": {
      "text/html": [
       "<div>\n",
       "<style scoped>\n",
       "    .dataframe tbody tr th:only-of-type {\n",
       "        vertical-align: middle;\n",
       "    }\n",
       "\n",
       "    .dataframe tbody tr th {\n",
       "        vertical-align: top;\n",
       "    }\n",
       "\n",
       "    .dataframe thead th {\n",
       "        text-align: right;\n",
       "    }\n",
       "</style>\n",
       "<table border=\"1\" class=\"dataframe\">\n",
       "  <thead>\n",
       "    <tr style=\"text-align: right;\">\n",
       "      <th></th>\n",
       "      <th>5</th>\n",
       "      <th>1</th>\n",
       "      <th>4</th>\n",
       "      <th>0</th>\n",
       "      <th>9</th>\n",
       "      <th>8</th>\n",
       "      <th>3</th>\n",
       "      <th>2</th>\n",
       "      <th>6</th>\n",
       "      <th>7</th>\n",
       "    </tr>\n",
       "  </thead>\n",
       "  <tbody>\n",
       "    <tr>\n",
       "      <th>feature</th>\n",
       "      <td>Name_title</td>\n",
       "      <td>Age</td>\n",
       "      <td>Fare</td>\n",
       "      <td>Pclass</td>\n",
       "      <td>T_family</td>\n",
       "      <td>T_embarked</td>\n",
       "      <td>Parch</td>\n",
       "      <td>SibSp</td>\n",
       "      <td>T_MR</td>\n",
       "      <td>T_sex</td>\n",
       "    </tr>\n",
       "    <tr>\n",
       "      <th>importance</th>\n",
       "      <td>0.36766</td>\n",
       "      <td>0.221929</td>\n",
       "      <td>0.184045</td>\n",
       "      <td>0.107453</td>\n",
       "      <td>0.059618</td>\n",
       "      <td>0.037881</td>\n",
       "      <td>0.014657</td>\n",
       "      <td>0.006758</td>\n",
       "      <td>0.0</td>\n",
       "      <td>0.0</td>\n",
       "    </tr>\n",
       "  </tbody>\n",
       "</table>\n",
       "</div>"
      ],
      "text/plain": [
       "                     5         1         4         0         9           8  \\\n",
       "feature     Name_title       Age      Fare    Pclass  T_family  T_embarked   \n",
       "importance     0.36766  0.221929  0.184045  0.107453  0.059618    0.037881   \n",
       "\n",
       "                   3         2     6      7  \n",
       "feature        Parch     SibSp  T_MR  T_sex  \n",
       "importance  0.014657  0.006758   0.0    0.0  "
      ]
     },
     "execution_count": 435,
     "metadata": {},
     "output_type": "execute_result"
    }
   ],
   "source": [
    "imp_df = pd.DataFrame({\"feature\": train_X.columns, \"importance\": dt.feature_importances_})\n",
    "imp_df.sort_values('importance', ascending=False).T"
   ]
  },
  {
   "cell_type": "markdown",
   "id": "c4cc35c0",
   "metadata": {},
   "source": [
    "## Fare 요금을 최소 요금 약 7달러로 구간화"
   ]
  },
  {
   "cell_type": "code",
   "execution_count": 436,
   "id": "bb0d697b",
   "metadata": {},
   "outputs": [
    {
     "data": {
      "text/html": [
       "<div>\n",
       "<style scoped>\n",
       "    .dataframe tbody tr th:only-of-type {\n",
       "        vertical-align: middle;\n",
       "    }\n",
       "\n",
       "    .dataframe tbody tr th {\n",
       "        vertical-align: top;\n",
       "    }\n",
       "\n",
       "    .dataframe thead th {\n",
       "        text-align: right;\n",
       "    }\n",
       "</style>\n",
       "<table border=\"1\" class=\"dataframe\">\n",
       "  <thead>\n",
       "    <tr style=\"text-align: right;\">\n",
       "      <th></th>\n",
       "      <th>T_Fare</th>\n",
       "      <th>Fare</th>\n",
       "    </tr>\n",
       "  </thead>\n",
       "  <tbody>\n",
       "    <tr>\n",
       "      <th>0</th>\n",
       "      <td>1</td>\n",
       "      <td>7</td>\n",
       "    </tr>\n",
       "    <tr>\n",
       "      <th>1</th>\n",
       "      <td>10</td>\n",
       "      <td>71</td>\n",
       "    </tr>\n",
       "    <tr>\n",
       "      <th>2</th>\n",
       "      <td>1</td>\n",
       "      <td>7</td>\n",
       "    </tr>\n",
       "    <tr>\n",
       "      <th>3</th>\n",
       "      <td>7</td>\n",
       "      <td>53</td>\n",
       "    </tr>\n",
       "    <tr>\n",
       "      <th>4</th>\n",
       "      <td>1</td>\n",
       "      <td>8</td>\n",
       "    </tr>\n",
       "    <tr>\n",
       "      <th>5</th>\n",
       "      <td>1</td>\n",
       "      <td>8</td>\n",
       "    </tr>\n",
       "    <tr>\n",
       "      <th>6</th>\n",
       "      <td>7</td>\n",
       "      <td>51</td>\n",
       "    </tr>\n",
       "    <tr>\n",
       "      <th>7</th>\n",
       "      <td>3</td>\n",
       "      <td>21</td>\n",
       "    </tr>\n",
       "    <tr>\n",
       "      <th>8</th>\n",
       "      <td>1</td>\n",
       "      <td>11</td>\n",
       "    </tr>\n",
       "    <tr>\n",
       "      <th>9</th>\n",
       "      <td>4</td>\n",
       "      <td>30</td>\n",
       "    </tr>\n",
       "  </tbody>\n",
       "</table>\n",
       "</div>"
      ],
      "text/plain": [
       "   T_Fare  Fare\n",
       "0       1     7\n",
       "1      10    71\n",
       "2       1     7\n",
       "3       7    53\n",
       "4       1     8\n",
       "5       1     8\n",
       "6       7    51\n",
       "7       3    21\n",
       "8       1    11\n",
       "9       4    30"
      ]
     },
     "execution_count": 436,
     "metadata": {},
     "output_type": "execute_result"
    }
   ],
   "source": [
    "# # 7달러 기준으로 구간화\n",
    "\n",
    "# def fare_bining(x): #df[\"Fare\"]\n",
    "#     T_fare = 0\n",
    "#     if x <= 7:\n",
    "#         T_fare = 1\n",
    "#     elif x <= 14:\n",
    "#         T_fare = 2\n",
    "#     elif x <= 21:\n",
    "#         T_fare = 3\n",
    "#     else:\n",
    "#         T_fare = 4\n",
    "#     return T_fare\n",
    "        \n",
    "# train_X[\"T_Fare\"] = train_X[\"Fare\"].apply(lambda x: fare_bining(x))\n",
    "\n",
    "train_X[\"T_Fare\"] = train_X[\"Fare\"].apply(lambda x: x//7)\n",
    "train_X[[\"T_Fare\", \"Fare\"]].head(10)"
   ]
  },
  {
   "cell_type": "code",
   "execution_count": 437,
   "id": "af709441",
   "metadata": {},
   "outputs": [],
   "source": [
    "def myfit(X, y, imp=0, t_size=0.2):\n",
    "    X_train, X_test, y_train, y_test = train_test_split(X, y, test_size= t_size, random_state=36,  shuffle=False)\n",
    "    # print(X_train.shape, X_test.shape, y_train.shape, y_test.shape)\n",
    "    dt.fit(X_train, y_train)\n",
    "    pred = dt.predict(X_test)\n",
    "    df_score = accuracy_score(pred, y_test)\n",
    "    print(df_score)\n",
    "    \n",
    "    if imp == 1:\n",
    "        imp_df = pd.DataFrame({\"feature\": train_X.columns, \"importance\": dt.feature_importances_})\n",
    "        imp_df.sort_values('importance', ascending=False).T\n",
    "                       "
   ]
  },
  {
   "cell_type": "code",
   "execution_count": 438,
   "id": "65c07aca",
   "metadata": {},
   "outputs": [
    {
     "name": "stdout",
     "output_type": "stream",
     "text": [
      "0.7597765363128491\n"
     ]
    }
   ],
   "source": [
    "myfit(train_X, train_y, 1) # 0.7597765363128491"
   ]
  },
  {
   "cell_type": "code",
   "execution_count": 439,
   "id": "429fa86f",
   "metadata": {},
   "outputs": [],
   "source": [
    "train_X.drop([\"Fare\"], inplace=True, axis=1)"
   ]
  },
  {
   "cell_type": "code",
   "execution_count": 440,
   "id": "cb918bb4",
   "metadata": {},
   "outputs": [
    {
     "name": "stdout",
     "output_type": "stream",
     "text": [
      "0.7821229050279329\n"
     ]
    }
   ],
   "source": [
    "myfit(train_X, train_y) # 0.8212290502793296"
   ]
  },
  {
   "cell_type": "markdown",
   "id": "d4b5299e",
   "metadata": {},
   "source": [
    "## Age 구간화"
   ]
  },
  {
   "cell_type": "code",
   "execution_count": null,
   "id": "cd20bdbf",
   "metadata": {},
   "outputs": [],
   "source": []
  }
 ],
 "metadata": {
  "kernelspec": {
   "display_name": "Python 3",
   "language": "python",
   "name": "python3"
  },
  "language_info": {
   "codemirror_mode": {
    "name": "ipython",
    "version": 3
   },
   "file_extension": ".py",
   "mimetype": "text/x-python",
   "name": "python",
   "nbconvert_exporter": "python",
   "pygments_lexer": "ipython3",
   "version": "3.7.6"
  }
 },
 "nbformat": 4,
 "nbformat_minor": 5
}
