{
 "cells": [
  {
   "cell_type": "code",
   "execution_count": 1,
   "id": "architectural-quality",
   "metadata": {},
   "outputs": [],
   "source": [
    "# ref : https://www.kaggle.com/uciml/pima-indians-diabetes-database?select=diabetes.csv"
   ]
  },
  {
   "cell_type": "code",
   "execution_count": 2,
   "id": "essential-progress",
   "metadata": {},
   "outputs": [],
   "source": [
    "import numpy as np\n",
    "import pandas as pd\n",
    "import matplotlib.pyplot as plt\n",
    "import seaborn as sns\n",
    "import warnings\n",
    "warnings.filterwarnings(action='ignore')\n",
    "from sklearn.tree import DecisionTreeClassifier\n",
    "from sklearn.ensemble import RandomForestClassifier\n",
    "from sklearn.linear_model import LogisticRegression\n",
    "from sklearn.neighbors import KNeighborsClassifier\n",
    "from sklearn.model_selection import train_test_split\n",
    "from sklearn.metrics import accuracy_score,confusion_matrix,precision_score, recall_score, f1_score, roc_auc_score, roc_curve"
   ]
  },
  {
   "cell_type": "markdown",
   "id": "durable-paintball",
   "metadata": {},
   "source": [
    "# 1. 데이터 사전 탐색(EDA)"
   ]
  },
  {
   "cell_type": "code",
   "execution_count": 3,
   "id": "serious-study",
   "metadata": {},
   "outputs": [],
   "source": [
    "df = pd.read_csv('diabetes.csv')"
   ]
  },
  {
   "cell_type": "code",
   "execution_count": 4,
   "id": "metric-financing",
   "metadata": {},
   "outputs": [
    {
     "data": {
      "text/plain": [
       "(768, 9)"
      ]
     },
     "execution_count": 4,
     "metadata": {},
     "output_type": "execute_result"
    }
   ],
   "source": [
    "df.shape"
   ]
  },
  {
   "cell_type": "code",
   "execution_count": 5,
   "id": "arbitrary-helmet",
   "metadata": {},
   "outputs": [
    {
     "name": "stdout",
     "output_type": "stream",
     "text": [
      "<class 'pandas.core.frame.DataFrame'>\n",
      "RangeIndex: 768 entries, 0 to 767\n",
      "Data columns (total 9 columns):\n",
      " #   Column                    Non-Null Count  Dtype  \n",
      "---  ------                    --------------  -----  \n",
      " 0   Pregnancies               768 non-null    int64  \n",
      " 1   Glucose                   768 non-null    int64  \n",
      " 2   BloodPressure             768 non-null    int64  \n",
      " 3   SkinThickness             768 non-null    int64  \n",
      " 4   Insulin                   768 non-null    int64  \n",
      " 5   BMI                       768 non-null    float64\n",
      " 6   DiabetesPedigreeFunction  768 non-null    float64\n",
      " 7   Age                       768 non-null    int64  \n",
      " 8   Outcome                   768 non-null    int64  \n",
      "dtypes: float64(2), int64(7)\n",
      "memory usage: 54.1 KB\n"
     ]
    }
   ],
   "source": [
    "df.info()"
   ]
  },
  {
   "cell_type": "code",
   "execution_count": 6,
   "id": "smooth-committee",
   "metadata": {},
   "outputs": [
    {
     "data": {
      "text/html": [
       "<div>\n",
       "<style scoped>\n",
       "    .dataframe tbody tr th:only-of-type {\n",
       "        vertical-align: middle;\n",
       "    }\n",
       "\n",
       "    .dataframe tbody tr th {\n",
       "        vertical-align: top;\n",
       "    }\n",
       "\n",
       "    .dataframe thead th {\n",
       "        text-align: right;\n",
       "    }\n",
       "</style>\n",
       "<table border=\"1\" class=\"dataframe\">\n",
       "  <thead>\n",
       "    <tr style=\"text-align: right;\">\n",
       "      <th></th>\n",
       "      <th>Pregnancies</th>\n",
       "      <th>Glucose</th>\n",
       "      <th>BloodPressure</th>\n",
       "      <th>SkinThickness</th>\n",
       "      <th>Insulin</th>\n",
       "      <th>BMI</th>\n",
       "      <th>DiabetesPedigreeFunction</th>\n",
       "      <th>Age</th>\n",
       "      <th>Outcome</th>\n",
       "    </tr>\n",
       "  </thead>\n",
       "  <tbody>\n",
       "    <tr>\n",
       "      <th>0</th>\n",
       "      <td>6</td>\n",
       "      <td>148</td>\n",
       "      <td>72</td>\n",
       "      <td>35</td>\n",
       "      <td>0</td>\n",
       "      <td>33.6</td>\n",
       "      <td>0.627</td>\n",
       "      <td>50</td>\n",
       "      <td>1</td>\n",
       "    </tr>\n",
       "    <tr>\n",
       "      <th>1</th>\n",
       "      <td>1</td>\n",
       "      <td>85</td>\n",
       "      <td>66</td>\n",
       "      <td>29</td>\n",
       "      <td>0</td>\n",
       "      <td>26.6</td>\n",
       "      <td>0.351</td>\n",
       "      <td>31</td>\n",
       "      <td>0</td>\n",
       "    </tr>\n",
       "    <tr>\n",
       "      <th>2</th>\n",
       "      <td>8</td>\n",
       "      <td>183</td>\n",
       "      <td>64</td>\n",
       "      <td>0</td>\n",
       "      <td>0</td>\n",
       "      <td>23.3</td>\n",
       "      <td>0.672</td>\n",
       "      <td>32</td>\n",
       "      <td>1</td>\n",
       "    </tr>\n",
       "    <tr>\n",
       "      <th>3</th>\n",
       "      <td>1</td>\n",
       "      <td>89</td>\n",
       "      <td>66</td>\n",
       "      <td>23</td>\n",
       "      <td>94</td>\n",
       "      <td>28.1</td>\n",
       "      <td>0.167</td>\n",
       "      <td>21</td>\n",
       "      <td>0</td>\n",
       "    </tr>\n",
       "    <tr>\n",
       "      <th>4</th>\n",
       "      <td>0</td>\n",
       "      <td>137</td>\n",
       "      <td>40</td>\n",
       "      <td>35</td>\n",
       "      <td>168</td>\n",
       "      <td>43.1</td>\n",
       "      <td>2.288</td>\n",
       "      <td>33</td>\n",
       "      <td>1</td>\n",
       "    </tr>\n",
       "  </tbody>\n",
       "</table>\n",
       "</div>"
      ],
      "text/plain": [
       "   Pregnancies  Glucose  BloodPressure  SkinThickness  Insulin   BMI  \\\n",
       "0            6      148             72             35        0  33.6   \n",
       "1            1       85             66             29        0  26.6   \n",
       "2            8      183             64              0        0  23.3   \n",
       "3            1       89             66             23       94  28.1   \n",
       "4            0      137             40             35      168  43.1   \n",
       "\n",
       "   DiabetesPedigreeFunction  Age  Outcome  \n",
       "0                     0.627   50        1  \n",
       "1                     0.351   31        0  \n",
       "2                     0.672   32        1  \n",
       "3                     0.167   21        0  \n",
       "4                     2.288   33        1  "
      ]
     },
     "execution_count": 6,
     "metadata": {},
     "output_type": "execute_result"
    }
   ],
   "source": [
    "df.head()"
   ]
  },
  {
   "cell_type": "markdown",
   "id": "twelve-stable",
   "metadata": {},
   "source": [
    "* Pregnancies : 임신횟수\n",
    "* Glucose : 포도당수치\n",
    "* BloodPressure : 혈압\n",
    "* SkinThickness : 피하지방\n",
    "* Insulin : 인슐린\n",
    "* BMI : 체질량지수\n",
    "* DiabetesPedigreeFunction : 유전적(가족력)\n",
    "* Age : 나이\n",
    "* Outcome : 당뇨여부 1(당뇨) / 0(정상)"
   ]
  },
  {
   "cell_type": "markdown",
   "id": "smooth-rolling",
   "metadata": {},
   "source": [
    "## 무조건 점수부터 보자 (결측없다, 수치형피쳐)"
   ]
  },
  {
   "cell_type": "code",
   "execution_count": 7,
   "id": "lightweight-supplier",
   "metadata": {},
   "outputs": [],
   "source": [
    "def myfit(df_X, df_y, model, imp=0, tsize=0.2):\n",
    "    X_train, X_test, y_train, y_test = train_test_split(df_X, df_y, test_size=tsize, random_state=36,  shuffle=False)\n",
    "    #print(X_train.shape, X_test.shape, y_train.shape, y_test.shape)\n",
    "    model.fit(X_train, y_train)\n",
    "    pred = model.predict(X_test)\n",
    "    accuracy = accuracy_score(pred ,  y_test)\n",
    "    precision = precision_score(pred ,  y_test)\n",
    "    recall = recall_score(pred ,  y_test)\n",
    "    f1 = f1_score(pred ,  y_test)\n",
    "    print(\"Accuracy:{:.6f}  precision:{:.6f}, recall:{:.6f}, f1:{:.6f}\".format(accuracy, precision, recall, f1))\n",
    "    \n",
    "#     if imp==1:\n",
    "#         imp_df = pd.DataFrame({\"featuer\" : X_train.columns, \"importance\" : model.feature_importances_})\n",
    "#         imp_df = imp_df.sort_values('importance', ascending=False).T\n",
    "#         print(imp_df)"
   ]
  },
  {
   "cell_type": "code",
   "execution_count": 8,
   "id": "artificial-slide",
   "metadata": {},
   "outputs": [
    {
     "name": "stdout",
     "output_type": "stream",
     "text": [
      "(768, 8) (768,)\n"
     ]
    }
   ],
   "source": [
    "rf = RandomForestClassifier(random_state=36)\n",
    "df_y = df[\"Outcome\"]\n",
    "df_X = df.drop(\"Outcome\", axis=1)\n",
    "print(df_X.shape, df_y.shape)"
   ]
  },
  {
   "cell_type": "code",
   "execution_count": 9,
   "id": "taken-cornell",
   "metadata": {},
   "outputs": [
    {
     "name": "stdout",
     "output_type": "stream",
     "text": [
      "Accuracy:0.766234  precision:0.545455, recall:0.731707, f1:0.625000\n"
     ]
    }
   ],
   "source": [
    "myfit(df_X, df_y, rf, imp=1)   # 0.720779"
   ]
  },
  {
   "cell_type": "markdown",
   "id": "immediate-optimum",
   "metadata": {},
   "source": [
    "## 불균형 확인"
   ]
  },
  {
   "cell_type": "code",
   "execution_count": 10,
   "id": "rough-lender",
   "metadata": {},
   "outputs": [
    {
     "data": {
      "text/plain": [
       "0    500\n",
       "1    268\n",
       "Name: Outcome, dtype: int64"
      ]
     },
     "execution_count": 10,
     "metadata": {},
     "output_type": "execute_result"
    }
   ],
   "source": [
    "df[\"Outcome\"].value_counts()"
   ]
  },
  {
   "cell_type": "code",
   "execution_count": 11,
   "id": "sustained-format",
   "metadata": {},
   "outputs": [
    {
     "data": {
      "image/png": "[encoded data removed]",
      "text/plain": [
       "<Figure size 432x288 with 9 Axes>"
      ]
     },
     "metadata": {
      "needs_background": "light"
     },
     "output_type": "display_data"
    }
   ],
   "source": [
    "df.hist()\n",
    "plt.show()"
   ]
  },
  {
   "cell_type": "markdown",
   "id": "irish-sequence",
   "metadata": {},
   "source": [
    "### 0데이터 확인"
   ]
  },
  {
   "cell_type": "code",
   "execution_count": 12,
   "id": "residential-elite",
   "metadata": {},
   "outputs": [
    {
     "name": "stdout",
     "output_type": "stream",
     "text": [
      "               CNT       RATE\n",
      "Outcome        500  65.104167\n",
      "Insulin        374  48.697917\n",
      "SkinThickness  227  29.557292\n",
      "Pregnancies    111  14.453125\n",
      "BloodPressure   35   4.557292\n",
      "BMI             11   1.432292\n",
      "Glucose          5   0.651042\n"
     ]
    }
   ],
   "source": [
    "nan_dict = {\"CNT\":df.isin([0]).sum(),\n",
    "            \"RATE\": df.isin([0]).sum()/df.shape[0] *100\n",
    "}\n",
    "nan_df = pd.DataFrame(nan_dict)\n",
    "print(nan_df[nan_df[\"RATE\"]>0].sort_values(\"CNT\", ascending=False))\n"
   ]
  },
  {
   "cell_type": "markdown",
   "id": "indian-conversion",
   "metadata": {},
   "source": [
    "* Insulin        374  48.697917\n",
    "* SkinThickness  227  29.557292  --??\n",
    "* BloodPressure   35   4.557292\n",
    "* BMI             11   1.432292\n",
    "* Glucose          5   0.651042"
   ]
  },
  {
   "cell_type": "markdown",
   "id": "operating-bouquet",
   "metadata": {},
   "source": [
    "### 각 피쳐당 0값을 평균값으로 대체"
   ]
  },
  {
   "cell_type": "code",
   "execution_count": 13,
   "id": "stupid-battlefield",
   "metadata": {},
   "outputs": [],
   "source": [
    "zero_feature = [\"Insulin\",\"SkinThickness\",\"BloodPressure\",\"BMI\",\"Glucose\"]\n",
    "zero_mean = df[zero_feature].mean()\n",
    "df[zero_feature] = df[zero_feature].replace(0, zero_mean)"
   ]
  },
  {
   "cell_type": "code",
   "execution_count": 14,
   "id": "blessed-teacher",
   "metadata": {},
   "outputs": [
    {
     "data": {
      "image/png": "[encoded data removed]",
      "text/plain": [
       "<Figure size 432x288 with 9 Axes>"
      ]
     },
     "metadata": {
      "needs_background": "light"
     },
     "output_type": "display_data"
    }
   ],
   "source": [
    "df.hist()\n",
    "plt.show()"
   ]
  },
  {
   "cell_type": "code",
   "execution_count": 15,
   "id": "sharing-korean",
   "metadata": {},
   "outputs": [
    {
     "data": {
      "text/html": [
       "<div>\n",
       "<style scoped>\n",
       "    .dataframe tbody tr th:only-of-type {\n",
       "        vertical-align: middle;\n",
       "    }\n",
       "\n",
       "    .dataframe tbody tr th {\n",
       "        vertical-align: top;\n",
       "    }\n",
       "\n",
       "    .dataframe thead th {\n",
       "        text-align: right;\n",
       "    }\n",
       "</style>\n",
       "<table border=\"1\" class=\"dataframe\">\n",
       "  <thead>\n",
       "    <tr style=\"text-align: right;\">\n",
       "      <th></th>\n",
       "      <th>Pregnancies</th>\n",
       "      <th>Glucose</th>\n",
       "      <th>BloodPressure</th>\n",
       "      <th>SkinThickness</th>\n",
       "      <th>Insulin</th>\n",
       "      <th>BMI</th>\n",
       "      <th>DiabetesPedigreeFunction</th>\n",
       "      <th>Age</th>\n",
       "      <th>Outcome</th>\n",
       "    </tr>\n",
       "  </thead>\n",
       "  <tbody>\n",
       "    <tr>\n",
       "      <th>0</th>\n",
       "      <td>6</td>\n",
       "      <td>148.0</td>\n",
       "      <td>72.0</td>\n",
       "      <td>35.000000</td>\n",
       "      <td>79.799479</td>\n",
       "      <td>33.6</td>\n",
       "      <td>0.627</td>\n",
       "      <td>50</td>\n",
       "      <td>1</td>\n",
       "    </tr>\n",
       "    <tr>\n",
       "      <th>1</th>\n",
       "      <td>1</td>\n",
       "      <td>85.0</td>\n",
       "      <td>66.0</td>\n",
       "      <td>29.000000</td>\n",
       "      <td>79.799479</td>\n",
       "      <td>26.6</td>\n",
       "      <td>0.351</td>\n",
       "      <td>31</td>\n",
       "      <td>0</td>\n",
       "    </tr>\n",
       "    <tr>\n",
       "      <th>2</th>\n",
       "      <td>8</td>\n",
       "      <td>183.0</td>\n",
       "      <td>64.0</td>\n",
       "      <td>20.536458</td>\n",
       "      <td>79.799479</td>\n",
       "      <td>23.3</td>\n",
       "      <td>0.672</td>\n",
       "      <td>32</td>\n",
       "      <td>1</td>\n",
       "    </tr>\n",
       "    <tr>\n",
       "      <th>3</th>\n",
       "      <td>1</td>\n",
       "      <td>89.0</td>\n",
       "      <td>66.0</td>\n",
       "      <td>23.000000</td>\n",
       "      <td>94.000000</td>\n",
       "      <td>28.1</td>\n",
       "      <td>0.167</td>\n",
       "      <td>21</td>\n",
       "      <td>0</td>\n",
       "    </tr>\n",
       "    <tr>\n",
       "      <th>4</th>\n",
       "      <td>0</td>\n",
       "      <td>137.0</td>\n",
       "      <td>40.0</td>\n",
       "      <td>35.000000</td>\n",
       "      <td>168.000000</td>\n",
       "      <td>43.1</td>\n",
       "      <td>2.288</td>\n",
       "      <td>33</td>\n",
       "      <td>1</td>\n",
       "    </tr>\n",
       "  </tbody>\n",
       "</table>\n",
       "</div>"
      ],
      "text/plain": [
       "   Pregnancies  Glucose  BloodPressure  SkinThickness     Insulin   BMI  \\\n",
       "0            6    148.0           72.0      35.000000   79.799479  33.6   \n",
       "1            1     85.0           66.0      29.000000   79.799479  26.6   \n",
       "2            8    183.0           64.0      20.536458   79.799479  23.3   \n",
       "3            1     89.0           66.0      23.000000   94.000000  28.1   \n",
       "4            0    137.0           40.0      35.000000  168.000000  43.1   \n",
       "\n",
       "   DiabetesPedigreeFunction  Age  Outcome  \n",
       "0                     0.627   50        1  \n",
       "1                     0.351   31        0  \n",
       "2                     0.672   32        1  \n",
       "3                     0.167   21        0  \n",
       "4                     2.288   33        1  "
      ]
     },
     "execution_count": 15,
     "metadata": {},
     "output_type": "execute_result"
    }
   ],
   "source": [
    "df.head()  "
   ]
  },
  {
   "cell_type": "code",
   "execution_count": 16,
   "id": "later-officer",
   "metadata": {},
   "outputs": [],
   "source": [
    "def myscore(y_test,pred,proba, pr_curve=0, auc_curve=0):\n",
    "    accuracy = accuracy_score(pred ,  y_test)\n",
    "    precision = precision_score(pred ,  y_test)\n",
    "    recall = recall_score(pred ,  y_test)\n",
    "    f1 = f1_score(pred ,  y_test)\n",
    "    auc = roc_auc_score(y_test, proba[:,-1])\n",
    "    #print(f'StandardScaler:  {df_score:.4f}')  # 0.766234\n",
    "    #print(f\"Accuracy:{accuracy:.6f}  precision:{precision:.6f}, recall:{recall:.6f}, f1:{f1:.6f}\")\n",
    "    print(\"Accuracy:{:.6f}  precision:{:.6f}, recall:{:.6f}, f1:{:.6f}, auc:{:.6f}\".format(accuracy, precision, recall, f1, auc))\n",
    "    \n",
    "    mtx = confusion_matrix(y_test, pred)\n",
    "    print(mtx)\n",
    "    \n",
    "    if pr_curve==1:\n",
    "        mycurve(y_test, proba)\n",
    "    if auc_curve==1:\n",
    "        mycurve_auc(y_test, proba)\n",
    "        "
   ]
  },
  {
   "cell_type": "code",
   "execution_count": 17,
   "id": "supported-forestry",
   "metadata": {},
   "outputs": [],
   "source": [
    "from sklearn.metrics import precision_recall_curve\n",
    "def mycurve(y_test, proba):  \n",
    "    precision, recall, thresholds = precision_recall_curve(y_test, proba[ : , -1])\n",
    "    print(len(precision), len(recall), len(thresholds))  #66 66 65\n",
    "    plt.plot(thresholds, precision[:len(thresholds)], label=\"precision\")\n",
    "    plt.plot(thresholds, recall[:len(thresholds)], label=\"recall\")\n",
    "    plt.xlabel(\"thresholds\")\n",
    "    plt.ylabel(\"score\")\n",
    "    plt.grid()\n",
    "    plt.legend()\n",
    "    plt.show()\n",
    "    \n",
    "    "
   ]
  },
  {
   "cell_type": "code",
   "execution_count": 18,
   "id": "southern-effort",
   "metadata": {},
   "outputs": [],
   "source": [
    "def mycurve_auc(y_test, proba):  \n",
    "    fpr, tpr, thresholds = roc_curve(y_test, proba[:,-1])\n",
    "    print(len(fpr), len(tpr), len(thresholds))  #66 66 65\n",
    "    plt.plot(fpr, tpr, label=\"roc\")\n",
    "    plt.plot([0,1], [0,1], label=\"th:0.5\")\n",
    "    plt.xlabel(\"FPR (1-TNR(specificity)\")      #FP\n",
    "    plt.ylabel(\"TPR (recall,sensitivity)\") #TP\n",
    "    plt.title(f\"auc : {roc_auc_score(y_test, proba[:,-1]):.4f}\")\n",
    "    plt.grid()\n",
    "    plt.legend()\n",
    "    plt.show()"
   ]
  },
  {
   "cell_type": "markdown",
   "id": "afraid-burns",
   "metadata": {},
   "source": [
    "## 스케일링 : 정규화"
   ]
  },
  {
   "cell_type": "markdown",
   "id": "adopted-senior",
   "metadata": {},
   "source": [
    "### 방법1) df_X.splite -->  train.fit_transform  --> test.transform"
   ]
  },
  {
   "cell_type": "code",
   "execution_count": 19,
   "id": "standing-player",
   "metadata": {},
   "outputs": [
    {
     "name": "stdout",
     "output_type": "stream",
     "text": [
      "Accuracy:0.740260  precision:0.545455, recall:0.666667, f1:0.600000, auc:0.818090\n",
      "[[84 15]\n",
      " [25 30]]\n",
      "66 66 65\n"
     ]
    },
    {
     "data": {
      "image/png": "[encoded data removed]",
      "text/plain": [
       "<Figure size 432x288 with 1 Axes>"
      ]
     },
     "metadata": {
      "needs_background": "light"
     },
     "output_type": "display_data"
    },
    {
     "name": "stdout",
     "output_type": "stream",
     "text": [
      "64 64 64\n"
     ]
    },
    {
     "data": {
      "image/png": "[encoded data removed]",
      "text/plain": [
       "<Figure size 432x288 with 1 Axes>"
      ]
     },
     "metadata": {
      "needs_background": "light"
     },
     "output_type": "display_data"
    }
   ],
   "source": [
    "from sklearn.preprocessing import StandardScaler, MinMaxScaler, RobustScaler\n",
    "df_y = df[\"Outcome\"]\n",
    "df_X = df.drop(\"Outcome\", axis=1)\n",
    "     \n",
    "std_scaler = StandardScaler()\n",
    "X_train, X_test, y_train, y_test = train_test_split(df_X, df_y, test_size=0.2, random_state=36,  shuffle=False)\n",
    "# print(X_train.shape, X_test.shape, len(y_train), len(y_test))\n",
    "\n",
    "std_scaler = StandardScaler()\n",
    "X_train_scaler = std_scaler.fit_transform(X_train)  \n",
    "X_test_scaler  = std_scaler.transform(X_test)    #---------------------스케일링 1/10 적용\n",
    "\n",
    "rf.fit(X_train_scaler, y_train)\n",
    "pred = rf.predict(X_test_scaler)\n",
    "proba= rf.predict_proba(X_test_scaler)\n",
    "\n",
    "#-------------------------------------------------\n",
    "# print(pred[:5], proba[:5])\n",
    "myscore(y_test,pred, proba, pr_curve=1, auc_curve=1)\n",
    "          \n",
    "    "
   ]
  },
  {
   "cell_type": "markdown",
   "id": "emotional-berlin",
   "metadata": {},
   "source": [
    "* ROC곡선 : FPR 0~1변화에 따른 TPR 변환율\n",
    "* FPR=0인 경우 -->  FP=0 ,  th=1(all N : 임계값이 1이면 P예측이 아예 없다)\n",
    "* FPR=1인 경우 -->  TN=0,   th=0(all P : 임계값이 0이면 P예측이 전부이다) 임계값이 낮을수록 P로 예측할 확률이 높아짐)"
   ]
  },
  {
   "cell_type": "code",
   "execution_count": 20,
   "id": "animated-halifax",
   "metadata": {},
   "outputs": [
    {
     "name": "stdout",
     "output_type": "stream",
     "text": [
      "N:P (0.1, 0.9)\n",
      "Accuracy:0.525974  precision:0.981818, recall:0.428571, f1:0.596685, auc:0.818090\n",
      "[[27 72]\n",
      " [ 1 54]]\n",
      "N:P (0.35, 0.65)\n",
      "Accuracy:0.740260  precision:0.763636, recall:0.608696, f1:0.677419, auc:0.818090\n",
      "[[72 27]\n",
      " [13 42]]\n",
      "N:P (0.4, 0.6)\n",
      "Accuracy:0.740260  precision:0.709091, recall:0.619048, f1:0.661017, auc:0.818090\n",
      "[[75 24]\n",
      " [16 39]]\n",
      "N:P (0.45, 0.55)\n",
      "Accuracy:0.740260  precision:0.672727, recall:0.627119, f1:0.649123, auc:0.818090\n",
      "[[77 22]\n",
      " [18 37]]\n",
      "N:P (0.5, 0.5)\n",
      "Accuracy:0.740260  precision:0.545455, recall:0.666667, f1:0.600000, auc:0.818090\n",
      "[[84 15]\n",
      " [25 30]]\n",
      "N:P (0.55, 0.44999999999999996)\n",
      "Accuracy:0.733766  precision:0.436364, recall:0.705882, f1:0.539326, auc:0.818090\n",
      "[[89 10]\n",
      " [31 24]]\n",
      "N:P (0.99, 0.010000000000000009)\n",
      "Accuracy:0.642857  precision:0.000000, recall:0.000000, f1:0.000000, auc:0.818090\n",
      "[[99  0]\n",
      " [55  0]]\n"
     ]
    }
   ],
   "source": [
    "from sklearn.preprocessing import Binarizer\n",
    "ths = [0.1, 0.35, 0.4 , 0.45, 0.5, 0.55, 0.99] #0.5\n",
    "for th in ths: \n",
    "    binarizer = Binarizer(threshold=th)\n",
    "    pred = binarizer.fit_transform(proba[:,-1].reshape(-1,1))\n",
    "    print(f'N:P {th, 1-th}')\n",
    "    myscore(y_test,pred, proba)\n",
    "    "
   ]
  },
  {
   "cell_type": "markdown",
   "id": "danish-leadership",
   "metadata": {},
   "source": [
    "### 방법2)  df_X.fit_transform --> train_test_split "
   ]
  },
  {
   "cell_type": "code",
   "execution_count": 21,
   "id": "ultimate-revolution",
   "metadata": {},
   "outputs": [],
   "source": [
    "# std_scaler = StandardScaler()\n",
    "# rbs_scaler = RobustScaler()\n",
    "# mmx_scaler = MinMaxScaler()\n",
    "# scaler_list = [(\"StandardScaler\",std_scaler), (\"RobustScaler\",rbs_scaler), (\"MinMaxScaler\",mmx_scaler)]\n",
    "# df_y = df[\"Outcome\"]\n",
    "# df_X = df.drop(\"Outcome\", axis=1)\n",
    "# for scaler in scaler_list:\n",
    "#     df_X_scaler = scaler[1].fit_transform(df_X)   \n",
    "#     X_train, X_test, y_train, y_test = train_test_split(df_X_scaler, df_y, test_size=0.2, random_state=36,  shuffle=False)\n",
    "#     rf.fit(X_train, y_train)\n",
    "#     pred = rf.predict(X_test)\n",
    "#     df_score = accuracy_score(pred ,  y_test)\n",
    "#     print(f'{scaler[0]:s}:  {df_score:.4f}')\n"
   ]
  },
  {
   "cell_type": "code",
   "execution_count": 22,
   "id": "scientific-alarm",
   "metadata": {},
   "outputs": [],
   "source": [
    "# df_y = df[\"Outcome\"]\n",
    "# df_X = df.drop(\"Outcome\", axis=1)\n",
    "# std_scaler = StandardScaler()\n",
    "# df_X_scaler = std_scaler.fit_transform(df_X)   \n",
    "# X_train, X_test, y_train, y_test = train_test_split(df_X_scaler, df_y, test_size=0.2, random_state=36,  shuffle=False)\n",
    "# rf.fit(X_train, y_train)\n",
    "# pred = rf.predict(X_test)\n",
    "# myscore(y_test,pred)"
   ]
  },
  {
   "cell_type": "code",
   "execution_count": null,
   "id": "exempt-stage",
   "metadata": {},
   "outputs": [],
   "source": []
  },
  {
   "cell_type": "code",
   "execution_count": null,
   "id": "universal-child",
   "metadata": {},
   "outputs": [],
   "source": []
  }
 ],
 "metadata": {
  "kernelspec": {
   "display_name": "Python 3",
   "language": "python",
   "name": "python3"
  },
  "language_info": {
   "codemirror_mode": {
    "name": "ipython",
    "version": 3
   },
   "file_extension": ".py",
   "mimetype": "text/x-python",
   "name": "python",
   "nbconvert_exporter": "python",
   "pygments_lexer": "ipython3",
   "version": "3.8.0"
  }
 },
 "nbformat": 4,
 "nbformat_minor": 5
}
