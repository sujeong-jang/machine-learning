{
 "cells": [
  {
   "cell_type": "code",
   "execution_count": 1,
   "id": "narrative-oklahoma",
   "metadata": {},
   "outputs": [],
   "source": [
    "# ref : https://www.kaggle.com/uciml/pima-indians-diabetes-database?select=diabetes.csv"
   ]
  },
  {
   "cell_type": "code",
   "execution_count": 2,
   "id": "sound-emerald",
   "metadata": {},
   "outputs": [],
   "source": [
    "import numpy as np\n",
    "import pandas as pd\n",
    "import matplotlib.pyplot as plt\n",
    "import seaborn as sns\n",
    "import warnings\n",
    "warnings.filterwarnings(action='ignore')\n",
    "\n",
    "from sklearn.tree import DecisionTreeClassifier\n",
    "from sklearn.ensemble import RandomForestClassifier\n",
    "from sklearn.linear_model import LogisticRegression\n",
    "from sklearn.neighbors import KNeighborsClassifier\n",
    "from sklearn.model_selection import train_test_split\n",
    "from sklearn.metrics import accuracy_score,confusion_matrix,precision_score, recall_score, f1_score, roc_auc_score"
   ]
  },
  {
   "cell_type": "markdown",
   "id": "unauthorized-leadership",
   "metadata": {},
   "source": [
    "# 1. 데이터 사전 탐색(EDA)"
   ]
  },
  {
   "cell_type": "code",
   "execution_count": 3,
   "id": "tropical-remains",
   "metadata": {},
   "outputs": [],
   "source": [
    "df = pd.read_csv('diabetes.csv')"
   ]
  },
  {
   "cell_type": "code",
   "execution_count": 4,
   "id": "ancient-exposure",
   "metadata": {},
   "outputs": [
    {
     "data": {
      "text/plain": [
       "(768, 9)"
      ]
     },
     "execution_count": 4,
     "metadata": {},
     "output_type": "execute_result"
    }
   ],
   "source": [
    "df.shape"
   ]
  },
  {
   "cell_type": "code",
   "execution_count": 5,
   "id": "accepted-private",
   "metadata": {},
   "outputs": [
    {
     "name": "stdout",
     "output_type": "stream",
     "text": [
      "<class 'pandas.core.frame.DataFrame'>\n",
      "RangeIndex: 768 entries, 0 to 767\n",
      "Data columns (total 9 columns):\n",
      " #   Column                    Non-Null Count  Dtype  \n",
      "---  ------                    --------------  -----  \n",
      " 0   Pregnancies               768 non-null    int64  \n",
      " 1   Glucose                   768 non-null    int64  \n",
      " 2   BloodPressure             768 non-null    int64  \n",
      " 3   SkinThickness             768 non-null    int64  \n",
      " 4   Insulin                   768 non-null    int64  \n",
      " 5   BMI                       768 non-null    float64\n",
      " 6   DiabetesPedigreeFunction  768 non-null    float64\n",
      " 7   Age                       768 non-null    int64  \n",
      " 8   Outcome                   768 non-null    int64  \n",
      "dtypes: float64(2), int64(7)\n",
      "memory usage: 54.1 KB\n"
     ]
    }
   ],
   "source": [
    "df.info()"
   ]
  },
  {
   "cell_type": "code",
   "execution_count": 6,
   "id": "continuous-flooring",
   "metadata": {},
   "outputs": [
    {
     "data": {
      "text/html": [
       "<div>\n",
       "<style scoped>\n",
       "    .dataframe tbody tr th:only-of-type {\n",
       "        vertical-align: middle;\n",
       "    }\n",
       "\n",
       "    .dataframe tbody tr th {\n",
       "        vertical-align: top;\n",
       "    }\n",
       "\n",
       "    .dataframe thead th {\n",
       "        text-align: right;\n",
       "    }\n",
       "</style>\n",
       "<table border=\"1\" class=\"dataframe\">\n",
       "  <thead>\n",
       "    <tr style=\"text-align: right;\">\n",
       "      <th></th>\n",
       "      <th>Pregnancies</th>\n",
       "      <th>Glucose</th>\n",
       "      <th>BloodPressure</th>\n",
       "      <th>SkinThickness</th>\n",
       "      <th>Insulin</th>\n",
       "      <th>BMI</th>\n",
       "      <th>DiabetesPedigreeFunction</th>\n",
       "      <th>Age</th>\n",
       "      <th>Outcome</th>\n",
       "    </tr>\n",
       "  </thead>\n",
       "  <tbody>\n",
       "    <tr>\n",
       "      <th>0</th>\n",
       "      <td>6</td>\n",
       "      <td>148</td>\n",
       "      <td>72</td>\n",
       "      <td>35</td>\n",
       "      <td>0</td>\n",
       "      <td>33.6</td>\n",
       "      <td>0.627</td>\n",
       "      <td>50</td>\n",
       "      <td>1</td>\n",
       "    </tr>\n",
       "    <tr>\n",
       "      <th>1</th>\n",
       "      <td>1</td>\n",
       "      <td>85</td>\n",
       "      <td>66</td>\n",
       "      <td>29</td>\n",
       "      <td>0</td>\n",
       "      <td>26.6</td>\n",
       "      <td>0.351</td>\n",
       "      <td>31</td>\n",
       "      <td>0</td>\n",
       "    </tr>\n",
       "    <tr>\n",
       "      <th>2</th>\n",
       "      <td>8</td>\n",
       "      <td>183</td>\n",
       "      <td>64</td>\n",
       "      <td>0</td>\n",
       "      <td>0</td>\n",
       "      <td>23.3</td>\n",
       "      <td>0.672</td>\n",
       "      <td>32</td>\n",
       "      <td>1</td>\n",
       "    </tr>\n",
       "    <tr>\n",
       "      <th>3</th>\n",
       "      <td>1</td>\n",
       "      <td>89</td>\n",
       "      <td>66</td>\n",
       "      <td>23</td>\n",
       "      <td>94</td>\n",
       "      <td>28.1</td>\n",
       "      <td>0.167</td>\n",
       "      <td>21</td>\n",
       "      <td>0</td>\n",
       "    </tr>\n",
       "    <tr>\n",
       "      <th>4</th>\n",
       "      <td>0</td>\n",
       "      <td>137</td>\n",
       "      <td>40</td>\n",
       "      <td>35</td>\n",
       "      <td>168</td>\n",
       "      <td>43.1</td>\n",
       "      <td>2.288</td>\n",
       "      <td>33</td>\n",
       "      <td>1</td>\n",
       "    </tr>\n",
       "  </tbody>\n",
       "</table>\n",
       "</div>"
      ],
      "text/plain": [
       "   Pregnancies  Glucose  BloodPressure  SkinThickness  Insulin   BMI  \\\n",
       "0            6      148             72             35        0  33.6   \n",
       "1            1       85             66             29        0  26.6   \n",
       "2            8      183             64              0        0  23.3   \n",
       "3            1       89             66             23       94  28.1   \n",
       "4            0      137             40             35      168  43.1   \n",
       "\n",
       "   DiabetesPedigreeFunction  Age  Outcome  \n",
       "0                     0.627   50        1  \n",
       "1                     0.351   31        0  \n",
       "2                     0.672   32        1  \n",
       "3                     0.167   21        0  \n",
       "4                     2.288   33        1  "
      ]
     },
     "execution_count": 6,
     "metadata": {},
     "output_type": "execute_result"
    }
   ],
   "source": [
    "df.head()"
   ]
  },
  {
   "cell_type": "markdown",
   "id": "removable-thought",
   "metadata": {},
   "source": [
    "* Pregnancies : 임신횟수\n",
    "* Glucose : 포도당수치\n",
    "* BloodPressure : 혈압\n",
    "* SkinThickness : 피하지방\n",
    "* Insulin : 인슐린\n",
    "* BMI : 체질량지수\n",
    "* DiabetesPedigreeFunction : 유전적(가족력)\n",
    "* Age : 나이\n",
    "* Outcome : 당뇨여부 1(당뇨) / 0(정상)"
   ]
  },
  {
   "cell_type": "markdown",
   "id": "peaceful-harvey",
   "metadata": {},
   "source": [
    "## 무조건 점수부터 보자 (결측없다, 수치형피쳐)"
   ]
  },
  {
   "cell_type": "code",
   "execution_count": 37,
   "id": "sufficient-bathroom",
   "metadata": {},
   "outputs": [],
   "source": [
    "def myfit(df_X, df_y, model, imp=0, tsize=0.2):\n",
    "    X_train, X_test, y_train, y_test = train_test_split(df_X, df_y, test_size=tsize, random_state=36,  shuffle=False)\n",
    "    #print(X_train.shape, X_test.shape, y_train.shape, y_test.shape)\n",
    "    model.fit(X_train, y_train)\n",
    "    pred = model.predict(X_test)\n",
    "    accuracy = accuracy_score(pred ,  y_test)\n",
    "    precision = precision_score(pred ,  y_test)\n",
    "    recall = recall_score(pred ,  y_test)\n",
    "    f1 = f1_score(pred ,  y_test)\n",
    "    print(\"Accuracy:{:.6f}  precision:{:.6f}, recall:{:.6f}, f1:{:.6f}\".format(accuracy, precision, recall, f1))\n",
    "    \n",
    "#     if imp==1:\n",
    "#         imp_df = pd.DataFrame({\"featuer\" : X_train.columns, \"importance\" : model.feature_importances_})\n",
    "#         imp_df = imp_df.sort_values('importance', ascending=False).T\n",
    "#         print(imp_df)"
   ]
  },
  {
   "cell_type": "code",
   "execution_count": 8,
   "id": "threatened-glenn",
   "metadata": {},
   "outputs": [
    {
     "name": "stdout",
     "output_type": "stream",
     "text": [
      "(768, 8) (768,)\n"
     ]
    }
   ],
   "source": [
    "rf = RandomForestClassifier()\n",
    "df_y = df[\"Outcome\"]\n",
    "df_X = df.drop(\"Outcome\", axis=1)\n",
    "print(df_X.shape, df_y.shape)"
   ]
  },
  {
   "cell_type": "code",
   "execution_count": 9,
   "id": "accessory-mineral",
   "metadata": {},
   "outputs": [
    {
     "name": "stdout",
     "output_type": "stream",
     "text": [
      "Accuracy : 0.720779\n",
      "                   1         5         7                         6  \\\n",
      "featuer      Glucose       BMI       Age  DiabetesPedigreeFunction   \n",
      "importance  0.252622  0.178928  0.129908                  0.121123   \n",
      "\n",
      "                        2            0         4              3  \n",
      "featuer     BloodPressure  Pregnancies   Insulin  SkinThickness  \n",
      "importance       0.089277     0.078823  0.077974       0.071345  \n"
     ]
    }
   ],
   "source": [
    "myfit(df_X, df_y, rf, imp=1)   # 0.720779"
   ]
  },
  {
   "cell_type": "markdown",
   "id": "disturbed-adult",
   "metadata": {},
   "source": [
    "## 불균형 확인"
   ]
  },
  {
   "cell_type": "code",
   "execution_count": 10,
   "id": "portuguese-anthropology",
   "metadata": {},
   "outputs": [
    {
     "data": {
      "text/plain": [
       "0    500\n",
       "1    268\n",
       "Name: Outcome, dtype: int64"
      ]
     },
     "execution_count": 10,
     "metadata": {},
     "output_type": "execute_result"
    }
   ],
   "source": [
    "df[\"Outcome\"].value_counts()"
   ]
  },
  {
   "cell_type": "code",
   "execution_count": 11,
   "id": "eligible-least",
   "metadata": {},
   "outputs": [
    {
     "data": {
      "image/png": "[encoded data removed]",
      "text/plain": [
       "<Figure size 432x288 with 9 Axes>"
      ]
     },
     "metadata": {
      "needs_background": "light"
     },
     "output_type": "display_data"
    }
   ],
   "source": [
    "df.hist()\n",
    "plt.show()"
   ]
  },
  {
   "cell_type": "markdown",
   "id": "spare-alarm",
   "metadata": {},
   "source": [
    "### 0데이터 확인"
   ]
  },
  {
   "cell_type": "code",
   "execution_count": 12,
   "id": "committed-stuff",
   "metadata": {},
   "outputs": [
    {
     "name": "stdout",
     "output_type": "stream",
     "text": [
      "               CNT       RATE\n",
      "Outcome        500  65.104167\n",
      "Insulin        374  48.697917\n",
      "SkinThickness  227  29.557292\n",
      "Pregnancies    111  14.453125\n",
      "BloodPressure   35   4.557292\n",
      "BMI             11   1.432292\n",
      "Glucose          5   0.651042\n"
     ]
    }
   ],
   "source": [
    "nan_dict = {\"CNT\":df.isin([0]).sum(),\n",
    "            \"RATE\": df.isin([0]).sum()/df.shape[0] *100\n",
    "}\n",
    "nan_df = pd.DataFrame(nan_dict)\n",
    "print(nan_df[nan_df[\"RATE\"]>0].sort_values(\"CNT\", ascending=False))\n"
   ]
  },
  {
   "cell_type": "markdown",
   "id": "muslim-jason",
   "metadata": {},
   "source": [
    "* Insulin        374  48.697917\n",
    "* SkinThickness  227  29.557292  --??\n",
    "* BloodPressure   35   4.557292\n",
    "* BMI             11   1.432292\n",
    "* Glucose          5   0.651042"
   ]
  },
  {
   "cell_type": "markdown",
   "id": "beautiful-finish",
   "metadata": {},
   "source": [
    "### 각 피쳐당 0값을 평균값으로 대체"
   ]
  },
  {
   "cell_type": "code",
   "execution_count": 13,
   "id": "frozen-surge",
   "metadata": {},
   "outputs": [],
   "source": [
    "zero_feature = [\"Insulin\",\"SkinThickness\",\"BloodPressure\",\"BMI\",\"Glucose\"]\n",
    "zero_mean = df[zero_feature].mean()\n",
    "df[zero_feature] = df[zero_feature].replace(0, zero_mean)"
   ]
  },
  {
   "cell_type": "code",
   "execution_count": 14,
   "id": "mental-thumb",
   "metadata": {},
   "outputs": [
    {
     "data": {
      "image/png": "[encoded data removed]",
      "text/plain": [
       "<Figure size 432x288 with 9 Axes>"
      ]
     },
     "metadata": {
      "needs_background": "light"
     },
     "output_type": "display_data"
    }
   ],
   "source": [
    "df.hist()\n",
    "plt.show()"
   ]
  },
  {
   "cell_type": "code",
   "execution_count": 15,
   "id": "utility-accommodation",
   "metadata": {},
   "outputs": [
    {
     "data": {
      "text/html": [
       "<div>\n",
       "<style scoped>\n",
       "    .dataframe tbody tr th:only-of-type {\n",
       "        vertical-align: middle;\n",
       "    }\n",
       "\n",
       "    .dataframe tbody tr th {\n",
       "        vertical-align: top;\n",
       "    }\n",
       "\n",
       "    .dataframe thead th {\n",
       "        text-align: right;\n",
       "    }\n",
       "</style>\n",
       "<table border=\"1\" class=\"dataframe\">\n",
       "  <thead>\n",
       "    <tr style=\"text-align: right;\">\n",
       "      <th></th>\n",
       "      <th>Pregnancies</th>\n",
       "      <th>Glucose</th>\n",
       "      <th>BloodPressure</th>\n",
       "      <th>SkinThickness</th>\n",
       "      <th>Insulin</th>\n",
       "      <th>BMI</th>\n",
       "      <th>DiabetesPedigreeFunction</th>\n",
       "      <th>Age</th>\n",
       "      <th>Outcome</th>\n",
       "    </tr>\n",
       "  </thead>\n",
       "  <tbody>\n",
       "    <tr>\n",
       "      <th>0</th>\n",
       "      <td>6</td>\n",
       "      <td>148.0</td>\n",
       "      <td>72.0</td>\n",
       "      <td>35.000000</td>\n",
       "      <td>79.799479</td>\n",
       "      <td>33.6</td>\n",
       "      <td>0.627</td>\n",
       "      <td>50</td>\n",
       "      <td>1</td>\n",
       "    </tr>\n",
       "    <tr>\n",
       "      <th>1</th>\n",
       "      <td>1</td>\n",
       "      <td>85.0</td>\n",
       "      <td>66.0</td>\n",
       "      <td>29.000000</td>\n",
       "      <td>79.799479</td>\n",
       "      <td>26.6</td>\n",
       "      <td>0.351</td>\n",
       "      <td>31</td>\n",
       "      <td>0</td>\n",
       "    </tr>\n",
       "    <tr>\n",
       "      <th>2</th>\n",
       "      <td>8</td>\n",
       "      <td>183.0</td>\n",
       "      <td>64.0</td>\n",
       "      <td>20.536458</td>\n",
       "      <td>79.799479</td>\n",
       "      <td>23.3</td>\n",
       "      <td>0.672</td>\n",
       "      <td>32</td>\n",
       "      <td>1</td>\n",
       "    </tr>\n",
       "    <tr>\n",
       "      <th>3</th>\n",
       "      <td>1</td>\n",
       "      <td>89.0</td>\n",
       "      <td>66.0</td>\n",
       "      <td>23.000000</td>\n",
       "      <td>94.000000</td>\n",
       "      <td>28.1</td>\n",
       "      <td>0.167</td>\n",
       "      <td>21</td>\n",
       "      <td>0</td>\n",
       "    </tr>\n",
       "    <tr>\n",
       "      <th>4</th>\n",
       "      <td>0</td>\n",
       "      <td>137.0</td>\n",
       "      <td>40.0</td>\n",
       "      <td>35.000000</td>\n",
       "      <td>168.000000</td>\n",
       "      <td>43.1</td>\n",
       "      <td>2.288</td>\n",
       "      <td>33</td>\n",
       "      <td>1</td>\n",
       "    </tr>\n",
       "  </tbody>\n",
       "</table>\n",
       "</div>"
      ],
      "text/plain": [
       "   Pregnancies  Glucose  BloodPressure  SkinThickness     Insulin   BMI  \\\n",
       "0            6    148.0           72.0      35.000000   79.799479  33.6   \n",
       "1            1     85.0           66.0      29.000000   79.799479  26.6   \n",
       "2            8    183.0           64.0      20.536458   79.799479  23.3   \n",
       "3            1     89.0           66.0      23.000000   94.000000  28.1   \n",
       "4            0    137.0           40.0      35.000000  168.000000  43.1   \n",
       "\n",
       "   DiabetesPedigreeFunction  Age  Outcome  \n",
       "0                     0.627   50        1  \n",
       "1                     0.351   31        0  \n",
       "2                     0.672   32        1  \n",
       "3                     0.167   21        0  \n",
       "4                     2.288   33        1  "
      ]
     },
     "execution_count": 15,
     "metadata": {},
     "output_type": "execute_result"
    }
   ],
   "source": [
    "df.head()  "
   ]
  },
  {
   "cell_type": "code",
   "execution_count": 16,
   "id": "warming-remark",
   "metadata": {},
   "outputs": [],
   "source": [
    "## 스케일링 : 정규화"
   ]
  },
  {
   "cell_type": "markdown",
   "id": "parental-norwegian",
   "metadata": {},
   "source": [
    "### 방법1) df_X.splite -->  train.fit_transform  --> test.transform"
   ]
  },
  {
   "cell_type": "code",
   "execution_count": 31,
   "id": "rising-amount",
   "metadata": {},
   "outputs": [
    {
     "name": "stdout",
     "output_type": "stream",
     "text": [
      "StandardScaler:  0.7468\n"
     ]
    }
   ],
   "source": [
    "from sklearn.preprocessing import StandardScaler, MinMaxScaler, RobustScaler\n",
    "std_scaler = StandardScaler()\n",
    "X_train, X_test, y_train, y_test = train_test_split(df_X, df_y, test_size=0.2, random_state=36,  shuffle=False)\n",
    "std_scaler = StandardScaler()\n",
    "X_train_scaler = std_scaler.fit_transform(X_train)  \n",
    "X_test_scaler  = std_scaler.transform(X_test)    #---------------------스케일링 1/10 적용\n",
    "\n",
    "rf.fit(X_train_scaler, y_train)\n",
    "pred = rf.predict(X_test_scaler)\n",
    "df_score = accuracy_score(pred ,  y_test)\n",
    "print(f'StandardScaler:  {df_score:.4f}')  # 0.766234"
   ]
  },
  {
   "cell_type": "markdown",
   "id": "fancy-radiation",
   "metadata": {},
   "source": [
    "### 방법2)  df_X.fit_transform --> train_test_split "
   ]
  },
  {
   "cell_type": "code",
   "execution_count": 18,
   "id": "consecutive-population",
   "metadata": {},
   "outputs": [
    {
     "name": "stdout",
     "output_type": "stream",
     "text": [
      "StandardScaler:  0.7403\n",
      "RobustScaler:  0.7532\n",
      "MinMaxScaler:  0.7532\n"
     ]
    }
   ],
   "source": [
    "std_scaler = StandardScaler()\n",
    "rbs_scaler = RobustScaler()\n",
    "mmx_scaler = MinMaxScaler()\n",
    "scaler_list = [(\"StandardScaler\",std_scaler), (\"RobustScaler\",rbs_scaler), (\"MinMaxScaler\",mmx_scaler)]\n",
    "\n",
    "for scaler in scaler_list:\n",
    "    df_X_scaler = scaler[1].fit_transform(df_X)   \n",
    "    X_train, X_test, y_train, y_test = train_test_split(df_X_scaler, df_y, test_size=0.2, random_state=36,  shuffle=False)\n",
    "    rf.fit(X_train, y_train)\n",
    "    pred = rf.predict(X_test)\n",
    "    df_score = accuracy_score(pred ,  y_test)\n",
    "    print(f'{scaler[0]:s}:  {df_score:.4f}')\n"
   ]
  },
  {
   "cell_type": "code",
   "execution_count": 38,
   "id": "functional-paint",
   "metadata": {},
   "outputs": [
    {
     "name": "stdout",
     "output_type": "stream",
     "text": [
      "Accuracy:0.759740  precision:0.545455, recall:0.714286, f1:0.618557\n"
     ]
    }
   ],
   "source": [
    "myfit(df_X_scaler, df_y, rf, imp=1) "
   ]
  },
  {
   "cell_type": "code",
   "execution_count": 19,
   "id": "brutal-hospital",
   "metadata": {},
   "outputs": [],
   "source": [
    "# myfit(train_X_scaler, train_y, rf, imp=1)"
   ]
  },
  {
   "cell_type": "code",
   "execution_count": 28,
   "id": "located-intro",
   "metadata": {},
   "outputs": [],
   "source": [
    "# plt.hist(df_X_scaler)"
   ]
  },
  {
   "cell_type": "code",
   "execution_count": null,
   "id": "grand-platform",
   "metadata": {},
   "outputs": [],
   "source": []
  },
  {
   "cell_type": "code",
   "execution_count": null,
   "id": "primary-customs",
   "metadata": {},
   "outputs": [],
   "source": []
  }
 ],
 "metadata": {
  "kernelspec": {
   "display_name": "Python 3",
   "language": "python",
   "name": "python3"
  },
  "language_info": {
   "codemirror_mode": {
    "name": "ipython",
    "version": 3
   },
   "file_extension": ".py",
   "mimetype": "text/x-python",
   "name": "python",
   "nbconvert_exporter": "python",
   "pygments_lexer": "ipython3",
   "version": "3.8.0"
  }
 },
 "nbformat": 4,
 "nbformat_minor": 5
}
