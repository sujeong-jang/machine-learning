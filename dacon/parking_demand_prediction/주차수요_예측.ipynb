{
  "nbformat": 4,
  "nbformat_minor": 0,
  "metadata": {
    "colab": {
      "name": "주차수요 예측.ipynb",
      "provenance": [],
      "collapsed_sections": []
    },
    "kernelspec": {
      "name": "python3",
      "display_name": "Python 3"
    },
    "language_info": {
      "name": "python"
    }
  },
  "cells": [
    {
      "cell_type": "markdown",
      "metadata": {
        "id": "6u8hfWV9lvtr"
      },
      "source": [
        "### 주차수요 예측 AI 경진대회\n",
        "\n",
        "🏠 유형별 임대주택 설계 시 단지 내 적정 🅿️ 주차 수요를 예측\n",
        "\n"
      ]
    },
    {
      "cell_type": "markdown",
      "metadata": {
        "id": "pMbs5WdvkRsQ"
      },
      "source": [
        "ref: https://dacon.io/competitions/official/235745/data"
      ]
    },
    {
      "cell_type": "code",
      "metadata": {
        "colab": {
          "base_uri": "https://localhost:8080/"
        },
        "id": "jXIjGkZak74C",
        "outputId": "b94e3521-08fa-4b93-8688-72f852afaef0"
      },
      "source": [
        "from google.colab import drive\n",
        "drive.mount('/content/drive')"
      ],
      "execution_count": 1,
      "outputs": [
        {
          "output_type": "stream",
          "text": [
            "Drive already mounted at /content/drive; to attempt to forcibly remount, call drive.mount(\"/content/drive\", force_remount=True).\n"
          ],
          "name": "stdout"
        }
      ]
    },
    {
      "cell_type": "code",
      "metadata": {
        "colab": {
          "base_uri": "https://localhost:8080/"
        },
        "id": "oMhKyvoN7PG8",
        "outputId": "473d6a71-2b4a-4c09-c900-2527b63d06b1"
      },
      "source": [
        "!sudo apt-get install -y fonts-nanum\n",
        "!sudo fc-cache -fv\n",
        "!rm ~/.cache/matplotlib -rf"
      ],
      "execution_count": 2,
      "outputs": [
        {
          "output_type": "stream",
          "text": [
            "Reading package lists... Done\n",
            "Building dependency tree       \n",
            "Reading state information... Done\n",
            "fonts-nanum is already the newest version (20170925-1).\n",
            "0 upgraded, 0 newly installed, 0 to remove and 39 not upgraded.\n",
            "/usr/share/fonts: caching, new cache contents: 0 fonts, 1 dirs\n",
            "/usr/share/fonts/truetype: caching, new cache contents: 0 fonts, 3 dirs\n",
            "/usr/share/fonts/truetype/humor-sans: caching, new cache contents: 1 fonts, 0 dirs\n",
            "/usr/share/fonts/truetype/liberation: caching, new cache contents: 16 fonts, 0 dirs\n",
            "/usr/share/fonts/truetype/nanum: caching, new cache contents: 10 fonts, 0 dirs\n",
            "/usr/local/share/fonts: caching, new cache contents: 0 fonts, 0 dirs\n",
            "/root/.local/share/fonts: skipping, no such directory\n",
            "/root/.fonts: skipping, no such directory\n",
            "/var/cache/fontconfig: cleaning cache directory\n",
            "/root/.cache/fontconfig: not cleaning non-existent cache directory\n",
            "/root/.fontconfig: not cleaning non-existent cache directory\n",
            "fc-cache: succeeded\n"
          ],
          "name": "stdout"
        }
      ]
    },
    {
      "cell_type": "code",
      "metadata": {
        "id": "748eQ0RTklWi"
      },
      "source": [
        "import os\n",
        "\n",
        "os.chdir('/content/drive/MyDrive/workspace/DACON/주차수요 예측')"
      ],
      "execution_count": 3,
      "outputs": []
    },
    {
      "cell_type": "code",
      "metadata": {
        "id": "btkuloU_6Z2w"
      },
      "source": [
        "import matplotlib.pyplot as plt\n",
        "\n",
        "plt.rc('font', family='NanumBarunGothic') "
      ],
      "execution_count": 4,
      "outputs": []
    },
    {
      "cell_type": "code",
      "metadata": {
        "id": "aOFUmQZ-lJdK"
      },
      "source": [
        "import pandas as pd\n",
        "import numpy as np\n",
        "import matplotlib.pyplot as plt\n",
        "import seaborn as sns\n",
        "from matplotlib import font_manager, rc\n",
        "%matplotlib inline\n",
        "\n",
        "import warnings\n",
        "warnings.filterwarnings(\"ignore\")"
      ],
      "execution_count": 5,
      "outputs": []
    },
    {
      "cell_type": "code",
      "metadata": {
        "id": "roN02sbuk8YZ"
      },
      "source": [
        "train = pd.read_csv('dataset/train.csv')\n",
        "test = pd.read_csv('dataset/test.csv')\n",
        "age_gender = pd.read_csv('dataset/age_gender_info.csv')"
      ],
      "execution_count": 6,
      "outputs": []
    },
    {
      "cell_type": "code",
      "metadata": {
        "colab": {
          "base_uri": "https://localhost:8080/"
        },
        "id": "U3GXhj1bla5o",
        "outputId": "e682fc32-25ab-4d3f-e063-693d0a46d374"
      },
      "source": [
        "train.shape, test.shape, age_gender.shape"
      ],
      "execution_count": 7,
      "outputs": [
        {
          "output_type": "execute_result",
          "data": {
            "text/plain": [
              "((2952, 15), (1022, 14), (16, 23))"
            ]
          },
          "metadata": {
            "tags": []
          },
          "execution_count": 7
        }
      ]
    },
    {
      "cell_type": "code",
      "metadata": {
        "colab": {
          "base_uri": "https://localhost:8080/",
          "height": 302
        },
        "id": "NPnYMUeIlfMh",
        "outputId": "ae3a7a6d-3f17-4379-9fba-9348bc38d352"
      },
      "source": [
        "train.head()"
      ],
      "execution_count": 8,
      "outputs": [
        {
          "output_type": "execute_result",
          "data": {
            "text/html": [
              "<div>\n",
              "<style scoped>\n",
              "    .dataframe tbody tr th:only-of-type {\n",
              "        vertical-align: middle;\n",
              "    }\n",
              "\n",
              "    .dataframe tbody tr th {\n",
              "        vertical-align: top;\n",
              "    }\n",
              "\n",
              "    .dataframe thead th {\n",
              "        text-align: right;\n",
              "    }\n",
              "</style>\n",
              "<table border=\"1\" class=\"dataframe\">\n",
              "  <thead>\n",
              "    <tr style=\"text-align: right;\">\n",
              "      <th></th>\n",
              "      <th>단지코드</th>\n",
              "      <th>총세대수</th>\n",
              "      <th>임대건물구분</th>\n",
              "      <th>지역</th>\n",
              "      <th>공급유형</th>\n",
              "      <th>전용면적</th>\n",
              "      <th>전용면적별세대수</th>\n",
              "      <th>공가수</th>\n",
              "      <th>자격유형</th>\n",
              "      <th>임대보증금</th>\n",
              "      <th>임대료</th>\n",
              "      <th>도보 10분거리 내 지하철역 수(환승노선 수 반영)</th>\n",
              "      <th>도보 10분거리 내 버스정류장 수</th>\n",
              "      <th>단지내주차면수</th>\n",
              "      <th>등록차량수</th>\n",
              "    </tr>\n",
              "  </thead>\n",
              "  <tbody>\n",
              "    <tr>\n",
              "      <th>0</th>\n",
              "      <td>C2483</td>\n",
              "      <td>900</td>\n",
              "      <td>아파트</td>\n",
              "      <td>경상북도</td>\n",
              "      <td>국민임대</td>\n",
              "      <td>39.72</td>\n",
              "      <td>134</td>\n",
              "      <td>38.0</td>\n",
              "      <td>A</td>\n",
              "      <td>15667000</td>\n",
              "      <td>103680</td>\n",
              "      <td>0.0</td>\n",
              "      <td>3.0</td>\n",
              "      <td>1425.0</td>\n",
              "      <td>1015.0</td>\n",
              "    </tr>\n",
              "    <tr>\n",
              "      <th>1</th>\n",
              "      <td>C2483</td>\n",
              "      <td>900</td>\n",
              "      <td>아파트</td>\n",
              "      <td>경상북도</td>\n",
              "      <td>국민임대</td>\n",
              "      <td>39.72</td>\n",
              "      <td>15</td>\n",
              "      <td>38.0</td>\n",
              "      <td>A</td>\n",
              "      <td>15667000</td>\n",
              "      <td>103680</td>\n",
              "      <td>0.0</td>\n",
              "      <td>3.0</td>\n",
              "      <td>1425.0</td>\n",
              "      <td>1015.0</td>\n",
              "    </tr>\n",
              "    <tr>\n",
              "      <th>2</th>\n",
              "      <td>C2483</td>\n",
              "      <td>900</td>\n",
              "      <td>아파트</td>\n",
              "      <td>경상북도</td>\n",
              "      <td>국민임대</td>\n",
              "      <td>51.93</td>\n",
              "      <td>385</td>\n",
              "      <td>38.0</td>\n",
              "      <td>A</td>\n",
              "      <td>27304000</td>\n",
              "      <td>184330</td>\n",
              "      <td>0.0</td>\n",
              "      <td>3.0</td>\n",
              "      <td>1425.0</td>\n",
              "      <td>1015.0</td>\n",
              "    </tr>\n",
              "    <tr>\n",
              "      <th>3</th>\n",
              "      <td>C2483</td>\n",
              "      <td>900</td>\n",
              "      <td>아파트</td>\n",
              "      <td>경상북도</td>\n",
              "      <td>국민임대</td>\n",
              "      <td>51.93</td>\n",
              "      <td>15</td>\n",
              "      <td>38.0</td>\n",
              "      <td>A</td>\n",
              "      <td>27304000</td>\n",
              "      <td>184330</td>\n",
              "      <td>0.0</td>\n",
              "      <td>3.0</td>\n",
              "      <td>1425.0</td>\n",
              "      <td>1015.0</td>\n",
              "    </tr>\n",
              "    <tr>\n",
              "      <th>4</th>\n",
              "      <td>C2483</td>\n",
              "      <td>900</td>\n",
              "      <td>아파트</td>\n",
              "      <td>경상북도</td>\n",
              "      <td>국민임대</td>\n",
              "      <td>51.93</td>\n",
              "      <td>41</td>\n",
              "      <td>38.0</td>\n",
              "      <td>A</td>\n",
              "      <td>27304000</td>\n",
              "      <td>184330</td>\n",
              "      <td>0.0</td>\n",
              "      <td>3.0</td>\n",
              "      <td>1425.0</td>\n",
              "      <td>1015.0</td>\n",
              "    </tr>\n",
              "  </tbody>\n",
              "</table>\n",
              "</div>"
            ],
            "text/plain": [
              "    단지코드  총세대수 임대건물구분  ... 도보 10분거리 내 버스정류장 수 단지내주차면수   등록차량수\n",
              "0  C2483   900    아파트  ...                3.0  1425.0  1015.0\n",
              "1  C2483   900    아파트  ...                3.0  1425.0  1015.0\n",
              "2  C2483   900    아파트  ...                3.0  1425.0  1015.0\n",
              "3  C2483   900    아파트  ...                3.0  1425.0  1015.0\n",
              "4  C2483   900    아파트  ...                3.0  1425.0  1015.0\n",
              "\n",
              "[5 rows x 15 columns]"
            ]
          },
          "metadata": {
            "tags": []
          },
          "execution_count": 8
        }
      ]
    },
    {
      "cell_type": "code",
      "metadata": {
        "colab": {
          "base_uri": "https://localhost:8080/"
        },
        "id": "B7BU6UaN5yKj",
        "outputId": "57893b27-54ed-4b57-ebd9-991fb391bf15"
      },
      "source": [
        "train.info()"
      ],
      "execution_count": 9,
      "outputs": [
        {
          "output_type": "stream",
          "text": [
            "<class 'pandas.core.frame.DataFrame'>\n",
            "RangeIndex: 2952 entries, 0 to 2951\n",
            "Data columns (total 15 columns):\n",
            " #   Column                        Non-Null Count  Dtype  \n",
            "---  ------                        --------------  -----  \n",
            " 0   단지코드                          2952 non-null   object \n",
            " 1   총세대수                          2952 non-null   int64  \n",
            " 2   임대건물구분                        2952 non-null   object \n",
            " 3   지역                            2952 non-null   object \n",
            " 4   공급유형                          2952 non-null   object \n",
            " 5   전용면적                          2952 non-null   float64\n",
            " 6   전용면적별세대수                      2952 non-null   int64  \n",
            " 7   공가수                           2952 non-null   float64\n",
            " 8   자격유형                          2952 non-null   object \n",
            " 9   임대보증금                         2383 non-null   object \n",
            " 10  임대료                           2383 non-null   object \n",
            " 11  도보 10분거리 내 지하철역 수(환승노선 수 반영)  2741 non-null   float64\n",
            " 12  도보 10분거리 내 버스정류장 수            2948 non-null   float64\n",
            " 13  단지내주차면수                       2952 non-null   float64\n",
            " 14  등록차량수                         2952 non-null   float64\n",
            "dtypes: float64(6), int64(2), object(7)\n",
            "memory usage: 346.1+ KB\n"
          ],
          "name": "stdout"
        }
      ]
    },
    {
      "cell_type": "markdown",
      "metadata": {
        "id": "p8GOIv7E6mJr"
      },
      "source": [
        "## 전처리"
      ]
    },
    {
      "cell_type": "markdown",
      "metadata": {
        "id": "wCQzanexn-Vw"
      },
      "source": [
        "### 결측치 확인"
      ]
    },
    {
      "cell_type": "code",
      "metadata": {
        "colab": {
          "base_uri": "https://localhost:8080/"
        },
        "id": "C5bu6gBylhzH",
        "outputId": "02afa522-e1ad-4b3d-ccd1-c0ae8a4b4f81"
      },
      "source": [
        "train.isna().sum()"
      ],
      "execution_count": 10,
      "outputs": [
        {
          "output_type": "execute_result",
          "data": {
            "text/plain": [
              "단지코드                              0\n",
              "총세대수                              0\n",
              "임대건물구분                            0\n",
              "지역                                0\n",
              "공급유형                              0\n",
              "전용면적                              0\n",
              "전용면적별세대수                          0\n",
              "공가수                               0\n",
              "자격유형                              0\n",
              "임대보증금                           569\n",
              "임대료                             569\n",
              "도보 10분거리 내 지하철역 수(환승노선 수 반영)    211\n",
              "도보 10분거리 내 버스정류장 수                4\n",
              "단지내주차면수                           0\n",
              "등록차량수                             0\n",
              "dtype: int64"
            ]
          },
          "metadata": {
            "tags": []
          },
          "execution_count": 10
        }
      ]
    },
    {
      "cell_type": "code",
      "metadata": {
        "colab": {
          "base_uri": "https://localhost:8080/"
        },
        "id": "-L0irmzDoYMR",
        "outputId": "395f5c71-d823-4926-f299-1afee8f277a7"
      },
      "source": [
        "train[train['임대보증금'].isna()]['자격유형'].unique()"
      ],
      "execution_count": 11,
      "outputs": [
        {
          "output_type": "execute_result",
          "data": {
            "text/plain": [
              "array(['D'], dtype=object)"
            ]
          },
          "metadata": {
            "tags": []
          },
          "execution_count": 11
        }
      ]
    },
    {
      "cell_type": "code",
      "metadata": {
        "colab": {
          "base_uri": "https://localhost:8080/"
        },
        "id": "u0QJzrs83lKk",
        "outputId": "15cae774-2bb6-4275-a2ff-2ef3ec76a3e1"
      },
      "source": [
        "train[train['자격유형'] == 'D'].count()"
      ],
      "execution_count": 12,
      "outputs": [
        {
          "output_type": "execute_result",
          "data": {
            "text/plain": [
              "단지코드                            569\n",
              "총세대수                            569\n",
              "임대건물구분                          569\n",
              "지역                              569\n",
              "공급유형                            569\n",
              "전용면적                            569\n",
              "전용면적별세대수                        569\n",
              "공가수                             569\n",
              "자격유형                            569\n",
              "임대보증금                             0\n",
              "임대료                               0\n",
              "도보 10분거리 내 지하철역 수(환승노선 수 반영)    435\n",
              "도보 10분거리 내 버스정류장 수              569\n",
              "단지내주차면수                         569\n",
              "등록차량수                           569\n",
              "dtype: int64"
            ]
          },
          "metadata": {
            "tags": []
          },
          "execution_count": 12
        }
      ]
    },
    {
      "cell_type": "markdown",
      "metadata": {
        "id": "0HDu6YtE3cvy"
      },
      "source": [
        "D유형은 모두 임대보증금과 임대료가 null값"
      ]
    },
    {
      "cell_type": "code",
      "metadata": {
        "id": "ZOtngiHAott1"
      },
      "source": [
        "train.fillna(0, inplace=True)"
      ],
      "execution_count": 13,
      "outputs": []
    },
    {
      "cell_type": "code",
      "metadata": {
        "colab": {
          "base_uri": "https://localhost:8080/"
        },
        "id": "QxHo77ZE4JtG",
        "outputId": "89fec21c-966f-4ee2-de63-3679075ca5dd"
      },
      "source": [
        "train.info()"
      ],
      "execution_count": 14,
      "outputs": [
        {
          "output_type": "stream",
          "text": [
            "<class 'pandas.core.frame.DataFrame'>\n",
            "RangeIndex: 2952 entries, 0 to 2951\n",
            "Data columns (total 15 columns):\n",
            " #   Column                        Non-Null Count  Dtype  \n",
            "---  ------                        --------------  -----  \n",
            " 0   단지코드                          2952 non-null   object \n",
            " 1   총세대수                          2952 non-null   int64  \n",
            " 2   임대건물구분                        2952 non-null   object \n",
            " 3   지역                            2952 non-null   object \n",
            " 4   공급유형                          2952 non-null   object \n",
            " 5   전용면적                          2952 non-null   float64\n",
            " 6   전용면적별세대수                      2952 non-null   int64  \n",
            " 7   공가수                           2952 non-null   float64\n",
            " 8   자격유형                          2952 non-null   object \n",
            " 9   임대보증금                         2952 non-null   object \n",
            " 10  임대료                           2952 non-null   object \n",
            " 11  도보 10분거리 내 지하철역 수(환승노선 수 반영)  2952 non-null   float64\n",
            " 12  도보 10분거리 내 버스정류장 수            2952 non-null   float64\n",
            " 13  단지내주차면수                       2952 non-null   float64\n",
            " 14  등록차량수                         2952 non-null   float64\n",
            "dtypes: float64(6), int64(2), object(7)\n",
            "memory usage: 346.1+ KB\n"
          ],
          "name": "stdout"
        }
      ]
    },
    {
      "cell_type": "code",
      "metadata": {
        "colab": {
          "base_uri": "https://localhost:8080/",
          "height": 1000
        },
        "id": "yi5POO264DOZ",
        "outputId": "bce66b34-a083-4fe3-bda3-4281bf9b615e"
      },
      "source": [
        "fig = plt.figure(figsize=(22, 22))\n",
        "\n",
        "numeric_cols = ['총세대수', '전용면적', '전용면적별세대수', '공가수', '단지내주차면수', '등록차량수']\n",
        "\n",
        "for i, n in enumerate(numeric_cols):\n",
        "    plt.subplot(3, 2, i+1)\n",
        "    plt.subplots_adjust(hspace=0.3)\n",
        "    sns.histplot(train[n])"
      ],
      "execution_count": 15,
      "outputs": [
        {
          "output_type": "display_data",
          "data": {
            "image/png": "[encoded data removed]",
            "text/plain": [
              "<Figure size 1584x1584 with 6 Axes>"
            ]
          },
          "metadata": {
            "tags": [],
            "needs_background": "light"
          }
        }
      ]
    },
    {
      "cell_type": "markdown",
      "metadata": {
        "id": "XmC0ruhMAHGj"
      },
      "source": [
        "### object 데이터 처리"
      ]
    },
    {
      "cell_type": "code",
      "metadata": {
        "id": "Cz0ckqPU2lac"
      },
      "source": [
        "def get_object_list():\n",
        "  object_list = []\n",
        "  train.columns\n",
        "\n",
        "  for col in train.columns:\n",
        "    if train[col].dtypes == 'object':\n",
        "      object_list.append(col)\n",
        "\n",
        "  return object_list"
      ],
      "execution_count": 16,
      "outputs": []
    },
    {
      "cell_type": "code",
      "metadata": {
        "colab": {
          "base_uri": "https://localhost:8080/"
        },
        "id": "0NrQRUqA0f7f",
        "outputId": "d866bbc0-769d-4892-973d-481bc05ec78e"
      },
      "source": [
        "get_object_list()"
      ],
      "execution_count": 17,
      "outputs": [
        {
          "output_type": "execute_result",
          "data": {
            "text/plain": [
              "['단지코드', '임대건물구분', '지역', '공급유형', '자격유형', '임대보증금', '임대료']"
            ]
          },
          "metadata": {
            "tags": []
          },
          "execution_count": 17
        }
      ]
    },
    {
      "cell_type": "code",
      "metadata": {
        "id": "fN9tFDRoFKYZ"
      },
      "source": [
        "train.drop('단지코드', inplace=True, axis=1)"
      ],
      "execution_count": 18,
      "outputs": []
    },
    {
      "cell_type": "code",
      "metadata": {
        "colab": {
          "base_uri": "https://localhost:8080/"
        },
        "id": "s6L7LUGOCvbb",
        "outputId": "53cc8773-44dc-446a-d147-13c34420d03f"
      },
      "source": [
        "train['임대건물구분'].unique()"
      ],
      "execution_count": 19,
      "outputs": [
        {
          "output_type": "execute_result",
          "data": {
            "text/plain": [
              "array(['아파트', '상가'], dtype=object)"
            ]
          },
          "metadata": {
            "tags": []
          },
          "execution_count": 19
        }
      ]
    },
    {
      "cell_type": "code",
      "metadata": {
        "id": "bo6qq9m5C29b"
      },
      "source": [
        "bilding_dic = {\"아파트\":0, \"상가\":1}\n",
        "train['임대건물구분'] = train['임대건물구분'].map(bilding_dic)"
      ],
      "execution_count": 20,
      "outputs": []
    },
    {
      "cell_type": "code",
      "metadata": {
        "colab": {
          "base_uri": "https://localhost:8080/"
        },
        "id": "ZzsaAuHPDLtl",
        "outputId": "920849dd-506d-476d-e6b2-3230bd9905ad"
      },
      "source": [
        "train['지역'].unique()"
      ],
      "execution_count": 21,
      "outputs": [
        {
          "output_type": "execute_result",
          "data": {
            "text/plain": [
              "array(['경상북도', '경상남도', '대전광역시', '경기도', '전라북도', '강원도', '광주광역시', '충청남도',\n",
              "       '부산광역시', '제주특별자치도', '울산광역시', '충청북도', '전라남도', '대구광역시', '서울특별시',\n",
              "       '세종특별자치시'], dtype=object)"
            ]
          },
          "metadata": {
            "tags": []
          },
          "execution_count": 21
        }
      ]
    },
    {
      "cell_type": "code",
      "metadata": {
        "id": "aVQDEeoFDRS0"
      },
      "source": [
        "train['지역']= pd.get_dummies(train['지역'])"
      ],
      "execution_count": 22,
      "outputs": []
    },
    {
      "cell_type": "code",
      "metadata": {
        "colab": {
          "base_uri": "https://localhost:8080/"
        },
        "id": "4OycbNWDDn1b",
        "outputId": "bb6819dc-b452-4caa-971f-0de41f3cf816"
      },
      "source": [
        "train['공급유형'].unique()"
      ],
      "execution_count": 23,
      "outputs": [
        {
          "output_type": "execute_result",
          "data": {
            "text/plain": [
              "array(['국민임대', '공공임대(50년)', '영구임대', '임대상가', '공공임대(10년)', '공공임대(분납)',\n",
              "       '장기전세', '공공분양', '행복주택', '공공임대(5년)'], dtype=object)"
            ]
          },
          "metadata": {
            "tags": []
          },
          "execution_count": 23
        }
      ]
    },
    {
      "cell_type": "code",
      "metadata": {
        "colab": {
          "base_uri": "https://localhost:8080/"
        },
        "id": "H7pTpXrFDs3J",
        "outputId": "f49d28dd-2cc6-46b5-a01b-dedd867604a7"
      },
      "source": [
        "train['자격유형'].unique()"
      ],
      "execution_count": 24,
      "outputs": [
        {
          "output_type": "execute_result",
          "data": {
            "text/plain": [
              "array(['A', 'B', 'C', 'D', 'E', 'F', 'G', 'H', 'I', 'J', 'K', 'L', 'M',\n",
              "       'N', 'O'], dtype=object)"
            ]
          },
          "metadata": {
            "tags": []
          },
          "execution_count": 24
        }
      ]
    },
    {
      "cell_type": "code",
      "metadata": {
        "colab": {
          "base_uri": "https://localhost:8080/",
          "height": 574
        },
        "id": "UTYhZ0pxD7K1",
        "outputId": "26051ff2-de66-44f3-8dee-495f2f76388d"
      },
      "source": [
        "train.groupby(train['자격유형']).mean()"
      ],
      "execution_count": 25,
      "outputs": [
        {
          "output_type": "execute_result",
          "data": {
            "text/html": [
              "<div>\n",
              "<style scoped>\n",
              "    .dataframe tbody tr th:only-of-type {\n",
              "        vertical-align: middle;\n",
              "    }\n",
              "\n",
              "    .dataframe tbody tr th {\n",
              "        vertical-align: top;\n",
              "    }\n",
              "\n",
              "    .dataframe thead th {\n",
              "        text-align: right;\n",
              "    }\n",
              "</style>\n",
              "<table border=\"1\" class=\"dataframe\">\n",
              "  <thead>\n",
              "    <tr style=\"text-align: right;\">\n",
              "      <th></th>\n",
              "      <th>총세대수</th>\n",
              "      <th>임대건물구분</th>\n",
              "      <th>지역</th>\n",
              "      <th>전용면적</th>\n",
              "      <th>전용면적별세대수</th>\n",
              "      <th>공가수</th>\n",
              "      <th>도보 10분거리 내 지하철역 수(환승노선 수 반영)</th>\n",
              "      <th>도보 10분거리 내 버스정류장 수</th>\n",
              "      <th>단지내주차면수</th>\n",
              "      <th>등록차량수</th>\n",
              "    </tr>\n",
              "    <tr>\n",
              "      <th>자격유형</th>\n",
              "      <th></th>\n",
              "      <th></th>\n",
              "      <th></th>\n",
              "      <th></th>\n",
              "      <th></th>\n",
              "      <th></th>\n",
              "      <th></th>\n",
              "      <th></th>\n",
              "      <th></th>\n",
              "      <th></th>\n",
              "    </tr>\n",
              "  </thead>\n",
              "  <tbody>\n",
              "    <tr>\n",
              "      <th>A</th>\n",
              "      <td>749.918379</td>\n",
              "      <td>0.000000</td>\n",
              "      <td>0.075514</td>\n",
              "      <td>48.220694</td>\n",
              "      <td>118.571904</td>\n",
              "      <td>12.961688</td>\n",
              "      <td>0.129373</td>\n",
              "      <td>3.698501</td>\n",
              "      <td>688.804553</td>\n",
              "      <td>682.542476</td>\n",
              "    </tr>\n",
              "    <tr>\n",
              "      <th>B</th>\n",
              "      <td>684.761905</td>\n",
              "      <td>0.000000</td>\n",
              "      <td>0.000000</td>\n",
              "      <td>44.213333</td>\n",
              "      <td>93.714286</td>\n",
              "      <td>14.095238</td>\n",
              "      <td>0.285714</td>\n",
              "      <td>2.047619</td>\n",
              "      <td>611.380952</td>\n",
              "      <td>561.190476</td>\n",
              "    </tr>\n",
              "    <tr>\n",
              "      <th>C</th>\n",
              "      <td>1075.757895</td>\n",
              "      <td>0.000000</td>\n",
              "      <td>0.094737</td>\n",
              "      <td>30.584421</td>\n",
              "      <td>307.610526</td>\n",
              "      <td>8.031579</td>\n",
              "      <td>0.284211</td>\n",
              "      <td>4.178947</td>\n",
              "      <td>251.221053</td>\n",
              "      <td>172.126316</td>\n",
              "    </tr>\n",
              "    <tr>\n",
              "      <th>D</th>\n",
              "      <td>1249.265378</td>\n",
              "      <td>0.987698</td>\n",
              "      <td>0.054482</td>\n",
              "      <td>45.805659</td>\n",
              "      <td>2.237258</td>\n",
              "      <td>7.460457</td>\n",
              "      <td>0.298770</td>\n",
              "      <td>3.669596</td>\n",
              "      <td>284.629174</td>\n",
              "      <td>184.924429</td>\n",
              "    </tr>\n",
              "    <tr>\n",
              "      <th>E</th>\n",
              "      <td>899.297297</td>\n",
              "      <td>0.000000</td>\n",
              "      <td>0.027027</td>\n",
              "      <td>44.800000</td>\n",
              "      <td>156.648649</td>\n",
              "      <td>27.081081</td>\n",
              "      <td>0.027027</td>\n",
              "      <td>5.972973</td>\n",
              "      <td>784.324324</td>\n",
              "      <td>666.135135</td>\n",
              "    </tr>\n",
              "    <tr>\n",
              "      <th>F</th>\n",
              "      <td>2428.000000</td>\n",
              "      <td>0.000000</td>\n",
              "      <td>0.000000</td>\n",
              "      <td>28.020000</td>\n",
              "      <td>715.333333</td>\n",
              "      <td>1.000000</td>\n",
              "      <td>0.000000</td>\n",
              "      <td>1.000000</td>\n",
              "      <td>756.000000</td>\n",
              "      <td>359.000000</td>\n",
              "    </tr>\n",
              "    <tr>\n",
              "      <th>G</th>\n",
              "      <td>1368.555556</td>\n",
              "      <td>0.000000</td>\n",
              "      <td>0.000000</td>\n",
              "      <td>34.081111</td>\n",
              "      <td>110.333333</td>\n",
              "      <td>14.333333</td>\n",
              "      <td>0.111111</td>\n",
              "      <td>2.888889</td>\n",
              "      <td>1208.444444</td>\n",
              "      <td>748.555556</td>\n",
              "    </tr>\n",
              "    <tr>\n",
              "      <th>H</th>\n",
              "      <td>1145.800000</td>\n",
              "      <td>0.000000</td>\n",
              "      <td>0.025806</td>\n",
              "      <td>39.483290</td>\n",
              "      <td>164.000000</td>\n",
              "      <td>16.503226</td>\n",
              "      <td>0.077419</td>\n",
              "      <td>3.819355</td>\n",
              "      <td>960.109677</td>\n",
              "      <td>914.141935</td>\n",
              "    </tr>\n",
              "    <tr>\n",
              "      <th>I</th>\n",
              "      <td>1083.306122</td>\n",
              "      <td>0.000000</td>\n",
              "      <td>0.020408</td>\n",
              "      <td>25.615306</td>\n",
              "      <td>88.000000</td>\n",
              "      <td>10.816327</td>\n",
              "      <td>0.326531</td>\n",
              "      <td>3.122449</td>\n",
              "      <td>804.469388</td>\n",
              "      <td>777.346939</td>\n",
              "    </tr>\n",
              "    <tr>\n",
              "      <th>J</th>\n",
              "      <td>657.131579</td>\n",
              "      <td>0.000000</td>\n",
              "      <td>0.008772</td>\n",
              "      <td>27.789474</td>\n",
              "      <td>91.438596</td>\n",
              "      <td>24.131579</td>\n",
              "      <td>0.105263</td>\n",
              "      <td>3.622807</td>\n",
              "      <td>439.877193</td>\n",
              "      <td>315.456140</td>\n",
              "    </tr>\n",
              "    <tr>\n",
              "      <th>K</th>\n",
              "      <td>720.151515</td>\n",
              "      <td>0.000000</td>\n",
              "      <td>0.121212</td>\n",
              "      <td>26.182121</td>\n",
              "      <td>91.242424</td>\n",
              "      <td>36.696970</td>\n",
              "      <td>0.000000</td>\n",
              "      <td>2.272727</td>\n",
              "      <td>489.787879</td>\n",
              "      <td>332.060606</td>\n",
              "    </tr>\n",
              "    <tr>\n",
              "      <th>L</th>\n",
              "      <td>468.242424</td>\n",
              "      <td>0.000000</td>\n",
              "      <td>0.000000</td>\n",
              "      <td>28.634545</td>\n",
              "      <td>49.878788</td>\n",
              "      <td>12.090909</td>\n",
              "      <td>0.181818</td>\n",
              "      <td>3.666667</td>\n",
              "      <td>320.636364</td>\n",
              "      <td>277.545455</td>\n",
              "    </tr>\n",
              "    <tr>\n",
              "      <th>M</th>\n",
              "      <td>902.000000</td>\n",
              "      <td>0.000000</td>\n",
              "      <td>0.000000</td>\n",
              "      <td>16.990000</td>\n",
              "      <td>118.000000</td>\n",
              "      <td>32.000000</td>\n",
              "      <td>0.000000</td>\n",
              "      <td>2.000000</td>\n",
              "      <td>635.000000</td>\n",
              "      <td>416.000000</td>\n",
              "    </tr>\n",
              "    <tr>\n",
              "      <th>N</th>\n",
              "      <td>1300.666667</td>\n",
              "      <td>0.000000</td>\n",
              "      <td>0.000000</td>\n",
              "      <td>30.041667</td>\n",
              "      <td>108.933333</td>\n",
              "      <td>27.200000</td>\n",
              "      <td>0.000000</td>\n",
              "      <td>3.200000</td>\n",
              "      <td>924.466667</td>\n",
              "      <td>674.933333</td>\n",
              "    </tr>\n",
              "    <tr>\n",
              "      <th>O</th>\n",
              "      <td>902.000000</td>\n",
              "      <td>0.000000</td>\n",
              "      <td>0.000000</td>\n",
              "      <td>44.780000</td>\n",
              "      <td>48.000000</td>\n",
              "      <td>32.000000</td>\n",
              "      <td>0.000000</td>\n",
              "      <td>2.000000</td>\n",
              "      <td>635.000000</td>\n",
              "      <td>416.000000</td>\n",
              "    </tr>\n",
              "  </tbody>\n",
              "</table>\n",
              "</div>"
            ],
            "text/plain": [
              "             총세대수    임대건물구분  ...      단지내주차면수       등록차량수\n",
              "자격유형                         ...                         \n",
              "A      749.918379  0.000000  ...   688.804553  682.542476\n",
              "B      684.761905  0.000000  ...   611.380952  561.190476\n",
              "C     1075.757895  0.000000  ...   251.221053  172.126316\n",
              "D     1249.265378  0.987698  ...   284.629174  184.924429\n",
              "E      899.297297  0.000000  ...   784.324324  666.135135\n",
              "F     2428.000000  0.000000  ...   756.000000  359.000000\n",
              "G     1368.555556  0.000000  ...  1208.444444  748.555556\n",
              "H     1145.800000  0.000000  ...   960.109677  914.141935\n",
              "I     1083.306122  0.000000  ...   804.469388  777.346939\n",
              "J      657.131579  0.000000  ...   439.877193  315.456140\n",
              "K      720.151515  0.000000  ...   489.787879  332.060606\n",
              "L      468.242424  0.000000  ...   320.636364  277.545455\n",
              "M      902.000000  0.000000  ...   635.000000  416.000000\n",
              "N     1300.666667  0.000000  ...   924.466667  674.933333\n",
              "O      902.000000  0.000000  ...   635.000000  416.000000\n",
              "\n",
              "[15 rows x 10 columns]"
            ]
          },
          "metadata": {
            "tags": []
          },
          "execution_count": 25
        }
      ]
    },
    {
      "cell_type": "code",
      "metadata": {
        "colab": {
          "base_uri": "https://localhost:8080/",
          "height": 1000
        },
        "id": "2qwOd4tjD_NX",
        "outputId": "d0c26d5b-9fad-4ab3-9705-1e1de29ba23b"
      },
      "source": [
        "train[train['임대료']=='-']"
      ],
      "execution_count": 26,
      "outputs": [
        {
          "output_type": "execute_result",
          "data": {
            "text/html": [
              "<div>\n",
              "<style scoped>\n",
              "    .dataframe tbody tr th:only-of-type {\n",
              "        vertical-align: middle;\n",
              "    }\n",
              "\n",
              "    .dataframe tbody tr th {\n",
              "        vertical-align: top;\n",
              "    }\n",
              "\n",
              "    .dataframe thead th {\n",
              "        text-align: right;\n",
              "    }\n",
              "</style>\n",
              "<table border=\"1\" class=\"dataframe\">\n",
              "  <thead>\n",
              "    <tr style=\"text-align: right;\">\n",
              "      <th></th>\n",
              "      <th>총세대수</th>\n",
              "      <th>임대건물구분</th>\n",
              "      <th>지역</th>\n",
              "      <th>공급유형</th>\n",
              "      <th>전용면적</th>\n",
              "      <th>전용면적별세대수</th>\n",
              "      <th>공가수</th>\n",
              "      <th>자격유형</th>\n",
              "      <th>임대보증금</th>\n",
              "      <th>임대료</th>\n",
              "      <th>도보 10분거리 내 지하철역 수(환승노선 수 반영)</th>\n",
              "      <th>도보 10분거리 내 버스정류장 수</th>\n",
              "      <th>단지내주차면수</th>\n",
              "      <th>등록차량수</th>\n",
              "    </tr>\n",
              "  </thead>\n",
              "  <tbody>\n",
              "    <tr>\n",
              "      <th>2043</th>\n",
              "      <td>370</td>\n",
              "      <td>0</td>\n",
              "      <td>0</td>\n",
              "      <td>장기전세</td>\n",
              "      <td>23.32</td>\n",
              "      <td>51</td>\n",
              "      <td>9.0</td>\n",
              "      <td>A</td>\n",
              "      <td>87444000</td>\n",
              "      <td>-</td>\n",
              "      <td>0.0</td>\n",
              "      <td>3.0</td>\n",
              "      <td>1590.0</td>\n",
              "      <td>1595.0</td>\n",
              "    </tr>\n",
              "    <tr>\n",
              "      <th>2044</th>\n",
              "      <td>370</td>\n",
              "      <td>0</td>\n",
              "      <td>0</td>\n",
              "      <td>장기전세</td>\n",
              "      <td>46.79</td>\n",
              "      <td>4</td>\n",
              "      <td>9.0</td>\n",
              "      <td>A</td>\n",
              "      <td>174888000</td>\n",
              "      <td>-</td>\n",
              "      <td>0.0</td>\n",
              "      <td>3.0</td>\n",
              "      <td>1590.0</td>\n",
              "      <td>1595.0</td>\n",
              "    </tr>\n",
              "    <tr>\n",
              "      <th>2045</th>\n",
              "      <td>370</td>\n",
              "      <td>0</td>\n",
              "      <td>0</td>\n",
              "      <td>장기전세</td>\n",
              "      <td>46.91</td>\n",
              "      <td>69</td>\n",
              "      <td>9.0</td>\n",
              "      <td>A</td>\n",
              "      <td>174888000</td>\n",
              "      <td>-</td>\n",
              "      <td>0.0</td>\n",
              "      <td>3.0</td>\n",
              "      <td>1590.0</td>\n",
              "      <td>1595.0</td>\n",
              "    </tr>\n",
              "    <tr>\n",
              "      <th>2046</th>\n",
              "      <td>370</td>\n",
              "      <td>0</td>\n",
              "      <td>0</td>\n",
              "      <td>장기전세</td>\n",
              "      <td>51.96</td>\n",
              "      <td>24</td>\n",
              "      <td>9.0</td>\n",
              "      <td>A</td>\n",
              "      <td>194562000</td>\n",
              "      <td>-</td>\n",
              "      <td>0.0</td>\n",
              "      <td>3.0</td>\n",
              "      <td>1590.0</td>\n",
              "      <td>1595.0</td>\n",
              "    </tr>\n",
              "    <tr>\n",
              "      <th>2047</th>\n",
              "      <td>370</td>\n",
              "      <td>0</td>\n",
              "      <td>0</td>\n",
              "      <td>장기전세</td>\n",
              "      <td>51.99</td>\n",
              "      <td>80</td>\n",
              "      <td>9.0</td>\n",
              "      <td>A</td>\n",
              "      <td>194562000</td>\n",
              "      <td>-</td>\n",
              "      <td>0.0</td>\n",
              "      <td>3.0</td>\n",
              "      <td>1590.0</td>\n",
              "      <td>1595.0</td>\n",
              "    </tr>\n",
              "    <tr>\n",
              "      <th>2048</th>\n",
              "      <td>370</td>\n",
              "      <td>0</td>\n",
              "      <td>0</td>\n",
              "      <td>장기전세</td>\n",
              "      <td>59.93</td>\n",
              "      <td>142</td>\n",
              "      <td>9.0</td>\n",
              "      <td>A</td>\n",
              "      <td>216423000</td>\n",
              "      <td>-</td>\n",
              "      <td>0.0</td>\n",
              "      <td>3.0</td>\n",
              "      <td>1590.0</td>\n",
              "      <td>1595.0</td>\n",
              "    </tr>\n",
              "    <tr>\n",
              "      <th>2100</th>\n",
              "      <td>790</td>\n",
              "      <td>0</td>\n",
              "      <td>0</td>\n",
              "      <td>장기전세</td>\n",
              "      <td>51.32</td>\n",
              "      <td>126</td>\n",
              "      <td>13.0</td>\n",
              "      <td>A</td>\n",
              "      <td>187694000</td>\n",
              "      <td>-</td>\n",
              "      <td>0.0</td>\n",
              "      <td>3.0</td>\n",
              "      <td>673.0</td>\n",
              "      <td>645.0</td>\n",
              "    </tr>\n",
              "    <tr>\n",
              "      <th>2101</th>\n",
              "      <td>790</td>\n",
              "      <td>0</td>\n",
              "      <td>0</td>\n",
              "      <td>장기전세</td>\n",
              "      <td>59.88</td>\n",
              "      <td>49</td>\n",
              "      <td>13.0</td>\n",
              "      <td>A</td>\n",
              "      <td>213863000</td>\n",
              "      <td>-</td>\n",
              "      <td>0.0</td>\n",
              "      <td>3.0</td>\n",
              "      <td>673.0</td>\n",
              "      <td>645.0</td>\n",
              "    </tr>\n",
              "    <tr>\n",
              "      <th>2102</th>\n",
              "      <td>790</td>\n",
              "      <td>0</td>\n",
              "      <td>0</td>\n",
              "      <td>장기전세</td>\n",
              "      <td>59.94</td>\n",
              "      <td>75</td>\n",
              "      <td>13.0</td>\n",
              "      <td>A</td>\n",
              "      <td>213863000</td>\n",
              "      <td>-</td>\n",
              "      <td>0.0</td>\n",
              "      <td>3.0</td>\n",
              "      <td>673.0</td>\n",
              "      <td>645.0</td>\n",
              "    </tr>\n",
              "    <tr>\n",
              "      <th>2547</th>\n",
              "      <td>1934</td>\n",
              "      <td>0</td>\n",
              "      <td>0</td>\n",
              "      <td>국민임대</td>\n",
              "      <td>24.72</td>\n",
              "      <td>472</td>\n",
              "      <td>43.0</td>\n",
              "      <td>H</td>\n",
              "      <td>-</td>\n",
              "      <td>-</td>\n",
              "      <td>0.0</td>\n",
              "      <td>4.0</td>\n",
              "      <td>1670.0</td>\n",
              "      <td>1153.0</td>\n",
              "    </tr>\n",
              "    <tr>\n",
              "      <th>2548</th>\n",
              "      <td>1934</td>\n",
              "      <td>0</td>\n",
              "      <td>0</td>\n",
              "      <td>국민임대</td>\n",
              "      <td>24.79</td>\n",
              "      <td>104</td>\n",
              "      <td>43.0</td>\n",
              "      <td>H</td>\n",
              "      <td>-</td>\n",
              "      <td>-</td>\n",
              "      <td>0.0</td>\n",
              "      <td>4.0</td>\n",
              "      <td>1670.0</td>\n",
              "      <td>1153.0</td>\n",
              "    </tr>\n",
              "    <tr>\n",
              "      <th>2549</th>\n",
              "      <td>1934</td>\n",
              "      <td>0</td>\n",
              "      <td>0</td>\n",
              "      <td>국민임대</td>\n",
              "      <td>26.83</td>\n",
              "      <td>590</td>\n",
              "      <td>43.0</td>\n",
              "      <td>H</td>\n",
              "      <td>-</td>\n",
              "      <td>-</td>\n",
              "      <td>0.0</td>\n",
              "      <td>4.0</td>\n",
              "      <td>1670.0</td>\n",
              "      <td>1153.0</td>\n",
              "    </tr>\n",
              "    <tr>\n",
              "      <th>2550</th>\n",
              "      <td>1934</td>\n",
              "      <td>0</td>\n",
              "      <td>0</td>\n",
              "      <td>국민임대</td>\n",
              "      <td>37.70</td>\n",
              "      <td>464</td>\n",
              "      <td>43.0</td>\n",
              "      <td>H</td>\n",
              "      <td>-</td>\n",
              "      <td>-</td>\n",
              "      <td>0.0</td>\n",
              "      <td>4.0</td>\n",
              "      <td>1670.0</td>\n",
              "      <td>1153.0</td>\n",
              "    </tr>\n",
              "    <tr>\n",
              "      <th>2551</th>\n",
              "      <td>1934</td>\n",
              "      <td>0</td>\n",
              "      <td>0</td>\n",
              "      <td>국민임대</td>\n",
              "      <td>46.94</td>\n",
              "      <td>304</td>\n",
              "      <td>43.0</td>\n",
              "      <td>H</td>\n",
              "      <td>-</td>\n",
              "      <td>-</td>\n",
              "      <td>0.0</td>\n",
              "      <td>4.0</td>\n",
              "      <td>1670.0</td>\n",
              "      <td>1153.0</td>\n",
              "    </tr>\n",
              "    <tr>\n",
              "      <th>2680</th>\n",
              "      <td>480</td>\n",
              "      <td>0</td>\n",
              "      <td>1</td>\n",
              "      <td>행복주택</td>\n",
              "      <td>16.91</td>\n",
              "      <td>156</td>\n",
              "      <td>25.0</td>\n",
              "      <td>K</td>\n",
              "      <td>-</td>\n",
              "      <td>-</td>\n",
              "      <td>0.0</td>\n",
              "      <td>3.0</td>\n",
              "      <td>338.0</td>\n",
              "      <td>345.0</td>\n",
              "    </tr>\n",
              "    <tr>\n",
              "      <th>2681</th>\n",
              "      <td>480</td>\n",
              "      <td>0</td>\n",
              "      <td>1</td>\n",
              "      <td>행복주택</td>\n",
              "      <td>26.90</td>\n",
              "      <td>136</td>\n",
              "      <td>25.0</td>\n",
              "      <td>K</td>\n",
              "      <td>-</td>\n",
              "      <td>-</td>\n",
              "      <td>0.0</td>\n",
              "      <td>3.0</td>\n",
              "      <td>338.0</td>\n",
              "      <td>345.0</td>\n",
              "    </tr>\n",
              "    <tr>\n",
              "      <th>2682</th>\n",
              "      <td>480</td>\n",
              "      <td>0</td>\n",
              "      <td>1</td>\n",
              "      <td>행복주택</td>\n",
              "      <td>26.90</td>\n",
              "      <td>72</td>\n",
              "      <td>25.0</td>\n",
              "      <td>K</td>\n",
              "      <td>-</td>\n",
              "      <td>-</td>\n",
              "      <td>0.0</td>\n",
              "      <td>3.0</td>\n",
              "      <td>338.0</td>\n",
              "      <td>345.0</td>\n",
              "    </tr>\n",
              "    <tr>\n",
              "      <th>2683</th>\n",
              "      <td>480</td>\n",
              "      <td>0</td>\n",
              "      <td>1</td>\n",
              "      <td>행복주택</td>\n",
              "      <td>26.90</td>\n",
              "      <td>24</td>\n",
              "      <td>25.0</td>\n",
              "      <td>K</td>\n",
              "      <td>-</td>\n",
              "      <td>-</td>\n",
              "      <td>0.0</td>\n",
              "      <td>3.0</td>\n",
              "      <td>338.0</td>\n",
              "      <td>345.0</td>\n",
              "    </tr>\n",
              "    <tr>\n",
              "      <th>2906</th>\n",
              "      <td>924</td>\n",
              "      <td>0</td>\n",
              "      <td>0</td>\n",
              "      <td>국민임대</td>\n",
              "      <td>29.17</td>\n",
              "      <td>238</td>\n",
              "      <td>0.0</td>\n",
              "      <td>H</td>\n",
              "      <td>-</td>\n",
              "      <td>-</td>\n",
              "      <td>0.0</td>\n",
              "      <td>8.0</td>\n",
              "      <td>664.0</td>\n",
              "      <td>744.0</td>\n",
              "    </tr>\n",
              "    <tr>\n",
              "      <th>2907</th>\n",
              "      <td>924</td>\n",
              "      <td>0</td>\n",
              "      <td>0</td>\n",
              "      <td>국민임대</td>\n",
              "      <td>29.34</td>\n",
              "      <td>38</td>\n",
              "      <td>0.0</td>\n",
              "      <td>H</td>\n",
              "      <td>-</td>\n",
              "      <td>-</td>\n",
              "      <td>0.0</td>\n",
              "      <td>8.0</td>\n",
              "      <td>664.0</td>\n",
              "      <td>744.0</td>\n",
              "    </tr>\n",
              "    <tr>\n",
              "      <th>2908</th>\n",
              "      <td>924</td>\n",
              "      <td>0</td>\n",
              "      <td>0</td>\n",
              "      <td>국민임대</td>\n",
              "      <td>37.43</td>\n",
              "      <td>220</td>\n",
              "      <td>0.0</td>\n",
              "      <td>H</td>\n",
              "      <td>-</td>\n",
              "      <td>-</td>\n",
              "      <td>0.0</td>\n",
              "      <td>8.0</td>\n",
              "      <td>664.0</td>\n",
              "      <td>744.0</td>\n",
              "    </tr>\n",
              "  </tbody>\n",
              "</table>\n",
              "</div>"
            ],
            "text/plain": [
              "      총세대수  임대건물구분  지역  ... 도보 10분거리 내 버스정류장 수  단지내주차면수   등록차량수\n",
              "2043   370       0   0  ...                3.0   1590.0  1595.0\n",
              "2044   370       0   0  ...                3.0   1590.0  1595.0\n",
              "2045   370       0   0  ...                3.0   1590.0  1595.0\n",
              "2046   370       0   0  ...                3.0   1590.0  1595.0\n",
              "2047   370       0   0  ...                3.0   1590.0  1595.0\n",
              "2048   370       0   0  ...                3.0   1590.0  1595.0\n",
              "2100   790       0   0  ...                3.0    673.0   645.0\n",
              "2101   790       0   0  ...                3.0    673.0   645.0\n",
              "2102   790       0   0  ...                3.0    673.0   645.0\n",
              "2547  1934       0   0  ...                4.0   1670.0  1153.0\n",
              "2548  1934       0   0  ...                4.0   1670.0  1153.0\n",
              "2549  1934       0   0  ...                4.0   1670.0  1153.0\n",
              "2550  1934       0   0  ...                4.0   1670.0  1153.0\n",
              "2551  1934       0   0  ...                4.0   1670.0  1153.0\n",
              "2680   480       0   1  ...                3.0    338.0   345.0\n",
              "2681   480       0   1  ...                3.0    338.0   345.0\n",
              "2682   480       0   1  ...                3.0    338.0   345.0\n",
              "2683   480       0   1  ...                3.0    338.0   345.0\n",
              "2906   924       0   0  ...                8.0    664.0   744.0\n",
              "2907   924       0   0  ...                8.0    664.0   744.0\n",
              "2908   924       0   0  ...                8.0    664.0   744.0\n",
              "\n",
              "[21 rows x 14 columns]"
            ]
          },
          "metadata": {
            "tags": []
          },
          "execution_count": 26
        }
      ]
    },
    {
      "cell_type": "code",
      "metadata": {
        "id": "5SoPvJwHGD53"
      },
      "source": [
        "train['임대료'] = train['임대료'].replace('-', 0).astype('int')\n",
        "train['임대보증금'] = train['임대보증금'].replace('-', 0).astype('int')"
      ],
      "execution_count": 27,
      "outputs": []
    },
    {
      "cell_type": "code",
      "metadata": {
        "colab": {
          "base_uri": "https://localhost:8080/"
        },
        "id": "OJLR-CJr0Ilh",
        "outputId": "5c0eadf0-9521-4e01-c720-893cf0c64b02"
      },
      "source": [
        "train.info()"
      ],
      "execution_count": 28,
      "outputs": [
        {
          "output_type": "stream",
          "text": [
            "<class 'pandas.core.frame.DataFrame'>\n",
            "RangeIndex: 2952 entries, 0 to 2951\n",
            "Data columns (total 14 columns):\n",
            " #   Column                        Non-Null Count  Dtype  \n",
            "---  ------                        --------------  -----  \n",
            " 0   총세대수                          2952 non-null   int64  \n",
            " 1   임대건물구분                        2952 non-null   int64  \n",
            " 2   지역                            2952 non-null   uint8  \n",
            " 3   공급유형                          2952 non-null   object \n",
            " 4   전용면적                          2952 non-null   float64\n",
            " 5   전용면적별세대수                      2952 non-null   int64  \n",
            " 6   공가수                           2952 non-null   float64\n",
            " 7   자격유형                          2952 non-null   object \n",
            " 8   임대보증금                         2952 non-null   int64  \n",
            " 9   임대료                           2952 non-null   int64  \n",
            " 10  도보 10분거리 내 지하철역 수(환승노선 수 반영)  2952 non-null   float64\n",
            " 11  도보 10분거리 내 버스정류장 수            2952 non-null   float64\n",
            " 12  단지내주차면수                       2952 non-null   float64\n",
            " 13  등록차량수                         2952 non-null   float64\n",
            "dtypes: float64(6), int64(5), object(2), uint8(1)\n",
            "memory usage: 302.8+ KB\n"
          ],
          "name": "stdout"
        }
      ]
    },
    {
      "cell_type": "code",
      "metadata": {
        "colab": {
          "base_uri": "https://localhost:8080/"
        },
        "id": "-Vo8stA70O9D",
        "outputId": "e070b75b-2386-47a8-c3be-6c8d4b1d7abe"
      },
      "source": [
        "get_object_list()"
      ],
      "execution_count": 29,
      "outputs": [
        {
          "output_type": "execute_result",
          "data": {
            "text/plain": [
              "['공급유형', '자격유형']"
            ]
          },
          "metadata": {
            "tags": []
          },
          "execution_count": 29
        }
      ]
    },
    {
      "cell_type": "code",
      "metadata": {
        "colab": {
          "base_uri": "https://localhost:8080/"
        },
        "id": "VNJINXrp0jd2",
        "outputId": "7fe2ee27-b6f4-4b31-c457-2134f615097d"
      },
      "source": [
        "train['공급유형'].unique()"
      ],
      "execution_count": 30,
      "outputs": [
        {
          "output_type": "execute_result",
          "data": {
            "text/plain": [
              "array(['국민임대', '공공임대(50년)', '영구임대', '임대상가', '공공임대(10년)', '공공임대(분납)',\n",
              "       '장기전세', '공공분양', '행복주택', '공공임대(5년)'], dtype=object)"
            ]
          },
          "metadata": {
            "tags": []
          },
          "execution_count": 30
        }
      ]
    },
    {
      "cell_type": "code",
      "metadata": {
        "colab": {
          "base_uri": "https://localhost:8080/"
        },
        "id": "oVERfuca0sHs",
        "outputId": "3b730937-bd75-445e-ad9a-8916836da723"
      },
      "source": [
        "train['자격유형'].unique()"
      ],
      "execution_count": 31,
      "outputs": [
        {
          "output_type": "execute_result",
          "data": {
            "text/plain": [
              "array(['A', 'B', 'C', 'D', 'E', 'F', 'G', 'H', 'I', 'J', 'K', 'L', 'M',\n",
              "       'N', 'O'], dtype=object)"
            ]
          },
          "metadata": {
            "tags": []
          },
          "execution_count": 31
        }
      ]
    }
  ]
}