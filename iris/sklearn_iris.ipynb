{
 "cells": [
  {
   "cell_type": "code",
   "execution_count": 2,
   "id": "69e7b469",
   "metadata": {},
   "outputs": [],
   "source": [
    "from sklearn.datasets import load_iris\n",
    "import numpy as np\n",
    "import pandas as pd\n",
    "import matplotlib.pyplot as plt\n",
    "import seaborn as sns\n",
    "from sklearn.tree import DecisionTreeClassifier\n",
    "from sklearn.ensemble import RandomForestClassifier\n",
    "from sklearn.linear_model import LogisticRegression\n",
    "from sklearn.neighbors import KNeighborsClassifier\n",
    "from sklearn.model_selection import train_test_split\n",
    "from sklearn.metrics import accuracy_score,confusion_matrix,precision_score, recall_score, f1_score, roc_auc_score, roc_curve\n",
    "import warnings\n",
    "warnings.filterwarnings(action='ignore')"
   ]
  },
  {
   "cell_type": "code",
   "execution_count": 3,
   "id": "5c15b105",
   "metadata": {},
   "outputs": [
    {
     "name": "stdout",
     "output_type": "stream",
     "text": [
      "dict_keys(['data', 'target', 'frame', 'target_names', 'DESCR', 'feature_names', 'filename'])\n"
     ]
    }
   ],
   "source": [
    "dataset = load_iris()\n",
    "print(dataset.keys())\n",
    "# print(dataset.data[:5])\n",
    "# print(dataset.target)\n",
    "# print(dataset.target_names)  #['setosa' 'versicolor' 'virginica']\n",
    "# print(dataset.feature_names) #['sepal length (cm)', 'sepal width (cm)', 'petal length (cm)', 'petal width (cm)']\n",
    "# print(dataset.frame)\n"
   ]
  },
  {
   "cell_type": "code",
   "execution_count": 4,
   "id": "2d153ee6",
   "metadata": {},
   "outputs": [
    {
     "name": "stdout",
     "output_type": "stream",
     "text": [
      "<class 'pandas.core.frame.DataFrame'>\n",
      "RangeIndex: 150 entries, 0 to 149\n",
      "Data columns (total 5 columns):\n",
      " #   Column        Non-Null Count  Dtype  \n",
      "---  ------        --------------  -----  \n",
      " 0   sepal_length  150 non-null    float64\n",
      " 1   sepal_width   150 non-null    float64\n",
      " 2   petal_length  150 non-null    float64\n",
      " 3   petal_width   150 non-null    float64\n",
      " 4   target        150 non-null    int32  \n",
      "dtypes: float64(4), int32(1)\n",
      "memory usage: 5.4 KB\n",
      "None\n"
     ]
    }
   ],
   "source": [
    "# df_X = pd.DataFrame(data=dataset.data, columns=dataset.feature_names)\n",
    "cols = ['sepal_length', 'sepal_width', 'petal_length', 'petal_width']\n",
    "df = pd.DataFrame(data=dataset.data, columns=cols)\n",
    "df[\"target\"] = dataset.target\n",
    "print(df.info())"
   ]
  },
  {
   "cell_type": "code",
   "execution_count": 5,
   "id": "c63cff7d",
   "metadata": {},
   "outputs": [
    {
     "data": {
      "text/html": [
       "<div>\n",
       "<style scoped>\n",
       "    .dataframe tbody tr th:only-of-type {\n",
       "        vertical-align: middle;\n",
       "    }\n",
       "\n",
       "    .dataframe tbody tr th {\n",
       "        vertical-align: top;\n",
       "    }\n",
       "\n",
       "    .dataframe thead th {\n",
       "        text-align: right;\n",
       "    }\n",
       "</style>\n",
       "<table border=\"1\" class=\"dataframe\">\n",
       "  <thead>\n",
       "    <tr style=\"text-align: right;\">\n",
       "      <th></th>\n",
       "      <th>sepal_length</th>\n",
       "      <th>sepal_width</th>\n",
       "      <th>petal_length</th>\n",
       "      <th>petal_width</th>\n",
       "      <th>target</th>\n",
       "    </tr>\n",
       "  </thead>\n",
       "  <tbody>\n",
       "    <tr>\n",
       "      <th>0</th>\n",
       "      <td>5.1</td>\n",
       "      <td>3.5</td>\n",
       "      <td>1.4</td>\n",
       "      <td>0.2</td>\n",
       "      <td>0</td>\n",
       "    </tr>\n",
       "    <tr>\n",
       "      <th>1</th>\n",
       "      <td>4.9</td>\n",
       "      <td>3.0</td>\n",
       "      <td>1.4</td>\n",
       "      <td>0.2</td>\n",
       "      <td>0</td>\n",
       "    </tr>\n",
       "    <tr>\n",
       "      <th>2</th>\n",
       "      <td>4.7</td>\n",
       "      <td>3.2</td>\n",
       "      <td>1.3</td>\n",
       "      <td>0.2</td>\n",
       "      <td>0</td>\n",
       "    </tr>\n",
       "    <tr>\n",
       "      <th>3</th>\n",
       "      <td>4.6</td>\n",
       "      <td>3.1</td>\n",
       "      <td>1.5</td>\n",
       "      <td>0.2</td>\n",
       "      <td>0</td>\n",
       "    </tr>\n",
       "    <tr>\n",
       "      <th>4</th>\n",
       "      <td>5.0</td>\n",
       "      <td>3.6</td>\n",
       "      <td>1.4</td>\n",
       "      <td>0.2</td>\n",
       "      <td>0</td>\n",
       "    </tr>\n",
       "  </tbody>\n",
       "</table>\n",
       "</div>"
      ],
      "text/plain": [
       "   sepal_length  sepal_width  petal_length  petal_width  target\n",
       "0           5.1          3.5           1.4          0.2       0\n",
       "1           4.9          3.0           1.4          0.2       0\n",
       "2           4.7          3.2           1.3          0.2       0\n",
       "3           4.6          3.1           1.5          0.2       0\n",
       "4           5.0          3.6           1.4          0.2       0"
      ]
     },
     "execution_count": 5,
     "metadata": {},
     "output_type": "execute_result"
    }
   ],
   "source": [
    "df.head()"
   ]
  },
  {
   "cell_type": "code",
   "execution_count": 6,
   "id": "da51f69b",
   "metadata": {},
   "outputs": [],
   "source": [
    "# import pandas_profiling as pp\n",
    "# pr_report=df.profile_report()\n",
    "# df.profile_report()"
   ]
  },
  {
   "cell_type": "code",
   "execution_count": 7,
   "id": "4a72cffe",
   "metadata": {},
   "outputs": [
    {
     "name": "stdout",
     "output_type": "stream",
     "text": [
      "150 (150, 4)\n",
      "(120, 4) (30, 4) 120 30\n"
     ]
    }
   ],
   "source": [
    "df_y = df.iloc[:,-1]  #df[\"traget\"]  \n",
    "df_X = df.iloc[:,:-1]\n",
    "print(len(df_y), df_X.shape)\n",
    "X_train, X_test, y_train, y_test = train_test_split(df_X, df_y, test_size=0.2, random_state=243, shuffle=True)\n",
    "print(X_train.shape, X_test.shape, len(y_train), len(y_test))"
   ]
  },
  {
   "cell_type": "code",
   "execution_count": 8,
   "id": "aa1bc458",
   "metadata": {},
   "outputs": [
    {
     "data": {
      "text/plain": [
       "array([0, 1, 2])"
      ]
     },
     "execution_count": 8,
     "metadata": {},
     "output_type": "execute_result"
    }
   ],
   "source": [
    "y_test.unique()"
   ]
  },
  {
   "cell_type": "markdown",
   "id": "62e5f20a",
   "metadata": {},
   "source": [
    "* 다중분류용"
   ]
  },
  {
   "cell_type": "code",
   "execution_count": 9,
   "id": "7cf1f26e",
   "metadata": {},
   "outputs": [],
   "source": [
    "def myscore(y_test,pred,proba, pr_curve=0, auc_curve=0):\n",
    "    accuracy = accuracy_score(y_test,pred)\n",
    "    precision = precision_score(y_test,pred, average='macro')\n",
    "    recall = recall_score(y_test,pred, average='macro')\n",
    "    f1 = f1_score(y_test,pred, average='macro')\n",
    "    auc = roc_auc_score(y_test, proba,  average=\"macro\", multi_class=\"ovr\")\n",
    "    print(\"Accuracy:{:.6f}  precision:{:.6f}, recall:{:.6f}, f1:{:.6f}, auc:{:.6f}\".format(accuracy, precision, recall, f1, auc))\n",
    "    mtx = confusion_matrix(y_test, pred)\n",
    "    print(mtx)"
   ]
  },
  {
   "cell_type": "code",
   "execution_count": 10,
   "id": "af0ce151",
   "metadata": {},
   "outputs": [],
   "source": [
    "from sklearn.tree import DecisionTreeClassifier"
   ]
  },
  {
   "cell_type": "code",
   "execution_count": 11,
   "id": "1f4dd25e",
   "metadata": {},
   "outputs": [
    {
     "name": "stdout",
     "output_type": "stream",
     "text": [
      "Accuracy:0.966667  precision:0.952381, recall:0.972222, f1:0.959866, auc:0.979167\n",
      "[[12  0  0]\n",
      " [ 0  6  0]\n",
      " [ 0  1 11]]\n"
     ]
    }
   ],
   "source": [
    "dt = DecisionTreeClassifier()\n",
    "dt.fit(X_train, y_train)\n",
    "pred = dt.predict(X_test)\n",
    "proba = dt.predict_proba(X_test)\n",
    "# print(pred[:5])\n",
    "# print(proba[:5])\n",
    "myscore(y_test,pred,proba)"
   ]
  },
  {
   "cell_type": "code",
   "execution_count": 12,
   "id": "820fe3ba",
   "metadata": {},
   "outputs": [
    {
     "name": "stdout",
     "output_type": "stream",
     "text": [
      "              precision    recall  f1-score   support\n",
      "\n",
      "           0       1.00      1.00      1.00        12\n",
      "           1       0.86      1.00      0.92         6\n",
      "           2       1.00      0.92      0.96        12\n",
      "\n",
      "    accuracy                           0.97        30\n",
      "   macro avg       0.95      0.97      0.96        30\n",
      "weighted avg       0.97      0.97      0.97        30\n",
      "\n"
     ]
    }
   ],
   "source": [
    "from sklearn.metrics import classification_report\n",
    "report = classification_report(y_test, pred)\n",
    "print(report)"
   ]
  },
  {
   "cell_type": "code",
   "execution_count": 13,
   "id": "1f272b7c",
   "metadata": {},
   "outputs": [
    {
     "data": {
      "image/png": "[encoded data removed]",
      "text/plain": [
       "<Figure size 144x144 with 2 Axes>"
      ]
     },
     "metadata": {
      "needs_background": "light"
     },
     "output_type": "display_data"
    }
   ],
   "source": [
    "from sklearn.metrics import plot_confusion_matrix\n",
    "fig, ax = plt.subplots(figsize=(2, 2))\n",
    "plot_confusion_matrix(dt, X_test, y_test, cmap=\"Blues\",ax=ax)  \n",
    "plt.show() "
   ]
  },
  {
   "cell_type": "code",
   "execution_count": 14,
   "id": "1982b658",
   "metadata": {},
   "outputs": [
    {
     "data": {
      "image/png": "[encoded data removed]",
      "text/plain": [
       "<Figure size 144x144 with 2 Axes>"
      ]
     },
     "metadata": {
      "needs_background": "light"
     },
     "output_type": "display_data"
    }
   ],
   "source": [
    "from sklearn.metrics import confusion_matrix, ConfusionMatrixDisplay\n",
    "cm = confusion_matrix(y_test, pred, labels=dt.classes_)\n",
    "fig, ax = plt.subplots(figsize=(2, 2))\n",
    "ConfusionMatrixDisplay(confusion_matrix=cm).plot(cmap=\"Blues\",ax=ax) \n",
    "plt.show()"
   ]
  },
  {
   "cell_type": "code",
   "execution_count": 15,
   "id": "b0eb2d3e",
   "metadata": {},
   "outputs": [
    {
     "data": {
      "text/plain": [
       "array([0, 0, 1, 0, 1, 2, 0, 1, 0, 0, 1, 2, 0, 1, 0, 2, 2, 2, 2, 2, 0, 2,\n",
       "       2, 1, 2, 0, 0, 1, 2, 0])"
      ]
     },
     "execution_count": 15,
     "metadata": {},
     "output_type": "execute_result"
    }
   ],
   "source": [
    "pred"
   ]
  },
  {
   "cell_type": "code",
   "execution_count": 16,
   "id": "31ecc3b1",
   "metadata": {},
   "outputs": [
    {
     "data": {
      "text/plain": [
       "array([0, 0, 1, 0, 1, 2, 0, 1, 0, 0, 1, 2, 0, 1, 0, 2, 2, 2, 2, 2, 0, 2,\n",
       "       2, 2, 2, 0, 0, 1, 2, 0])"
      ]
     },
     "execution_count": 16,
     "metadata": {},
     "output_type": "execute_result"
    }
   ],
   "source": [
    "np.array(y_test).flatten()"
   ]
  },
  {
   "cell_type": "code",
   "execution_count": 17,
   "id": "4463411d",
   "metadata": {},
   "outputs": [
    {
     "name": "stdout",
     "output_type": "stream",
     "text": [
      "[23]\n"
     ]
    }
   ],
   "source": [
    "a = pred\n",
    "b = np.array(y_test).flatten()\n",
    "diff = [idx for idx, (i, j) in enumerate(zip(a, b)) if i != j]\n",
    "print(diff) "
   ]
  },
  {
   "cell_type": "code",
   "execution_count": 18,
   "id": "18b9ba52",
   "metadata": {},
   "outputs": [
    {
     "data": {
      "text/plain": [
       "sepal_length    6.5\n",
       "sepal_width     3.0\n",
       "petal_length    5.2\n",
       "petal_width     2.0\n",
       "Name: 147, dtype: float64"
      ]
     },
     "execution_count": 18,
     "metadata": {},
     "output_type": "execute_result"
    }
   ],
   "source": [
    "X_test.iloc[17]"
   ]
  },
  {
   "cell_type": "code",
   "execution_count": 19,
   "id": "b4aac05b",
   "metadata": {},
   "outputs": [
    {
     "name": "stdout",
     "output_type": "stream",
     "text": [
      "(30, 5)\n"
     ]
    },
    {
     "data": {
      "image/png": "[encoded data removed]",
      "text/plain": [
       "<Figure size 765.725x720 with 20 Axes>"
      ]
     },
     "metadata": {},
     "output_type": "display_data"
    }
   ],
   "source": [
    "temp_test_df = X_test.copy()\n",
    "temp_test_df[\"target\"] = y_test\n",
    "print(temp_test_df.shape)\n",
    "\n",
    "import seaborn as sns\n",
    "sns.set_theme(style=\"ticks\")\n",
    "sns.pairplot(temp_test_df, hue=\"target\")\n",
    "plt.show()"
   ]
  },
  {
   "cell_type": "code",
   "execution_count": 20,
   "id": "90515e23",
   "metadata": {},
   "outputs": [
    {
     "name": "stdout",
     "output_type": "stream",
     "text": [
      "Index(['sepal_length', 'sepal_width', 'petal_length', 'petal_width', 'target'], dtype='object')\n"
     ]
    },
    {
     "data": {
      "image/png": "[encoded data removed]",
      "text/plain": [
       "<Figure size 432x288 with 2 Axes>"
      ]
     },
     "metadata": {},
     "output_type": "display_data"
    }
   ],
   "source": [
    "#------------ 결측X, 수치형 : 분석데이터\n",
    "#분석 -------- 상관분석 : 피쳐관계\n",
    "#---------------------: 일반피쳐:다중공선 타켓피쳐:상관도\n",
    "print(df.columns)\n",
    "sns.heatmap(df.corr(), annot=True, cmap='Blues')\n",
    "plt.show()"
   ]
  },
  {
   "cell_type": "markdown",
   "id": "c4975ad2",
   "metadata": {},
   "source": [
    "## Pipeline = Scaler + PCA\n",
    "* 정규화후 사용 : 최대분산(수치,스케일에 민감)"
   ]
  },
  {
   "cell_type": "code",
   "execution_count": 21,
   "id": "c3c3cf32",
   "metadata": {},
   "outputs": [
    {
     "name": "stdout",
     "output_type": "stream",
     "text": [
      "(120, 4) (30, 4) 120 30\n"
     ]
    }
   ],
   "source": [
    "print(X_train.shape, X_test.shape, len(y_train), len(y_test))"
   ]
  },
  {
   "cell_type": "code",
   "execution_count": 22,
   "id": "338fb264",
   "metadata": {},
   "outputs": [
    {
     "name": "stdout",
     "output_type": "stream",
     "text": [
      "(150, 2)\n",
      "주성분(PC) 2개가 전체 데이터를 얼마나 설명할수 있는가?\n",
      " 0.9581320720000164 [0.72962445 0.22850762]\n"
     ]
    }
   ],
   "source": [
    "from sklearn.decomposition import PCA\n",
    "from sklearn.preprocessing import StandardScaler\n",
    "from sklearn.pipeline import make_pipeline\n",
    "\n",
    "std_scaler = StandardScaler()\n",
    "# X_train_scaler = std_scaler.fit_transform(X_train)  \n",
    "# X_test_scaler  = std_scaler.transform(X_test) \n",
    "\n",
    "pca = PCA(n_components=2)\n",
    "# res = pca.fit_transform(X_train_scaler)\n",
    "\n",
    "pipeline = make_pipeline(std_scaler, pca)\n",
    "pca_res = pipeline.fit_transform(df_X)\n",
    "print(pca_res.shape)\n",
    "print(\"주성분(PC) 2개가 전체 데이터를 얼마나 설명할수 있는가?\\n\", np.sum(pca.explained_variance_ratio_), pca.explained_variance_ratio_)\n"
   ]
  },
  {
   "cell_type": "code",
   "execution_count": 23,
   "id": "3a9dd03f",
   "metadata": {},
   "outputs": [
    {
     "data": {
      "text/html": [
       "<div>\n",
       "<style scoped>\n",
       "    .dataframe tbody tr th:only-of-type {\n",
       "        vertical-align: middle;\n",
       "    }\n",
       "\n",
       "    .dataframe tbody tr th {\n",
       "        vertical-align: top;\n",
       "    }\n",
       "\n",
       "    .dataframe thead th {\n",
       "        text-align: right;\n",
       "    }\n",
       "</style>\n",
       "<table border=\"1\" class=\"dataframe\">\n",
       "  <thead>\n",
       "    <tr style=\"text-align: right;\">\n",
       "      <th></th>\n",
       "      <th>pc1</th>\n",
       "      <th>pc2</th>\n",
       "      <th>target</th>\n",
       "    </tr>\n",
       "  </thead>\n",
       "  <tbody>\n",
       "    <tr>\n",
       "      <th>0</th>\n",
       "      <td>-2.264703</td>\n",
       "      <td>0.480027</td>\n",
       "      <td>0</td>\n",
       "    </tr>\n",
       "    <tr>\n",
       "      <th>1</th>\n",
       "      <td>-2.080961</td>\n",
       "      <td>-0.674134</td>\n",
       "      <td>0</td>\n",
       "    </tr>\n",
       "    <tr>\n",
       "      <th>2</th>\n",
       "      <td>-2.364229</td>\n",
       "      <td>-0.341908</td>\n",
       "      <td>0</td>\n",
       "    </tr>\n",
       "    <tr>\n",
       "      <th>3</th>\n",
       "      <td>-2.299384</td>\n",
       "      <td>-0.597395</td>\n",
       "      <td>0</td>\n",
       "    </tr>\n",
       "    <tr>\n",
       "      <th>4</th>\n",
       "      <td>-2.389842</td>\n",
       "      <td>0.646835</td>\n",
       "      <td>0</td>\n",
       "    </tr>\n",
       "  </tbody>\n",
       "</table>\n",
       "</div>"
      ],
      "text/plain": [
       "        pc1       pc2  target\n",
       "0 -2.264703  0.480027       0\n",
       "1 -2.080961 -0.674134       0\n",
       "2 -2.364229 -0.341908       0\n",
       "3 -2.299384 -0.597395       0\n",
       "4 -2.389842  0.646835       0"
      ]
     },
     "execution_count": 23,
     "metadata": {},
     "output_type": "execute_result"
    }
   ],
   "source": [
    "pca_df = pd.DataFrame(data=pca_res, columns=[\"pc1\", \"pc2\"])\n",
    "pca_df[\"target\"] = df_y\n",
    "pca_df.head()"
   ]
  },
  {
   "cell_type": "code",
   "execution_count": 24,
   "id": "34b2c08c",
   "metadata": {},
   "outputs": [
    {
     "name": "stdout",
     "output_type": "stream",
     "text": [
      "<class 'pandas.core.frame.DataFrame'>\n",
      "RangeIndex: 150 entries, 0 to 149\n",
      "Data columns (total 3 columns):\n",
      " #   Column  Non-Null Count  Dtype  \n",
      "---  ------  --------------  -----  \n",
      " 0   pc1     150 non-null    float64\n",
      " 1   pc2     150 non-null    float64\n",
      " 2   target  150 non-null    int32  \n",
      "dtypes: float64(2), int32(1)\n",
      "memory usage: 3.1 KB\n"
     ]
    }
   ],
   "source": [
    "pca_df.info()"
   ]
  },
  {
   "cell_type": "code",
   "execution_count": 25,
   "id": "aaba4da8",
   "metadata": {},
   "outputs": [
    {
     "name": "stdout",
     "output_type": "stream",
     "text": [
      "Accuracy:0.933333  precision:0.948718, recall:0.939394, f1:0.938889, auc:0.952153\n",
      "[[ 8  0  0]\n",
      " [ 0  9  2]\n",
      " [ 0  0 11]]\n"
     ]
    }
   ],
   "source": [
    "pca_df_y = pca_df.iloc[:,-1]  #df[\"traget\"]  \n",
    "pca_df_X = pca_df.iloc[:,:-1]\n",
    "X_train_pca, X_test_pca, y_train_pca, y_test_pca = train_test_split(pca_df_X, pca_df_y, test_size=0.2,  random_state=36, shuffle=True)\n",
    "dt = DecisionTreeClassifier(random_state=36)\n",
    "dt.fit(X_train_pca, y_train_pca)\n",
    "pred = dt.predict(X_test_pca)\n",
    "proba = dt.predict_proba(X_test_pca)\n",
    "# print(pred[:5])\n",
    "# print(proba[:5])\n",
    "myscore(y_test_pca,pred,proba)"
   ]
  },
  {
   "cell_type": "markdown",
   "id": "270af9cd",
   "metadata": {},
   "source": [
    "## KFold"
   ]
  },
  {
   "cell_type": "code",
   "execution_count": 28,
   "id": "27217bfa",
   "metadata": {},
   "outputs": [
    {
     "name": "stdout",
     "output_type": "stream",
     "text": [
      "TRAIN: 120 TEST: 30\n",
      "0    42\n",
      "1    39\n",
      "2    39\n",
      "Name: target, dtype: int64\n",
      "F1 : 0.969634\n",
      "------------------------------\n",
      "TRAIN: 120 TEST: 30\n",
      "2    43\n",
      "0    39\n",
      "1    38\n",
      "Name: target, dtype: int64\n",
      "F1 : 1.000000\n",
      "------------------------------\n",
      "TRAIN: 120 TEST: 30\n",
      "0    41\n",
      "1    40\n",
      "2    39\n",
      "Name: target, dtype: int64\n",
      "F1 : 0.968254\n",
      "------------------------------\n",
      "TRAIN: 120 TEST: 30\n",
      "1    43\n",
      "2    39\n",
      "0    38\n",
      "Name: target, dtype: int64\n",
      "F1 : 0.922078\n",
      "------------------------------\n",
      "TRAIN: 120 TEST: 30\n",
      "0    40\n",
      "1    40\n",
      "2    40\n",
      "Name: target, dtype: int64\n",
      "F1 : 0.966583\n",
      "------------------------------\n",
      "5회 평균 F1:0.9653\n"
     ]
    }
   ],
   "source": [
    "from sklearn.model_selection import KFold\n",
    "from sklearn.model_selection import StratifiedKFold\n",
    "\n",
    "\n",
    "N_SPLIT = 5\n",
    "# kfold = KFold(n_splits=N_SPLIT,  shuffle=False)\n",
    "kfold = KFold(n_splits=N_SPLIT,  shuffle=True, random_state=36)\n",
    "scores = []\n",
    "for train_index, test_index in kfold.split(df):  #-----------KFold \n",
    "    print(\"TRAIN:\", len(train_index) , \"TEST:\", len(test_index))\n",
    "    X_train, X_test = df.iloc[train_index,:-1], df.iloc[test_index,:-1]\n",
    "    y_train, y_test = df.iloc[train_index,-1], df.iloc[test_index,-1]\n",
    "    print(y_train.value_counts())\n",
    "    \n",
    "    dt.fit(X_train, y_train)\n",
    "    pred = dt.predict(X_test)\n",
    "    df_score = f1_score(y_test,pred, average='macro')\n",
    "    scores.append(df_score)\n",
    "    print(\"F1 : {:.6f}\".format(df_score))\n",
    "    print(\"-\"*30)\n",
    "print(\"{:d}회 평균 F1:{:.4f}\".format(N_SPLIT, np.array(scores).mean()))   #F1:0.9633"
   ]
  },
  {
   "cell_type": "markdown",
   "id": "7a488db1",
   "metadata": {},
   "source": [
    "## StratifiedKFold"
   ]
  },
  {
   "cell_type": "code",
   "execution_count": 27,
   "id": "5437d4a9",
   "metadata": {},
   "outputs": [
    {
     "name": "stdout",
     "output_type": "stream",
     "text": [
      "TRAIN: 120 TEST: 30\n",
      "0    40\n",
      "1    40\n",
      "2    40\n",
      "Name: target, dtype: int64\n",
      "F1 : 0.933333\n",
      "------------------------------\n",
      "TRAIN: 120 TEST: 30\n",
      "0    40\n",
      "1    40\n",
      "2    40\n",
      "Name: target, dtype: int64\n",
      "F1 : 0.899749\n",
      "------------------------------\n",
      "TRAIN: 120 TEST: 30\n",
      "0    40\n",
      "1    40\n",
      "2    40\n",
      "Name: target, dtype: int64\n",
      "F1 : 0.966583\n",
      "------------------------------\n",
      "TRAIN: 120 TEST: 30\n",
      "0    40\n",
      "1    40\n",
      "2    40\n",
      "Name: target, dtype: int64\n",
      "F1 : 0.966583\n",
      "------------------------------\n",
      "TRAIN: 120 TEST: 30\n",
      "0    40\n",
      "1    40\n",
      "2    40\n",
      "Name: target, dtype: int64\n",
      "F1 : 1.000000\n",
      "------------------------------\n",
      "1.0\n",
      "5회 평균 F1:0.9532\n"
     ]
    }
   ],
   "source": [
    "from sklearn.model_selection import KFold\n",
    "from sklearn.model_selection import StratifiedKFold\n",
    "N_SPLIT = 5\n",
    "skfold = StratifiedKFold(n_splits=N_SPLIT,  shuffle=True, random_state=36)\n",
    "scores = []\n",
    "for train_index, test_index in skfold.split(df_X, df_y):  #-----------StratifiedKFold\n",
    "    print(\"TRAIN:\", len(train_index) , \"TEST:\", len(test_index))\n",
    "    X_train, X_test = df_X.iloc[train_index], df_X.iloc[test_index]\n",
    "    y_train, y_test = df_y.iloc[train_index], df_y.iloc[test_index]\n",
    "    print(y_train.value_counts())\n",
    "    dt.fit(X_train, y_train)\n",
    "    pred = dt.predict(X_test)\n",
    "    df_score = f1_score(y_test,pred, average='macro')\n",
    "    scores.append(df_score)\n",
    "    print(\"F1 : {:.6f}\".format(df_score))\n",
    "    print(\"-\"*30)\n",
    "print(df_score)\n",
    "print(\"{:d}회 평균 F1:{:.4f}\".format(N_SPLIT, np.array(scores).mean()))   #F1:0.9333"
   ]
  },
  {
   "cell_type": "markdown",
   "id": "1e46f6f1",
   "metadata": {},
   "source": [
    "## cross_val_score"
   ]
  },
  {
   "cell_type": "markdown",
   "id": "5f95d04d",
   "metadata": {},
   "source": [
    "* 내부적 cv(폴드)는 StratifiedKFold 전략을 따른다.(같은 점수를 낸다)\n",
    "* 각 폴드마다 taget의 값들이 편중되지않게 들어가게 한다"
   ]
  },
  {
   "cell_type": "code",
   "execution_count": 29,
   "id": "35b9000e",
   "metadata": {},
   "outputs": [
    {
     "name": "stdout",
     "output_type": "stream",
     "text": [
      "[0.93333333 0.89974937 0.96658312 0.96658312 1.        ]\n",
      "F1:평균점수: 0.9532497911445279\n"
     ]
    }
   ],
   "source": [
    "from sklearn.model_selection import cross_val_score\n",
    "score_list = cross_val_score(dt, df_X, df_y, cv=skfold, scoring='f1_macro',verbose=0)\n",
    "print(score_list) \n",
    "print(\"F1:평균점수:\", np.mean(score_list))"
   ]
  },
  {
   "cell_type": "markdown",
   "id": "0ff72157",
   "metadata": {},
   "source": [
    "## GridSearchCV(cv = 튜닝)"
   ]
  },
  {
   "cell_type": "code",
   "execution_count": 30,
   "id": "37970c22",
   "metadata": {},
   "outputs": [
    {
     "name": "stdout",
     "output_type": "stream",
     "text": [
      "0.9664021164021165\n",
      "DecisionTreeClassifier(max_depth=3, random_state=36)\n",
      "{'max_depth': 3, 'min_samples_split': 2}\n",
      "F1 : 0.966583\n"
     ]
    }
   ],
   "source": [
    "from sklearn.model_selection import GridSearchCV\n",
    "#cross_val_score +  param_grid(튜닝) / refit=True(best모델반영)\n",
    "myparam = {'max_depth':[1,3,5,7], 'min_samples_split':[1,2,3]}\n",
    "GCV_model = GridSearchCV(dt, param_grid=myparam, refit=True, cv=10, scoring='f1_macro',verbose=0)\n",
    "GCV_model.fit(X_train, y_train)\n",
    "\n",
    "#max_depth 4번 * min_samples_split 3번 * cv=5  = 총 60번 학습\n",
    "print(GCV_model.best_score_)\n",
    "print(GCV_model.best_estimator_)\n",
    "print(GCV_model.best_params_)\n",
    "\n",
    "pred = GCV_model.predict(X_test)\n",
    "df_score = f1_score(y_test,pred, average='macro')\n",
    "print(\"F1 : {:.6f}\".format(df_score))"
   ]
  }
 ],
 "metadata": {
  "kernelspec": {
   "display_name": "Python 3",
   "language": "python",
   "name": "python3"
  },
  "language_info": {
   "codemirror_mode": {
    "name": "ipython",
    "version": 3
   },
   "file_extension": ".py",
   "mimetype": "text/x-python",
   "name": "python",
   "nbconvert_exporter": "python",
   "pygments_lexer": "ipython3",
   "version": "3.7.6"
  }
 },
 "nbformat": 4,
 "nbformat_minor": 5
}
